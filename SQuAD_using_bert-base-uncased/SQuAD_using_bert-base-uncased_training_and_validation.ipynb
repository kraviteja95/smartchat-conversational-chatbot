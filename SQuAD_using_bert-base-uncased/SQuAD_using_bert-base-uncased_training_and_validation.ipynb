{
 "cells": [
  {
   "cell_type": "markdown",
   "id": "b179e8ac-1c55-4d0d-8f12-fff32f5d9c8a",
   "metadata": {},
   "source": [
    "**Authors:** \n",
    "\n",
    "- Ravi Teja Kothuru (Primary)\n",
    "- Soumi Ray\n",
    "- Anwesha Sarangi\n",
    "\n",
    "**Title of the Project:** SmartChat: A Context-Aware Conversational Agent\n",
    "\n",
    "**Description of the Project:** Develop a chatbot that can effectively adapt to context and topic shifts in a conversation, leveraging the Stanford Question Answering Dataset to provide informed and relevant responses, and thereby increasing user satisfaction and engagement.\n",
    "\n",
    "**Objectives of the Project:** Create a user-friendly web or app interface that enables users to have natural and coherent conversations with the chatbot, with high satisfaction rating.\n",
    "\n",
    "\n",
    "**Name of the Dataset:** Stanford Question Answering Dataset\n",
    "\n",
    "**Description of the Dataset:** The Stanford Question Answering Dataset (SQuAD) is a reading comprehension dataset consisting of questions posed by crowdworkers on a set of Wikipedia articles. The answer to every question is a segment of text, or span, from the corresponding reading passage. There are 100,000+ question-answer pairs on 500+ articles.\n",
    "More information can be found at: https://rajpurkar.github.io/SQuAD-explorer/\n",
    "\n",
    "**Dataset Source:**\n",
    "\n",
    "Kaggle (https://www.kaggle.com/datasets/stanfordu/stanford-question-answering-dataset)\n",
    "\n",
    "***Number of Variables in Dataset:*** There are 2 variables in this dataset\n",
    "\n",
    "- data\n",
    "- version\n",
    "\n",
    "Each of these have other variables such as:\n",
    "\n",
    "- ***context***: A lengthy paragraph that has some information.\n",
    "- ***question***: A question based on the context.\n",
    "- ***answer***: An answer to the context from the context.\n",
    "- ***ans_start***: The index value of context where the answer to the question is started.\n",
    "- ***ans_end***: The index value of context where the answer to the question is ended.\n",
    "\n",
    "***Size of the Dataset:*** The dataset has 2 JSON files. One is for training and the other is for validation\n",
    "\n",
    "- Training Dataset's filename is **train-v1.1.json** and it size is **30.3 MB**.\n",
    "- Validation Dataset's filename is **dev-v1.1.json** and it size is **4.9 MB**."
   ]
  },
  {
   "cell_type": "markdown",
   "id": "0e3e2f3e-4960-4bb8-86ec-c82b43e5afb7",
   "metadata": {},
   "source": [
    "# Import all the required libraries"
   ]
  },
  {
   "cell_type": "code",
   "execution_count": 36,
   "id": "cc5f16d3-bdce-468b-afec-3b481f6baccb",
   "metadata": {},
   "outputs": [
    {
     "name": "stderr",
     "output_type": "stream",
     "text": [
      "huggingface/tokenizers: The current process just got forked, after parallelism has already been used. Disabling parallelism to avoid deadlocks...\n",
      "To disable this warning, you can either:\n",
      "\t- Avoid using `tokenizers` before the fork if possible\n",
      "\t- Explicitly set the environment variable TOKENIZERS_PARALLELISM=(true | false)\n"
     ]
    },
    {
     "name": "stdout",
     "output_type": "stream",
     "text": [
      "Requirement already satisfied: torch in /opt/conda/lib/python3.11/site-packages (2.4.1)\n",
      "Requirement already satisfied: transformers in /opt/conda/lib/python3.11/site-packages (4.44.1)\n",
      "Requirement already satisfied: datasets in /opt/conda/lib/python3.11/site-packages (3.0.1)\n",
      "Requirement already satisfied: tqdm in /opt/conda/lib/python3.11/site-packages (4.66.5)\n",
      "Requirement already satisfied: scikit-learn in /opt/conda/lib/python3.11/site-packages (1.5.2)\n",
      "Requirement already satisfied: rouge-score in /opt/conda/lib/python3.11/site-packages (0.1.2)\n",
      "Requirement already satisfied: nltk in /opt/conda/lib/python3.11/site-packages (3.9.1)\n",
      "Requirement already satisfied: filelock in /opt/conda/lib/python3.11/site-packages (from torch) (3.16.1)\n",
      "Requirement already satisfied: typing-extensions>=4.8.0 in /opt/conda/lib/python3.11/site-packages (from torch) (4.12.2)\n",
      "Requirement already satisfied: sympy in /opt/conda/lib/python3.11/site-packages (from torch) (1.13.3)\n",
      "Requirement already satisfied: networkx in /opt/conda/lib/python3.11/site-packages (from torch) (3.3)\n",
      "Requirement already satisfied: jinja2 in /opt/conda/lib/python3.11/site-packages (from torch) (3.1.4)\n",
      "Requirement already satisfied: fsspec in /opt/conda/lib/python3.11/site-packages (from torch) (2024.6.1)\n",
      "Requirement already satisfied: nvidia-cuda-nvrtc-cu12==12.1.105 in /opt/conda/lib/python3.11/site-packages (from torch) (12.1.105)\n",
      "Requirement already satisfied: nvidia-cuda-runtime-cu12==12.1.105 in /opt/conda/lib/python3.11/site-packages (from torch) (12.1.105)\n",
      "Requirement already satisfied: nvidia-cuda-cupti-cu12==12.1.105 in /opt/conda/lib/python3.11/site-packages (from torch) (12.1.105)\n",
      "Requirement already satisfied: nvidia-cudnn-cu12==9.1.0.70 in /opt/conda/lib/python3.11/site-packages (from torch) (9.1.0.70)\n",
      "Requirement already satisfied: nvidia-cublas-cu12==12.1.3.1 in /opt/conda/lib/python3.11/site-packages (from torch) (12.1.3.1)\n",
      "Requirement already satisfied: nvidia-cufft-cu12==11.0.2.54 in /opt/conda/lib/python3.11/site-packages (from torch) (11.0.2.54)\n",
      "Requirement already satisfied: nvidia-curand-cu12==10.3.2.106 in /opt/conda/lib/python3.11/site-packages (from torch) (10.3.2.106)\n",
      "Requirement already satisfied: nvidia-cusolver-cu12==11.4.5.107 in /opt/conda/lib/python3.11/site-packages (from torch) (11.4.5.107)\n",
      "Requirement already satisfied: nvidia-cusparse-cu12==12.1.0.106 in /opt/conda/lib/python3.11/site-packages (from torch) (12.1.0.106)\n",
      "Requirement already satisfied: nvidia-nccl-cu12==2.20.5 in /opt/conda/lib/python3.11/site-packages (from torch) (2.20.5)\n",
      "Requirement already satisfied: nvidia-nvtx-cu12==12.1.105 in /opt/conda/lib/python3.11/site-packages (from torch) (12.1.105)\n",
      "Requirement already satisfied: triton==3.0.0 in /opt/conda/lib/python3.11/site-packages (from torch) (3.0.0)\n",
      "Requirement already satisfied: nvidia-nvjitlink-cu12 in /opt/conda/lib/python3.11/site-packages (from nvidia-cusolver-cu12==11.4.5.107->torch) (12.6.77)\n",
      "Requirement already satisfied: huggingface-hub<1.0,>=0.23.2 in /opt/conda/lib/python3.11/site-packages (from transformers) (0.25.2)\n",
      "Requirement already satisfied: numpy>=1.17 in /opt/conda/lib/python3.11/site-packages (from transformers) (1.26.4)\n",
      "Requirement already satisfied: packaging>=20.0 in /opt/conda/lib/python3.11/site-packages (from transformers) (24.1)\n",
      "Requirement already satisfied: pyyaml>=5.1 in /opt/conda/lib/python3.11/site-packages (from transformers) (6.0.2)\n",
      "Requirement already satisfied: regex!=2019.12.17 in /opt/conda/lib/python3.11/site-packages (from transformers) (2024.9.11)\n",
      "Requirement already satisfied: requests in /opt/conda/lib/python3.11/site-packages (from transformers) (2.32.3)\n",
      "Requirement already satisfied: safetensors>=0.4.1 in /opt/conda/lib/python3.11/site-packages (from transformers) (0.4.5)\n",
      "Requirement already satisfied: tokenizers<0.20,>=0.19 in /opt/conda/lib/python3.11/site-packages (from transformers) (0.19.1)\n",
      "Requirement already satisfied: pyarrow>=15.0.0 in /opt/conda/lib/python3.11/site-packages (from datasets) (17.0.0)\n",
      "Requirement already satisfied: dill<0.3.9,>=0.3.0 in /opt/conda/lib/python3.11/site-packages (from datasets) (0.3.8)\n",
      "Requirement already satisfied: pandas in /opt/conda/lib/python3.11/site-packages (from datasets) (2.2.2)\n",
      "Requirement already satisfied: xxhash in /opt/conda/lib/python3.11/site-packages (from datasets) (3.5.0)\n",
      "Requirement already satisfied: multiprocess in /opt/conda/lib/python3.11/site-packages (from datasets) (0.70.16)\n",
      "Requirement already satisfied: aiohttp in /opt/conda/lib/python3.11/site-packages (from datasets) (3.10.9)\n",
      "Requirement already satisfied: scipy>=1.6.0 in /opt/conda/lib/python3.11/site-packages (from scikit-learn) (1.14.1)\n",
      "Requirement already satisfied: joblib>=1.2.0 in /opt/conda/lib/python3.11/site-packages (from scikit-learn) (1.4.2)\n",
      "Requirement already satisfied: threadpoolctl>=3.1.0 in /opt/conda/lib/python3.11/site-packages (from scikit-learn) (3.5.0)\n",
      "Requirement already satisfied: absl-py in /opt/conda/lib/python3.11/site-packages (from rouge-score) (2.1.0)\n",
      "Requirement already satisfied: six>=1.14.0 in /opt/conda/lib/python3.11/site-packages (from rouge-score) (1.16.0)\n",
      "Requirement already satisfied: click in /opt/conda/lib/python3.11/site-packages (from nltk) (8.1.7)\n",
      "Requirement already satisfied: aiohappyeyeballs>=2.3.0 in /opt/conda/lib/python3.11/site-packages (from aiohttp->datasets) (2.4.3)\n",
      "Requirement already satisfied: aiosignal>=1.1.2 in /opt/conda/lib/python3.11/site-packages (from aiohttp->datasets) (1.3.1)\n",
      "Requirement already satisfied: attrs>=17.3.0 in /opt/conda/lib/python3.11/site-packages (from aiohttp->datasets) (24.2.0)\n",
      "Requirement already satisfied: frozenlist>=1.1.1 in /opt/conda/lib/python3.11/site-packages (from aiohttp->datasets) (1.4.1)\n",
      "Requirement already satisfied: multidict<7.0,>=4.5 in /opt/conda/lib/python3.11/site-packages (from aiohttp->datasets) (6.1.0)\n",
      "Requirement already satisfied: yarl<2.0,>=1.12.0 in /opt/conda/lib/python3.11/site-packages (from aiohttp->datasets) (1.14.0)\n",
      "Requirement already satisfied: charset-normalizer<4,>=2 in /opt/conda/lib/python3.11/site-packages (from requests->transformers) (3.4.0)\n",
      "Requirement already satisfied: idna<4,>=2.5 in /opt/conda/lib/python3.11/site-packages (from requests->transformers) (3.10)\n",
      "Requirement already satisfied: urllib3<3,>=1.21.1 in /opt/conda/lib/python3.11/site-packages (from requests->transformers) (2.2.3)\n",
      "Requirement already satisfied: certifi>=2017.4.17 in /opt/conda/lib/python3.11/site-packages (from requests->transformers) (2024.8.30)\n",
      "Requirement already satisfied: MarkupSafe>=2.0 in /opt/conda/lib/python3.11/site-packages (from jinja2->torch) (3.0.1)\n",
      "Requirement already satisfied: python-dateutil>=2.8.2 in /opt/conda/lib/python3.11/site-packages (from pandas->datasets) (2.9.0.post0)\n",
      "Requirement already satisfied: pytz>=2020.1 in /opt/conda/lib/python3.11/site-packages (from pandas->datasets) (2024.2)\n",
      "Requirement already satisfied: tzdata>=2022.7 in /opt/conda/lib/python3.11/site-packages (from pandas->datasets) (2024.2)\n",
      "Requirement already satisfied: mpmath<1.4,>=1.1.0 in /opt/conda/lib/python3.11/site-packages (from sympy->torch) (1.3.0)\n",
      "Requirement already satisfied: propcache>=0.2.0 in /opt/conda/lib/python3.11/site-packages (from yarl<2.0,>=1.12.0->aiohttp->datasets) (0.2.0)\n",
      "\u001b[33mWARNING: Running pip as the 'root' user can result in broken permissions and conflicting behaviour with the system package manager, possibly rendering your system unusable.It is recommended to use a virtual environment instead: https://pip.pypa.io/warnings/venv. Use the --root-user-action option if you know what you are doing and want to suppress this warning.\u001b[0m\u001b[33m\n",
      "\u001b[0m"
     ]
    }
   ],
   "source": [
    "# torch - for PyTorch library for deep learning\n",
    "# transformers - for loading pre-trained models and tokenizers from Hugging Face\n",
    "# datasets - for loading datasets, such as SQuAD\n",
    "# tqdm - for displaying progress bars in loops\n",
    "# scikit-learn - for various metrics and machine learning tools\n",
    "# rouge-score - for computing ROUGE score, used in evaluating text generation models\n",
    "# nltk - Natural Language Toolkit for working with human language data\n",
    "!pip install torch transformers datasets tqdm scikit-learn rouge-score nltk\n",
    "\n",
    "# Import the regular expressions module for text processing\n",
    "import re\n",
    "\n",
    "# Import pandas for data manipulation and analysis, especially for handling DataFrames\n",
    "import pandas as pd\n",
    "\n",
    "# Import PyTorch library\n",
    "import torch\n",
    "\n",
    "# Import Dataset and DataLoader classes for creating custom datasets and loading them during training\n",
    "from torch.utils.data import Dataset, DataLoader\n",
    "\n",
    "# Import BertTokenizerFast for fast tokenization, and BertForQuestionAnswering for question answering tasks using BERT\n",
    "from transformers import BertTokenizerFast, BertForQuestionAnswering, get_scheduler\n",
    "\n",
    "# Import tqdm for showing a progress bar during iterations\n",
    "from tqdm import tqdm\n",
    "\n",
    "# Import os for interacting with the operating system, such as file and directory management\n",
    "import os\n",
    "\n",
    "# Import precision_score, recall_score, and f1_score for evaluating model performance using precision, recall, and F1 metrics\n",
    "from sklearn.metrics import f1_score, precision_score, recall_score\n",
    "\n",
    "# Import rouge_scorer for calculating ROUGE scores, a metric used for evaluating the quality of text generation\n",
    "from rouge_score import rouge_scorer\n",
    "\n",
    "# Import sentence_bleu and single_meteor_score from nltk for calculating BLEU and METEOR scores, used in natural language processing evaluation\n",
    "from nltk.translate.bleu_score import sentence_bleu\n",
    "from nltk.translate.meteor_score import single_meteor_score\n",
    "\n",
    "# Import matplotlib.pyplot for creating plots and visualizations\n",
    "import matplotlib.pyplot as plt\n",
    "\n",
    "# Import seaborn for enhanced data visualization, built on top of matplotlib\n",
    "import seaborn as sns"
   ]
  },
  {
   "cell_type": "markdown",
   "id": "c39a9b04-e395-44b0-8f38-e00c7b068671",
   "metadata": {},
   "source": [
    "# Load Dataset and perform basic pre-processing"
   ]
  },
  {
   "cell_type": "markdown",
   "id": "3411f681-817b-499f-90ff-a0ee77e7cbaf",
   "metadata": {},
   "source": [
    "## Load the SQuAD dataset JSON files"
   ]
  },
  {
   "cell_type": "code",
   "execution_count": 2,
   "id": "79c59418-17da-4ce8-a956-b81410f3eaf6",
   "metadata": {},
   "outputs": [],
   "source": [
    "train_data = pd.read_json('train-v1.1.json')\n",
    "val_data = pd.read_json('dev-v1.1.json')"
   ]
  },
  {
   "cell_type": "markdown",
   "id": "319d5762-b429-4ee5-a100-998a4d5ef167",
   "metadata": {},
   "source": [
    "## Convert the loaded data to a DataFrame"
   ]
  },
  {
   "cell_type": "code",
   "execution_count": 3,
   "id": "66b941cf-4ad9-427d-94d0-22dbb034646a",
   "metadata": {},
   "outputs": [],
   "source": [
    "def getDataIntoFrame(squad_data):\n",
    "    columns = ['context', 'question', 'answer', 'ans_start', 'ans_end']\n",
    "    dataset = pd.DataFrame(columns=columns)\n",
    "    i = 0\n",
    "    for value in squad_data['data']:\n",
    "        for data in value['paragraphs']:\n",
    "            for qas in data['qas']:\n",
    "                answer = qas['answers'][0]['text'] if qas['answers'] else \"No answer available.\"\n",
    "                answer_start = qas['answers'][0]['answer_start'] if qas['answers'] else -1\n",
    "                    \n",
    "                dataset.loc[i] =[data['context'], qas['question'], answer, answer_start, 0]\n",
    "                i += 1\n",
    "\n",
    "    return dataset"
   ]
  },
  {
   "cell_type": "markdown",
   "id": "2348685d-b732-4ae1-9ba7-40836e9b5894",
   "metadata": {},
   "source": [
    "## Clean Text for both Train and Validation dataframes\n",
    "\n",
    "As part of cleaning the text, we performed the following steps:\n",
    "\n",
    "- Converted the complete text to lower case to maintain consistency\n",
    "- The actually loaded JSON and the converted dataframes have newline `\\n` and carriage returns `\\r`. Removed them.\n",
    "- Replaced multiple spaces with single space\n",
    "- Stripped all the leading and trailing whitespaces"
   ]
  },
  {
   "cell_type": "code",
   "execution_count": 4,
   "id": "01e162a8-cee8-4ddb-a19a-c47b18fadefe",
   "metadata": {},
   "outputs": [],
   "source": [
    "def clean_text(text):\n",
    "    # Lowercase the text (since we're using an uncased model)\n",
    "    text = text.lower()\n",
    "    # Remove newline and carriage returns\n",
    "    text = text.replace('\\n', ' ').replace('\\r', ' ')\n",
    "    # Replace multiple spaces with a single space\n",
    "    text = re.sub(r'\\s+', ' ', text)\n",
    "    # Remove leading and trailing whitespace\n",
    "    text = text.strip()\n",
    "    return text\n",
    "\n",
    "\n",
    "def cleanData(dataset: pd.DataFrame):\n",
    "    dataset[['context', 'question', 'answer']] = dataset[['context', 'question', 'answer']].map(clean_text)\n",
    "\n",
    "\n",
    "train_df = getDataIntoFrame(train_data)\n",
    "val_df = getDataIntoFrame(val_data)"
   ]
  },
  {
   "cell_type": "code",
   "execution_count": 5,
   "id": "78081ecb-7b82-4679-8495-ed42825bd2f1",
   "metadata": {},
   "outputs": [
    {
     "data": {
      "text/html": [
       "<div>\n",
       "<style scoped>\n",
       "    .dataframe tbody tr th:only-of-type {\n",
       "        vertical-align: middle;\n",
       "    }\n",
       "\n",
       "    .dataframe tbody tr th {\n",
       "        vertical-align: top;\n",
       "    }\n",
       "\n",
       "    .dataframe thead th {\n",
       "        text-align: right;\n",
       "    }\n",
       "</style>\n",
       "<table border=\"1\" class=\"dataframe\">\n",
       "  <thead>\n",
       "    <tr style=\"text-align: right;\">\n",
       "      <th></th>\n",
       "      <th>context</th>\n",
       "      <th>question</th>\n",
       "      <th>answer</th>\n",
       "      <th>ans_start</th>\n",
       "      <th>ans_end</th>\n",
       "    </tr>\n",
       "  </thead>\n",
       "  <tbody>\n",
       "    <tr>\n",
       "      <th>0</th>\n",
       "      <td>architecturally, the school has a catholic cha...</td>\n",
       "      <td>to whom did the virgin mary allegedly appear i...</td>\n",
       "      <td>saint bernadette soubirous</td>\n",
       "      <td>515</td>\n",
       "      <td>0</td>\n",
       "    </tr>\n",
       "    <tr>\n",
       "      <th>1</th>\n",
       "      <td>architecturally, the school has a catholic cha...</td>\n",
       "      <td>what is in front of the notre dame main building?</td>\n",
       "      <td>a copper statue of christ</td>\n",
       "      <td>188</td>\n",
       "      <td>0</td>\n",
       "    </tr>\n",
       "    <tr>\n",
       "      <th>2</th>\n",
       "      <td>architecturally, the school has a catholic cha...</td>\n",
       "      <td>the basilica of the sacred heart at notre dame...</td>\n",
       "      <td>the main building</td>\n",
       "      <td>279</td>\n",
       "      <td>0</td>\n",
       "    </tr>\n",
       "    <tr>\n",
       "      <th>3</th>\n",
       "      <td>architecturally, the school has a catholic cha...</td>\n",
       "      <td>what is the grotto at notre dame?</td>\n",
       "      <td>a marian place of prayer and reflection</td>\n",
       "      <td>381</td>\n",
       "      <td>0</td>\n",
       "    </tr>\n",
       "    <tr>\n",
       "      <th>4</th>\n",
       "      <td>architecturally, the school has a catholic cha...</td>\n",
       "      <td>what sits on top of the main building at notre...</td>\n",
       "      <td>a golden statue of the virgin mary</td>\n",
       "      <td>92</td>\n",
       "      <td>0</td>\n",
       "    </tr>\n",
       "  </tbody>\n",
       "</table>\n",
       "</div>"
      ],
      "text/plain": [
       "                                             context  \\\n",
       "0  architecturally, the school has a catholic cha...   \n",
       "1  architecturally, the school has a catholic cha...   \n",
       "2  architecturally, the school has a catholic cha...   \n",
       "3  architecturally, the school has a catholic cha...   \n",
       "4  architecturally, the school has a catholic cha...   \n",
       "\n",
       "                                            question  \\\n",
       "0  to whom did the virgin mary allegedly appear i...   \n",
       "1  what is in front of the notre dame main building?   \n",
       "2  the basilica of the sacred heart at notre dame...   \n",
       "3                  what is the grotto at notre dame?   \n",
       "4  what sits on top of the main building at notre...   \n",
       "\n",
       "                                    answer  ans_start  ans_end  \n",
       "0               saint bernadette soubirous        515        0  \n",
       "1                a copper statue of christ        188        0  \n",
       "2                        the main building        279        0  \n",
       "3  a marian place of prayer and reflection        381        0  \n",
       "4       a golden statue of the virgin mary         92        0  "
      ]
     },
     "execution_count": 5,
     "metadata": {},
     "output_type": "execute_result"
    }
   ],
   "source": [
    "# Call the cleanData function for both train_df and val_df\n",
    "cleanData(train_df)\n",
    "cleanData(val_df)\n",
    "\n",
    "# Print first 5 rows of the train dataframe\n",
    "train_df.head()"
   ]
  },
  {
   "cell_type": "code",
   "execution_count": 6,
   "id": "a2087ffa-16f5-41a0-b20d-d2dfb8490f26",
   "metadata": {},
   "outputs": [
    {
     "data": {
      "text/html": [
       "<div>\n",
       "<style scoped>\n",
       "    .dataframe tbody tr th:only-of-type {\n",
       "        vertical-align: middle;\n",
       "    }\n",
       "\n",
       "    .dataframe tbody tr th {\n",
       "        vertical-align: top;\n",
       "    }\n",
       "\n",
       "    .dataframe thead th {\n",
       "        text-align: right;\n",
       "    }\n",
       "</style>\n",
       "<table border=\"1\" class=\"dataframe\">\n",
       "  <thead>\n",
       "    <tr style=\"text-align: right;\">\n",
       "      <th></th>\n",
       "      <th>context</th>\n",
       "      <th>question</th>\n",
       "      <th>answer</th>\n",
       "      <th>ans_start</th>\n",
       "      <th>ans_end</th>\n",
       "    </tr>\n",
       "  </thead>\n",
       "  <tbody>\n",
       "    <tr>\n",
       "      <th>0</th>\n",
       "      <td>super bowl 50 was an american football game to...</td>\n",
       "      <td>which nfl team represented the afc at super bo...</td>\n",
       "      <td>denver broncos</td>\n",
       "      <td>177</td>\n",
       "      <td>0</td>\n",
       "    </tr>\n",
       "    <tr>\n",
       "      <th>1</th>\n",
       "      <td>super bowl 50 was an american football game to...</td>\n",
       "      <td>which nfl team represented the nfc at super bo...</td>\n",
       "      <td>carolina panthers</td>\n",
       "      <td>249</td>\n",
       "      <td>0</td>\n",
       "    </tr>\n",
       "    <tr>\n",
       "      <th>2</th>\n",
       "      <td>super bowl 50 was an american football game to...</td>\n",
       "      <td>where did super bowl 50 take place?</td>\n",
       "      <td>santa clara, california</td>\n",
       "      <td>403</td>\n",
       "      <td>0</td>\n",
       "    </tr>\n",
       "    <tr>\n",
       "      <th>3</th>\n",
       "      <td>super bowl 50 was an american football game to...</td>\n",
       "      <td>which nfl team won super bowl 50?</td>\n",
       "      <td>denver broncos</td>\n",
       "      <td>177</td>\n",
       "      <td>0</td>\n",
       "    </tr>\n",
       "    <tr>\n",
       "      <th>4</th>\n",
       "      <td>super bowl 50 was an american football game to...</td>\n",
       "      <td>what color was used to emphasize the 50th anni...</td>\n",
       "      <td>gold</td>\n",
       "      <td>488</td>\n",
       "      <td>0</td>\n",
       "    </tr>\n",
       "  </tbody>\n",
       "</table>\n",
       "</div>"
      ],
      "text/plain": [
       "                                             context  \\\n",
       "0  super bowl 50 was an american football game to...   \n",
       "1  super bowl 50 was an american football game to...   \n",
       "2  super bowl 50 was an american football game to...   \n",
       "3  super bowl 50 was an american football game to...   \n",
       "4  super bowl 50 was an american football game to...   \n",
       "\n",
       "                                            question                   answer  \\\n",
       "0  which nfl team represented the afc at super bo...           denver broncos   \n",
       "1  which nfl team represented the nfc at super bo...        carolina panthers   \n",
       "2                where did super bowl 50 take place?  santa clara, california   \n",
       "3                  which nfl team won super bowl 50?           denver broncos   \n",
       "4  what color was used to emphasize the 50th anni...                     gold   \n",
       "\n",
       "   ans_start  ans_end  \n",
       "0        177        0  \n",
       "1        249        0  \n",
       "2        403        0  \n",
       "3        177        0  \n",
       "4        488        0  "
      ]
     },
     "execution_count": 6,
     "metadata": {},
     "output_type": "execute_result"
    }
   ],
   "source": [
    "# Print first 5 rows of the validation dataframe\n",
    "val_df.head()"
   ]
  },
  {
   "cell_type": "code",
   "execution_count": 7,
   "id": "23fa17e6-27a0-4e43-8382-978b1518321c",
   "metadata": {},
   "outputs": [
    {
     "data": {
      "text/plain": [
       "(87599, 5)"
      ]
     },
     "execution_count": 7,
     "metadata": {},
     "output_type": "execute_result"
    }
   ],
   "source": [
    "# Print the number of rows and columns of train dataframe\n",
    "train_df.shape"
   ]
  },
  {
   "cell_type": "code",
   "execution_count": 8,
   "id": "4a187919-924c-4e70-9a7f-d385b6c7e4f4",
   "metadata": {},
   "outputs": [
    {
     "data": {
      "text/plain": [
       "(10570, 5)"
      ]
     },
     "execution_count": 8,
     "metadata": {},
     "output_type": "execute_result"
    }
   ],
   "source": [
    "# Print the number of rows and columns of validation dataframe\n",
    "val_df.shape"
   ]
  },
  {
   "cell_type": "markdown",
   "id": "bfd48b44-28b7-499b-85ee-a789adf8f276",
   "metadata": {},
   "source": [
    "## Save Train and Validation dataframes to CSV files"
   ]
  },
  {
   "cell_type": "code",
   "execution_count": 9,
   "id": "fd76aaa1-b028-4e97-8de1-0bd28fbdcf09",
   "metadata": {},
   "outputs": [],
   "source": [
    "train_df.to_csv(\"squad_train.csv\", index=False)"
   ]
  },
  {
   "cell_type": "code",
   "execution_count": 10,
   "id": "fa913145-4de4-48f6-a047-5e9cdc5b3d4f",
   "metadata": {},
   "outputs": [],
   "source": [
    "val_df.to_csv(\"squad_validation.csv\", index=False)"
   ]
  },
  {
   "cell_type": "markdown",
   "id": "64f79668-90e6-40c0-b694-281d2518cab8",
   "metadata": {},
   "source": [
    "# Create the custom SQuAD dataset from the above cleaned data that is suitable for model training"
   ]
  },
  {
   "cell_type": "code",
   "execution_count": 11,
   "id": "8fb422b3-fd60-4cb2-a21f-b885ce23b353",
   "metadata": {},
   "outputs": [
    {
     "data": {
      "application/vnd.jupyter.widget-view+json": {
       "model_id": "b9d7b0f31d114e029d5e7ab09bc1644f",
       "version_major": 2,
       "version_minor": 0
      },
      "text/plain": [
       "tokenizer_config.json:   0%|          | 0.00/48.0 [00:00<?, ?B/s]"
      ]
     },
     "metadata": {},
     "output_type": "display_data"
    },
    {
     "data": {
      "application/vnd.jupyter.widget-view+json": {
       "model_id": "312a88095bad432a9efa6b8337c4f839",
       "version_major": 2,
       "version_minor": 0
      },
      "text/plain": [
       "vocab.txt:   0%|          | 0.00/232k [00:00<?, ?B/s]"
      ]
     },
     "metadata": {},
     "output_type": "display_data"
    },
    {
     "data": {
      "application/vnd.jupyter.widget-view+json": {
       "model_id": "7119f2085c03424194da76be06ce6197",
       "version_major": 2,
       "version_minor": 0
      },
      "text/plain": [
       "tokenizer.json:   0%|          | 0.00/466k [00:00<?, ?B/s]"
      ]
     },
     "metadata": {},
     "output_type": "display_data"
    },
    {
     "data": {
      "application/vnd.jupyter.widget-view+json": {
       "model_id": "9df9bbecbfa24824b78a14fbf70cc2f9",
       "version_major": 2,
       "version_minor": 0
      },
      "text/plain": [
       "config.json:   0%|          | 0.00/570 [00:00<?, ?B/s]"
      ]
     },
     "metadata": {},
     "output_type": "display_data"
    },
    {
     "name": "stderr",
     "output_type": "stream",
     "text": [
      "/opt/conda/lib/python3.11/site-packages/transformers/tokenization_utils_base.py:1601: FutureWarning: `clean_up_tokenization_spaces` was not set. It will be set to `True` by default. This behavior will be depracted in transformers v4.45, and will be then set to `False` by default. For more details check this issue: https://github.com/huggingface/transformers/issues/31884\n",
      "  warnings.warn(\n"
     ]
    }
   ],
   "source": [
    "\n",
    "# Create a custom dataset class for our data\n",
    "class SQuADataset(Dataset):\n",
    "    def __init__(self, df, tokenizer, max_len):\n",
    "        self.df = df\n",
    "        self.tokenizer = tokenizer\n",
    "        self.max_len = max_len\n",
    "\n",
    "    def __len__(self):\n",
    "        return self.df.shape[0]\n",
    "\n",
    "    def __getitem__(self, idx):\n",
    "        context = self.df.iloc[idx]['context']\n",
    "        question = self.df.iloc[idx]['question']\n",
    "        answer = self.df.iloc[idx]['answer']\n",
    "        answer_start = self.df.iloc[idx]['ans_start']\n",
    "\n",
    "        encoding = self.tokenizer.encode_plus(\n",
    "            context,\n",
    "            question,\n",
    "            max_length=self.max_len,\n",
    "            truncation=True,\n",
    "            padding='max_length',\n",
    "            return_offsets_mapping=True,\n",
    "            return_token_type_ids=True,\n",
    "            return_attention_mask=True,\n",
    "            return_tensors='pt'\n",
    "        )\n",
    "        \n",
    "        offset_mapping = encoding['offset_mapping'].squeeze().tolist()\n",
    "        \n",
    "         # Initialize start and end positions of the answer\n",
    "        start_position = 0\n",
    "        end_position = 0\n",
    "\n",
    "        # Find the token positions corresponding to the answer if it's not unanswerable\n",
    "        if answer_start != -1:\n",
    "            for idx, (start, end) in enumerate(offset_mapping):\n",
    "                if start <= answer_start < end:\n",
    "                    start_position = idx\n",
    "                if start < answer_start + len(answer) <= end:\n",
    "                    end_position = idx\n",
    "                    break\n",
    "\n",
    "        return {\n",
    "            'input_ids': encoding['input_ids'].squeeze(),\n",
    "            'attention_mask': encoding['attention_mask'].squeeze(),\n",
    "            'token_type_ids': encoding['token_type_ids'].squeeze(),\n",
    "            'start_positions': torch.tensor(start_position),\n",
    "            'end_positions': torch.tensor(end_position)\n",
    "        }\n",
    "\n",
    "\n",
    "# Set up the tokenizer and model\n",
    "tokenizer = BertTokenizerFast.from_pretrained('bert-base-uncased')\n",
    "\n",
    "# Create the dataset and data loader\n",
    "train_dataset = SQuADataset(train_df, tokenizer, max_len=128)\n",
    "val_dataset = SQuADataset(val_df, tokenizer, max_len=128)"
   ]
  },
  {
   "cell_type": "markdown",
   "id": "a67520ea-adb5-4c98-87fb-49d8f52bf47c",
   "metadata": {},
   "source": [
    "## Convert the created train and validation datasets to Pytorch Tensors"
   ]
  },
  {
   "cell_type": "code",
   "execution_count": 12,
   "id": "4a749821-d060-4592-a16a-5d11b48d8056",
   "metadata": {},
   "outputs": [],
   "source": [
    "train_loader = DataLoader(train_dataset, batch_size=32, shuffle=True)\n",
    "val_loader = DataLoader(val_dataset, batch_size=32, shuffle=False)"
   ]
  },
  {
   "cell_type": "markdown",
   "id": "b75ee3d9-b300-474c-a38e-12297e166d3f",
   "metadata": {},
   "source": [
    "# Decide which architecture to use"
   ]
  },
  {
   "cell_type": "markdown",
   "id": "aab08ddb-6dbd-4aff-98e4-d20bf7bb5d1a",
   "metadata": {},
   "source": [
    "## Comparison of the architectures"
   ]
  },
  {
   "cell_type": "markdown",
   "id": "1e18ab00-1af0-44d3-8ebb-802cde7ca6b1",
   "metadata": {},
   "source": [
    "To develop chatbots, we have different architectures. \n",
    "Let us better understand about them before deciding which one to use.\n",
    "\n",
    "### Differences Between Seq2Seq, Transformers, GPT, GPT-2 (Small, Medium, Large) and BERT (bert-base-uncased)\n",
    "\n",
    "| Feature            | Seq2Seq                                           | Transformers                                    | GPT                                               | GPT-2 (Small, Medium, Large)                      | BERT (bert-base-uncased)                          |\n",
    "|--------------------|--------------------------------------------------|------------------------------------------------|--------------------------------------------------|--------------------------------------------------|--------------------------------------------------|\n",
    "| **Definition**      | A model that transforms an input sequence into an output sequence using an encoder and decoder. | A deep learning architecture using self-attention mechanisms to process input sequences. | A specific Transformer model designed for generating text by predicting the next word in a sequence. | Variants of GPT with different sizes, increasing in the number of layers and parameters (small, medium, large) for more complex text generation tasks. | A bidirectional Transformer-based model designed for understanding the context of words within a sentence. |\n",
    "| **Usage**          | Tasks where input and output are sequences, like translation and summarization. | A wide range of NLP tasks, including translation and summarization. | Primarily used for text generation tasks like chatbots and text completion. | Text generation, summarization, and creative writing; larger models improve quality and context handling. | Tasks such as sentence classification, named entity recognition, and question answering. |\n",
    "| **Information**    | Consists of an encoder that processes the input and a decoder that generates the output. | Composed of an encoder and decoder stack, using self-attention to capture relationships between words. | Utilizes only the decoder part of the Transformer, focusing on unidirectional text generation. | Different sizes (small, medium, large) correspond to 124M, 355M, and 774M parameters, respectively; increasing size allows for better handling of complex tasks. | Uses a bidirectional approach to capture context from both left and right; pretrained on large corpora with masked language modeling. |\n",
    "| **Strengths**      | Effective for varying output lengths; good at capturing context. | Can process sequences in parallel; captures long-range dependencies well. | Excellent at generating coherent and contextually relevant text; adapts to various topics. | Larger models generate higher-quality and more contextually accurate text; effective for nuanced text generation. | Strong at understanding contextual relationships within a sentence; performs well in language understanding tasks. |\n",
    "| **Limitations**    | Struggles with long sequences due to fixed-length context vectors; may not capture long-range dependencies well. | Requires substantial data and computational power; complexity can make fine-tuning harder. | May generate repetitive or nonsensical outputs; unidirectional nature limits contextual understanding compared to bidirectional models. | Larger models require more computational resources; may still struggle with very long context or nuanced tasks requiring deep understanding. | May not perform as well in text generation compared to GPT-based models; can require significant fine-tuning for specific tasks. |\n",
    "| **Applications**   | Machine translation, text summarization, conversational agents. | Machine translation, text generation, sentiment analysis. | Chatbots, text completion, creative writing assistance. | Advanced chatbots, long-form text generation, creative writing, and summarization. | Question answering, sentence classification, entity recognition, and text classification. |\n"
   ]
  },
  {
   "cell_type": "markdown",
   "id": "a0ddf759-98da-4b88-a36a-dac7ca771755",
   "metadata": {},
   "source": [
    "## Final Decision of the Architecture to use for training"
   ]
  },
  {
   "cell_type": "markdown",
   "id": "55fd769a-2872-4461-a487-b93e1811fa14",
   "metadata": {
    "jp-MarkdownHeadingCollapsed": true
   },
   "source": [
    "### Common Interpretations\n",
    "\n",
    "***Why Multi-turn conversations are not applicable?***\n",
    "- The SQuaD (satanford Question Answering) Dataset is actually not defined for multi-turn conversations. It is primarily used as a reading comprehension dataset, where there is a `context`, followed by a `question` and an `answer` to it, period. And the next row will have its own `context`, followed by a `question` and an `answer` to it.\n",
    "- There won't be any reference to previous questions and answers.\n",
    "- This dataset lacks dialogue-level anootations or context that allows the model to understand how previous Q&As influence the current question.\n",
    "- Usually in a multi-turn conversational system, a system generally needs to track the state of conversation. But that is not possible here.\n",
    "\n",
    "***What possibility is applicable?***\n",
    "- We have tweaked this in such a way that the it can handle variety of topics and it is context-aware."
   ]
  },
  {
   "cell_type": "markdown",
   "id": "72ee599f-9dbd-490b-a98c-b2fc0b24ae59",
   "metadata": {},
   "source": [
    "### Interpretations and Issues observed from GPT2-Medium architecture"
   ]
  },
  {
   "cell_type": "markdown",
   "id": "e66f3f3f-cad9-47a0-9b81-50cec4f2dc74",
   "metadata": {},
   "source": [
    "For this project, I have initially went with **GPT2-Medium** architecture.\n",
    "\n",
    "GPT2-Medium is actually very good for the following reasons for the same:\n",
    "\n",
    "**Text Generation Capability:** GPT has been specifically designed for generating the text, making it highly effective for producing logically reasoned responses in conversational contexts such as to-and-fro chats with chatbot.\n",
    "\n",
    "**Availability of Pre-trained Models:** Models like GPT-3 are pre-trained on extensive datasets. These kind of models deliver contextually appropriate responses on a wide range of topics without the need for extensive additional training.\n",
    "\n",
    "**Adaptability and Versatility:** The GPT architecture's exposure to a variety of text sources, allows it to adjust to different conversational styles, thereby imprvoing the user interactions.\n",
    "\n",
    "**Contextual Awareness:** GPT is very good at maintaining context throughout multiple chat exchanges. It leads to smoother and more continuous dialogues.\n",
    "\n",
    "**Implementation and Fine-tuning:** Making use of a pre-trained GPT model, we can conserve time and resources, as it demands less data and training compared to Seq2Seq models.\n",
    "\n",
    "**Performance in Chatbot Applications:** GPT has shown exceptional capability in generating human-like responses.\n",
    "\n",
    "Considering all these points, we have decided to go with the GPT architecture.\n",
    "\n",
    "GPT2-Medium has actually predicted very well. But unfortunately, the problem is - there is a small limitation to the developed/trained model.\n",
    "\n",
    "***The SQuAD dataset whatever we trained using the base GPT2-Medium model works very well in Linux/Ubuntu and Windows machines. But unfortunately, it does not work in MacBooks.***\n",
    "\n",
    "**Pain points to be noticed:**\n",
    "\n",
    "- The trained GPT2-Medium model actually predicted more information than the required information. For example: let's says there is a question `Where does the Sun rise?`. The usual answer is `East`. But it predicted as `The Sun rises in the East`.\n",
    "- We lost the accuracy and the answers that were being predicted, are not as expected as mentioned in the above method.\n",
    "- Due to the single directional context understanding, GPT2-medium model does not have good understanding of the the text patterns from SQuAD dataset, even though it is trained with millions of parameters.\n",
    "- We trained data on GPT2-Medium model without passing the `ans_start` and `ans_end` variables to the train set. This could also be one of the reasons. And due to the text generation nature of GPT2-Medium model, we are unable to achieve as expected.\n",
    "- Due to time and computational resource constraints, we are unable to provide more tweaking and training to the GPT2-Medium model.\n",
    "\n",
    "For detailed information on the pain points noticed, please visit the **Pain points noticed and the tasks that were not performed** section of [this file](https://github.com/kraviteja95usd/smartchat-conversational-chatbot/blob/chatbot-by-ravi/SQuAD_using_gpt2-medium/squad_lora_gpt2_medium_validation.ipynb)."
   ]
  },
  {
   "cell_type": "markdown",
   "id": "fcfdfcc8-79e0-4655-b7eb-16f754770d28",
   "metadata": {},
   "source": [
    "### Final Decision is to choose BERT 'bert-base-uncased' model"
   ]
  },
  {
   "cell_type": "markdown",
   "id": "c3e8ecab-b6f1-43c2-aaa2-d12148f92539",
   "metadata": {},
   "source": [
    "We have multiple reasons to have this architecture chosen. Following are the same:\n",
    "\n",
    "- **Bidirectional Context Comprehension:** BERT is created to grasp a word's context by considering both its left and right surroundings within a sentence. This two-way method enables BERT to effectively grasp word connections and significance, making it ideal for tasks such as answering questions.\n",
    "\n",
    "- **Prior Knowledge:** The 'bert-base-uncased' model has been pre-trained on a vast amount of text data, giving it a wide range of language comprehension. Improving this model for certain tasks like answering questions with SQuAD v1.1 boosts its effectiveness without the need for starting training all over again.\n",
    "\n",
    "- BERT has been effective in achieving excellent results in a range of natural language processing tasks, such as question answering, with high accuracy. The structure of the model is ideal for pinpointing answer spans in a provided context, which matches the SQuAD v1.1 dataset's format seamlessly.\n",
    "\n",
    "- Structured Question Answering Dataset, SQuAD v1.1, includes passages from Wikipedia and questions with answers within the text. It is a common dataset used to assess question answering models and is a popular option for optimizing BERT.\n",
    "\n",
    "- **Top-notch annotations:** With more than 100,000 question-answer pairs, the dataset offers sufficient training data to optimize BERT and attain superior precision.\n",
    "\n",
    "- **Direct Adherence to Task Specifications:** Utilizing SQuAD, which is specifically tailored for question answering, guarantees that the fine-tuning procedure is tailored for this task, enabling the BERT model to effectively learn the identification and extraction of answers from provided passages.\n",
    "\n",
    "- **Efficiency and Suitability:** The structure of BERT aligns well with the structure of the SQuAD dataset, which involves identifying the beginning and ending locations of answers within a given passage. Training BERT on SQuAD v1.1 ensures that the model can utilize its bidirectional capability to comprehend the context and enhance its accuracy.\n",
    "\n",
    "Below is a table that illustrates why GPT-2 Medium may not be the best option for the SQuAD dataset in comparison to BERT:\n",
    "\n",
    "| Aspect                                | BERT 'bert-base-uncased'                            | GPT-2 Medium                                       |\n",
    "|--------------------------------------|----------------------------------------------------|--------------------------------------------------|\n",
    "| **Architecture**                     | Bidirectional Transformer: Considers both left and right context of a word, making it suitable for tasks like question answering. | Unidirectional Transformer: Predicts the next word based on previous words, making it less suitable for tasks requiring understanding of the entire context. |\n",
    "| **Context Understanding**            | Bidirectional nature allows it to understand the context of a word by considering surrounding words, leading to better accuracy in finding answer spans. | Only considers previous words, which limits its ability to understand the context of answers within a passage. |\n",
    "| **Pretraining Objective**            | Trained using Masked Language Modeling (MLM), where some words are masked and the model learns to predict them based on the full context, ideal for tasks like question answering. | Trained using Language Modeling, where the task is to predict the next word, which is more suited for text generation rather than question answering. |\n",
    "| **Fine-tuning on SQuAD**             | Well-suited for fine-tuning on SQuAD because it can be trained to predict the start and end positions of answers in a passage. | Requires adaptation for question answering, as it is not inherently designed to predict specific answer spans in text. |\n",
    "| **Performance in Question Answering**| Achieves state-of-the-art results in question answering tasks due to its architecture and pretraining approach. | Tends to perform worse on question answering tasks since its primary design is for text generation, not extracting information from passages. |\n",
    "| **Suitability for SQuAD Dataset**    | Directly aligns with the SQuAD task of finding specific answer spans in context passages, making it a natural choice for fine-tuning. | Not directly suitable for the task, as it is designed for generating text rather than identifying specific answer locations within a passage. |\n",
    "| **Inference Speed and Efficiency**   | Efficient for tasks like question answering, where the goal is to extract information from a given passage. | May require more computational resources for similar tasks, as its architecture is optimized for generating longer sequences. |"
   ]
  },
  {
   "cell_type": "markdown",
   "id": "57b57b33-133d-4819-b613-0faf32b4d8dd",
   "metadata": {},
   "source": [
    "# Find out the device, load bert-base-uncased model and move it to the corresponding device"
   ]
  },
  {
   "cell_type": "code",
   "execution_count": 13,
   "id": "ba850c78-06b5-432c-9ca4-ea557f8ef9d5",
   "metadata": {},
   "outputs": [],
   "source": [
    "device = torch.device('cuda') if torch.cuda.is_available() else torch.device('cpu')"
   ]
  },
  {
   "cell_type": "code",
   "execution_count": 14,
   "id": "ed57a2ec-0a68-47ac-8c28-0af894716210",
   "metadata": {},
   "outputs": [
    {
     "data": {
      "application/vnd.jupyter.widget-view+json": {
       "model_id": "8dfed33a7ce44297b06ab4da1959b7f5",
       "version_major": 2,
       "version_minor": 0
      },
      "text/plain": [
       "model.safetensors:   0%|          | 0.00/440M [00:00<?, ?B/s]"
      ]
     },
     "metadata": {},
     "output_type": "display_data"
    },
    {
     "name": "stderr",
     "output_type": "stream",
     "text": [
      "Some weights of BertForQuestionAnswering were not initialized from the model checkpoint at bert-base-uncased and are newly initialized: ['qa_outputs.bias', 'qa_outputs.weight']\n",
      "You should probably TRAIN this model on a down-stream task to be able to use it for predictions and inference.\n"
     ]
    },
    {
     "data": {
      "text/plain": [
       "BertForQuestionAnswering(\n",
       "  (bert): BertModel(\n",
       "    (embeddings): BertEmbeddings(\n",
       "      (word_embeddings): Embedding(30522, 768, padding_idx=0)\n",
       "      (position_embeddings): Embedding(512, 768)\n",
       "      (token_type_embeddings): Embedding(2, 768)\n",
       "      (LayerNorm): LayerNorm((768,), eps=1e-12, elementwise_affine=True)\n",
       "      (dropout): Dropout(p=0.1, inplace=False)\n",
       "    )\n",
       "    (encoder): BertEncoder(\n",
       "      (layer): ModuleList(\n",
       "        (0-11): 12 x BertLayer(\n",
       "          (attention): BertAttention(\n",
       "            (self): BertSdpaSelfAttention(\n",
       "              (query): Linear(in_features=768, out_features=768, bias=True)\n",
       "              (key): Linear(in_features=768, out_features=768, bias=True)\n",
       "              (value): Linear(in_features=768, out_features=768, bias=True)\n",
       "              (dropout): Dropout(p=0.1, inplace=False)\n",
       "            )\n",
       "            (output): BertSelfOutput(\n",
       "              (dense): Linear(in_features=768, out_features=768, bias=True)\n",
       "              (LayerNorm): LayerNorm((768,), eps=1e-12, elementwise_affine=True)\n",
       "              (dropout): Dropout(p=0.1, inplace=False)\n",
       "            )\n",
       "          )\n",
       "          (intermediate): BertIntermediate(\n",
       "            (dense): Linear(in_features=768, out_features=3072, bias=True)\n",
       "            (intermediate_act_fn): GELUActivation()\n",
       "          )\n",
       "          (output): BertOutput(\n",
       "            (dense): Linear(in_features=3072, out_features=768, bias=True)\n",
       "            (LayerNorm): LayerNorm((768,), eps=1e-12, elementwise_affine=True)\n",
       "            (dropout): Dropout(p=0.1, inplace=False)\n",
       "          )\n",
       "        )\n",
       "      )\n",
       "    )\n",
       "  )\n",
       "  (qa_outputs): Linear(in_features=768, out_features=2, bias=True)\n",
       ")"
      ]
     },
     "execution_count": 14,
     "metadata": {},
     "output_type": "execute_result"
    }
   ],
   "source": [
    "model = BertForQuestionAnswering.from_pretrained('bert-base-uncased')\n",
    "model.to(device)"
   ]
  },
  {
   "cell_type": "markdown",
   "id": "e77eb392-8f04-4b41-a92c-ce0f784e75bd",
   "metadata": {},
   "source": [
    "# Model Training and Finetuning"
   ]
  },
  {
   "cell_type": "markdown",
   "id": "aa61fe5b-1426-458b-85e9-c2b78335c17b",
   "metadata": {},
   "source": [
    "## Explanation of the Training Function\n",
    "\n",
    "1. **Objective of the Function**: The purpose of this function is to conduct training of a machine learning model by utilizing provided training and evaluation datasets across a designated set of cycles.\n",
    "\n",
    "2. **Inputs**: The function requires the model for training, along with training data, evaluation data, the specified number of cycles to iterate through, and a learning rate that influences weight adjustments during training.\n",
    "\n",
    "3. **Loss Monitoring**: A list is created to monitor the loss values calculated throughout training, aiding in assessing the model's learning progress.\n",
    "\n",
    "4. **Setting up the Optimizer**: A method for optimization is developed to modify the model's parameters according to the determined loss. This contributes to enhancing the model's effectiveness.\n",
    "\n",
    "5. **Learning Rate Scheduler**: An adjustor is set up to modify the learning rate during the training phase, which may aid in stabilizing the training procedure.\n",
    "\n",
    "6. **Training Loop**: During each iteration of training,\n",
    "\n",
    "The model is in training mode, which means it will be trained on the training data.\n",
    "\n",
    "- An initial value is set for a variable to collect the overall loss during that period.\n",
    "\n",
    "- A training progress indicator is shown to track the training process.\n",
    "\n",
    "7. **Batch Processing**: For every set of training data groups:\n",
    "\n",
    "- The information is transferred to an appropriate computing tool (such as a GPU) to speed up the processing.\n",
    "\n",
    "- The model makes forecasts using the input data.\n",
    "\n",
    "- The loss is computed and gathered by measuring the discrepancies between the predictions and the true values.\n",
    "\n",
    "The loss is included in the list for monitoring reasons.\n",
    "\n",
    "- The model adjusts its parameters by considering the computed loss in order to enhance upcoming predictions.\n",
    "\n",
    "- The scheduler determines the adjustment of the learning rate.\n",
    "\n",
    "8. **Reporting Loss**: The average loss of the last few batches is printed after every 100 batches, providing insight.\n",
    "\n",
    "9. **Cycle Completion**: At the end of each training cycle, the average loss for that cycle is calculated and displayed.\n",
    "\n",
    "10. **Validation Phase**: After training, the model is switched to evaluation mode to assess its performance on the evaluation data:\n",
    "    - The evaluation data is processed similarly, but no adjustments to the model's parameters are made during this phase.\n",
    "    - The average loss for the evaluation data is calculated and printed, providing a measure of how well the model performs on unseen data."
   ]
  },
  {
   "cell_type": "code",
   "execution_count": 15,
   "id": "3f30a544-5f01-446f-b3e9-635d81dad589",
   "metadata": {},
   "outputs": [],
   "source": [
    "# Define the training function\n",
    "def train(model, train_data1, eval_data1, num_epochs=3, lr=3e-5):\n",
    "    batch_losses = [] \n",
    "    optimizer = torch.optim.AdamW(model.parameters(), lr=lr)\n",
    "    # Set up the learning rate scheduler\n",
    "    num_training_steps = num_epochs * len(train_data1)\n",
    "    lr_scheduler = get_scheduler(\n",
    "        name=\"linear\", optimizer=optimizer, num_warmup_steps=0, num_training_steps=num_training_steps\n",
    "    )\n",
    "\n",
    "    for epoch in range(num_epochs):  # Number of epochs\n",
    "        model.train()\n",
    "        total_train_loss = 0\n",
    "        progress_bar = tqdm(train_data1, desc=\"Training\")\n",
    "        for batch_idx, batch in enumerate(progress_bar):           \n",
    "            batch = {k: v.to(device) for k, v in batch.items()}\n",
    "            outputs = model(**batch)\n",
    "            loss = outputs.loss\n",
    "            total_train_loss += loss.item()\n",
    "            batch_losses.append(loss.item()) \n",
    "            \n",
    "            optimizer.zero_grad() \n",
    "            loss.backward()\n",
    "            optimizer.step()\n",
    "            lr_scheduler.step()\n",
    "\n",
    "             # Print the average loss for the last 100 batches\n",
    "            if (batch_idx + 1) % 100 == 0:\n",
    "                avg_last_100_batches = sum(batch_losses[-100:]) / len(batch_losses[-100:])\n",
    "                print(f\"Average loss of the last 100 batches (batch {batch_idx + 1}): {avg_last_100_batches}\")\n",
    "    \n",
    "            # Update progress bar with the current loss\n",
    "            progress_bar.set_postfix({\"loss\": loss.item()})\n",
    "\n",
    "        avg_train_loss = total_train_loss / len(train_data1)\n",
    "        print(f\"Average Training Loss for Epoch {epoch + 1}: {avg_train_loss}\")\n",
    "\n",
    "\n",
    "        model.eval()\n",
    "        total_val_loss = 0\n",
    "        progress_bar = tqdm(eval_data1, desc=\"Validation\")\n",
    "        for batch_idx, batch in enumerate(progress_bar):\n",
    "            batch = {k: v.to(device) for k, v in batch.items()}\n",
    "            with torch.no_grad():\n",
    "                outputs = model(**batch)\n",
    "                loss = outputs.loss\n",
    "                total_val_loss += loss.item()\n",
    "            \n",
    "        avg_val_loss = total_val_loss / len(eval_data1)\n",
    "        print(f\"Average validation Loss for Epoch {epoch + 1}: {avg_val_loss}\")"
   ]
  },
  {
   "cell_type": "code",
   "execution_count": 17,
   "id": "a320acac-9b77-4bc7-9544-cc2bab3cc2e2",
   "metadata": {},
   "outputs": [
    {
     "name": "stderr",
     "output_type": "stream",
     "text": [
      "Training:   4%|▎         | 100/2738 [00:17<07:46,  5.66it/s, loss=0.518]"
     ]
    },
    {
     "name": "stdout",
     "output_type": "stream",
     "text": [
      "Average loss of the last 100 batches (batch 100): 0.6423583096265792\n"
     ]
    },
    {
     "name": "stderr",
     "output_type": "stream",
     "text": [
      "Training:   7%|▋         | 200/2738 [00:35<07:31,  5.62it/s, loss=1.15] "
     ]
    },
    {
     "name": "stdout",
     "output_type": "stream",
     "text": [
      "Average loss of the last 100 batches (batch 200): 0.664524872303009\n"
     ]
    },
    {
     "name": "stderr",
     "output_type": "stream",
     "text": [
      "Training:  11%|█         | 300/2738 [00:53<07:14,  5.61it/s, loss=0.612]"
     ]
    },
    {
     "name": "stdout",
     "output_type": "stream",
     "text": [
      "Average loss of the last 100 batches (batch 300): 0.6650037533044815\n"
     ]
    },
    {
     "name": "stderr",
     "output_type": "stream",
     "text": [
      "Training:  15%|█▍        | 400/2738 [01:11<06:53,  5.66it/s, loss=1.08] "
     ]
    },
    {
     "name": "stdout",
     "output_type": "stream",
     "text": [
      "Average loss of the last 100 batches (batch 400): 0.6714478057622909\n"
     ]
    },
    {
     "name": "stderr",
     "output_type": "stream",
     "text": [
      "Training:  18%|█▊        | 500/2738 [01:28<06:39,  5.60it/s, loss=0.552]"
     ]
    },
    {
     "name": "stdout",
     "output_type": "stream",
     "text": [
      "Average loss of the last 100 batches (batch 500): 0.6601117150485516\n"
     ]
    },
    {
     "name": "stderr",
     "output_type": "stream",
     "text": [
      "Training:  22%|██▏       | 600/2738 [01:46<06:18,  5.65it/s, loss=0.889]"
     ]
    },
    {
     "name": "stdout",
     "output_type": "stream",
     "text": [
      "Average loss of the last 100 batches (batch 600): 0.6698948788642883\n"
     ]
    },
    {
     "name": "stderr",
     "output_type": "stream",
     "text": [
      "Training:  26%|██▌       | 700/2738 [02:04<06:01,  5.64it/s, loss=0.538]"
     ]
    },
    {
     "name": "stdout",
     "output_type": "stream",
     "text": [
      "Average loss of the last 100 batches (batch 700): 0.6636619964241981\n"
     ]
    },
    {
     "name": "stderr",
     "output_type": "stream",
     "text": [
      "Training:  29%|██▉       | 800/2738 [02:22<05:45,  5.61it/s, loss=1.03] "
     ]
    },
    {
     "name": "stdout",
     "output_type": "stream",
     "text": [
      "Average loss of the last 100 batches (batch 800): 0.6829728370904923\n"
     ]
    },
    {
     "name": "stderr",
     "output_type": "stream",
     "text": [
      "Training:  33%|███▎      | 900/2738 [02:39<05:26,  5.63it/s, loss=0.608]"
     ]
    },
    {
     "name": "stdout",
     "output_type": "stream",
     "text": [
      "Average loss of the last 100 batches (batch 900): 0.6725582712888718\n"
     ]
    },
    {
     "name": "stderr",
     "output_type": "stream",
     "text": [
      "Training:  37%|███▋      | 1000/2738 [02:57<05:08,  5.64it/s, loss=0.617]"
     ]
    },
    {
     "name": "stdout",
     "output_type": "stream",
     "text": [
      "Average loss of the last 100 batches (batch 1000): 0.6999601230025292\n"
     ]
    },
    {
     "name": "stderr",
     "output_type": "stream",
     "text": [
      "Training:  40%|████      | 1100/2738 [03:15<04:52,  5.61it/s, loss=0.871]"
     ]
    },
    {
     "name": "stdout",
     "output_type": "stream",
     "text": [
      "Average loss of the last 100 batches (batch 1100): 0.6931216797232628\n"
     ]
    },
    {
     "name": "stderr",
     "output_type": "stream",
     "text": [
      "Training:  44%|████▍     | 1200/2738 [03:33<04:32,  5.64it/s, loss=0.912]"
     ]
    },
    {
     "name": "stdout",
     "output_type": "stream",
     "text": [
      "Average loss of the last 100 batches (batch 1200): 0.6779367724061012\n"
     ]
    },
    {
     "name": "stderr",
     "output_type": "stream",
     "text": [
      "Training:  47%|████▋     | 1300/2738 [03:50<04:15,  5.64it/s, loss=0.512]"
     ]
    },
    {
     "name": "stdout",
     "output_type": "stream",
     "text": [
      "Average loss of the last 100 batches (batch 1300): 0.6475279054045677\n"
     ]
    },
    {
     "name": "stderr",
     "output_type": "stream",
     "text": [
      "Training:  51%|█████     | 1400/2738 [04:08<03:57,  5.63it/s, loss=0.474]"
     ]
    },
    {
     "name": "stdout",
     "output_type": "stream",
     "text": [
      "Average loss of the last 100 batches (batch 1400): 0.6537387347221375\n"
     ]
    },
    {
     "name": "stderr",
     "output_type": "stream",
     "text": [
      "Training:  55%|█████▍    | 1500/2738 [04:26<03:40,  5.63it/s, loss=0.864]"
     ]
    },
    {
     "name": "stdout",
     "output_type": "stream",
     "text": [
      "Average loss of the last 100 batches (batch 1500): 0.6936989489197731\n"
     ]
    },
    {
     "name": "stderr",
     "output_type": "stream",
     "text": [
      "Training:  58%|█████▊    | 1600/2738 [04:44<03:22,  5.62it/s, loss=0.38] "
     ]
    },
    {
     "name": "stdout",
     "output_type": "stream",
     "text": [
      "Average loss of the last 100 batches (batch 1600): 0.62197854667902\n"
     ]
    },
    {
     "name": "stderr",
     "output_type": "stream",
     "text": [
      "Training:  62%|██████▏   | 1700/2738 [05:01<03:04,  5.63it/s, loss=0.741]"
     ]
    },
    {
     "name": "stdout",
     "output_type": "stream",
     "text": [
      "Average loss of the last 100 batches (batch 1700): 0.6622211998701095\n"
     ]
    },
    {
     "name": "stderr",
     "output_type": "stream",
     "text": [
      "Training:  66%|██████▌   | 1800/2738 [05:19<02:46,  5.64it/s, loss=0.872]"
     ]
    },
    {
     "name": "stdout",
     "output_type": "stream",
     "text": [
      "Average loss of the last 100 batches (batch 1800): 0.6505691888928413\n"
     ]
    },
    {
     "name": "stderr",
     "output_type": "stream",
     "text": [
      "Training:  69%|██████▉   | 1900/2738 [05:37<02:28,  5.64it/s, loss=0.633]"
     ]
    },
    {
     "name": "stdout",
     "output_type": "stream",
     "text": [
      "Average loss of the last 100 batches (batch 1900): 0.6834261089563369\n"
     ]
    },
    {
     "name": "stderr",
     "output_type": "stream",
     "text": [
      "Training:  73%|███████▎  | 2000/2738 [05:55<02:11,  5.62it/s, loss=0.614]"
     ]
    },
    {
     "name": "stdout",
     "output_type": "stream",
     "text": [
      "Average loss of the last 100 batches (batch 2000): 0.6650167736411094\n"
     ]
    },
    {
     "name": "stderr",
     "output_type": "stream",
     "text": [
      "Training:  77%|███████▋  | 2100/2738 [06:13<01:53,  5.60it/s, loss=0.75] "
     ]
    },
    {
     "name": "stdout",
     "output_type": "stream",
     "text": [
      "Average loss of the last 100 batches (batch 2100): 0.6869347703456878\n"
     ]
    },
    {
     "name": "stderr",
     "output_type": "stream",
     "text": [
      "Training:  80%|████████  | 2200/2738 [06:30<01:36,  5.60it/s, loss=0.474]"
     ]
    },
    {
     "name": "stdout",
     "output_type": "stream",
     "text": [
      "Average loss of the last 100 batches (batch 2200): 0.7069280380010605\n"
     ]
    },
    {
     "name": "stderr",
     "output_type": "stream",
     "text": [
      "Training:  84%|████████▍ | 2300/2738 [06:48<01:17,  5.65it/s, loss=0.893]"
     ]
    },
    {
     "name": "stdout",
     "output_type": "stream",
     "text": [
      "Average loss of the last 100 batches (batch 2300): 0.6694514822959899\n"
     ]
    },
    {
     "name": "stderr",
     "output_type": "stream",
     "text": [
      "Training:  88%|████████▊ | 2400/2738 [07:06<01:00,  5.63it/s, loss=0.804]"
     ]
    },
    {
     "name": "stdout",
     "output_type": "stream",
     "text": [
      "Average loss of the last 100 batches (batch 2400): 0.656953042447567\n"
     ]
    },
    {
     "name": "stderr",
     "output_type": "stream",
     "text": [
      "Training:  91%|█████████▏| 2500/2738 [07:24<00:42,  5.59it/s, loss=0.683]"
     ]
    },
    {
     "name": "stdout",
     "output_type": "stream",
     "text": [
      "Average loss of the last 100 batches (batch 2500): 0.6688474968075753\n"
     ]
    },
    {
     "name": "stderr",
     "output_type": "stream",
     "text": [
      "Training:  95%|█████████▍| 2600/2738 [07:41<00:24,  5.64it/s, loss=0.838]"
     ]
    },
    {
     "name": "stdout",
     "output_type": "stream",
     "text": [
      "Average loss of the last 100 batches (batch 2600): 0.6809370693564415\n"
     ]
    },
    {
     "name": "stderr",
     "output_type": "stream",
     "text": [
      "Training:  99%|█████████▊| 2700/2738 [07:59<00:06,  5.60it/s, loss=0.494]"
     ]
    },
    {
     "name": "stdout",
     "output_type": "stream",
     "text": [
      "Average loss of the last 100 batches (batch 2700): 0.6972499281167984\n"
     ]
    },
    {
     "name": "stderr",
     "output_type": "stream",
     "text": [
      "Training: 100%|██████████| 2738/2738 [08:06<00:00,  5.63it/s, loss=0.335]\n"
     ]
    },
    {
     "name": "stdout",
     "output_type": "stream",
     "text": [
      "Average Training Loss for Epoch 1: 0.6698534366388318\n"
     ]
    },
    {
     "name": "stderr",
     "output_type": "stream",
     "text": [
      "Validation: 100%|██████████| 331/331 [00:24<00:00, 13.30it/s]\n"
     ]
    },
    {
     "name": "stdout",
     "output_type": "stream",
     "text": [
      "Average validation Loss for Epoch 1: 0.9814940393421225\n"
     ]
    },
    {
     "name": "stderr",
     "output_type": "stream",
     "text": [
      "Training:   4%|▎         | 100/2738 [00:17<07:48,  5.63it/s, loss=0.406]"
     ]
    },
    {
     "name": "stdout",
     "output_type": "stream",
     "text": [
      "Average loss of the last 100 batches (batch 100): 0.42323727905750275\n"
     ]
    },
    {
     "name": "stderr",
     "output_type": "stream",
     "text": [
      "Training:   7%|▋         | 200/2738 [00:35<07:31,  5.62it/s, loss=0.442]"
     ]
    },
    {
     "name": "stdout",
     "output_type": "stream",
     "text": [
      "Average loss of the last 100 batches (batch 200): 0.4259940832853317\n"
     ]
    },
    {
     "name": "stderr",
     "output_type": "stream",
     "text": [
      "Training:  11%|█         | 300/2738 [00:53<07:10,  5.66it/s, loss=0.414]"
     ]
    },
    {
     "name": "stdout",
     "output_type": "stream",
     "text": [
      "Average loss of the last 100 batches (batch 300): 0.4279849003255367\n"
     ]
    },
    {
     "name": "stderr",
     "output_type": "stream",
     "text": [
      "Training:  15%|█▍        | 400/2738 [01:11<06:54,  5.65it/s, loss=0.455]"
     ]
    },
    {
     "name": "stdout",
     "output_type": "stream",
     "text": [
      "Average loss of the last 100 batches (batch 400): 0.40804175853729246\n"
     ]
    },
    {
     "name": "stderr",
     "output_type": "stream",
     "text": [
      "Training:  18%|█▊        | 500/2738 [01:28<06:36,  5.65it/s, loss=0.267]"
     ]
    },
    {
     "name": "stdout",
     "output_type": "stream",
     "text": [
      "Average loss of the last 100 batches (batch 500): 0.4254739524424076\n"
     ]
    },
    {
     "name": "stderr",
     "output_type": "stream",
     "text": [
      "Training:  22%|██▏       | 600/2738 [01:46<06:19,  5.63it/s, loss=0.339]"
     ]
    },
    {
     "name": "stdout",
     "output_type": "stream",
     "text": [
      "Average loss of the last 100 batches (batch 600): 0.4404203554987907\n"
     ]
    },
    {
     "name": "stderr",
     "output_type": "stream",
     "text": [
      "Training:  26%|██▌       | 700/2738 [02:04<06:03,  5.61it/s, loss=0.217]"
     ]
    },
    {
     "name": "stdout",
     "output_type": "stream",
     "text": [
      "Average loss of the last 100 batches (batch 700): 0.4349155117571354\n"
     ]
    },
    {
     "name": "stderr",
     "output_type": "stream",
     "text": [
      "Training:  29%|██▉       | 800/2738 [02:22<05:45,  5.61it/s, loss=0.485]"
     ]
    },
    {
     "name": "stdout",
     "output_type": "stream",
     "text": [
      "Average loss of the last 100 batches (batch 800): 0.41740657687187194\n"
     ]
    },
    {
     "name": "stderr",
     "output_type": "stream",
     "text": [
      "Training:  33%|███▎      | 900/2738 [02:39<05:27,  5.62it/s, loss=0.566]"
     ]
    },
    {
     "name": "stdout",
     "output_type": "stream",
     "text": [
      "Average loss of the last 100 batches (batch 900): 0.4796251252293587\n"
     ]
    },
    {
     "name": "stderr",
     "output_type": "stream",
     "text": [
      "Training:  37%|███▋      | 1000/2738 [02:57<05:09,  5.62it/s, loss=0.361]"
     ]
    },
    {
     "name": "stdout",
     "output_type": "stream",
     "text": [
      "Average loss of the last 100 batches (batch 1000): 0.45344379663467405\n"
     ]
    },
    {
     "name": "stderr",
     "output_type": "stream",
     "text": [
      "Training:  40%|████      | 1100/2738 [03:15<04:53,  5.57it/s, loss=0.6]  "
     ]
    },
    {
     "name": "stdout",
     "output_type": "stream",
     "text": [
      "Average loss of the last 100 batches (batch 1100): 0.43852598652243613\n"
     ]
    },
    {
     "name": "stderr",
     "output_type": "stream",
     "text": [
      "Training:  44%|████▍     | 1200/2738 [03:33<04:34,  5.61it/s, loss=0.299]"
     ]
    },
    {
     "name": "stdout",
     "output_type": "stream",
     "text": [
      "Average loss of the last 100 batches (batch 1200): 0.4431722529232502\n"
     ]
    },
    {
     "name": "stderr",
     "output_type": "stream",
     "text": [
      "Training:  47%|████▋     | 1300/2738 [03:50<04:15,  5.63it/s, loss=0.559]"
     ]
    },
    {
     "name": "stdout",
     "output_type": "stream",
     "text": [
      "Average loss of the last 100 batches (batch 1300): 0.4438588830828667\n"
     ]
    },
    {
     "name": "stderr",
     "output_type": "stream",
     "text": [
      "Training:  51%|█████     | 1400/2738 [04:08<03:57,  5.64it/s, loss=0.288]"
     ]
    },
    {
     "name": "stdout",
     "output_type": "stream",
     "text": [
      "Average loss of the last 100 batches (batch 1400): 0.4113195690512657\n"
     ]
    },
    {
     "name": "stderr",
     "output_type": "stream",
     "text": [
      "Training:  55%|█████▍    | 1500/2738 [04:26<03:39,  5.64it/s, loss=0.614]"
     ]
    },
    {
     "name": "stdout",
     "output_type": "stream",
     "text": [
      "Average loss of the last 100 batches (batch 1500): 0.43174351155757906\n"
     ]
    },
    {
     "name": "stderr",
     "output_type": "stream",
     "text": [
      "Training:  58%|█████▊    | 1600/2738 [04:44<03:21,  5.65it/s, loss=0.315]"
     ]
    },
    {
     "name": "stdout",
     "output_type": "stream",
     "text": [
      "Average loss of the last 100 batches (batch 1600): 0.4160684312880039\n"
     ]
    },
    {
     "name": "stderr",
     "output_type": "stream",
     "text": [
      "Training:  62%|██████▏   | 1700/2738 [05:01<03:04,  5.63it/s, loss=0.309]"
     ]
    },
    {
     "name": "stdout",
     "output_type": "stream",
     "text": [
      "Average loss of the last 100 batches (batch 1700): 0.4271538206934929\n"
     ]
    },
    {
     "name": "stderr",
     "output_type": "stream",
     "text": [
      "Training:  66%|██████▌   | 1800/2738 [05:19<02:46,  5.63it/s, loss=0.452]"
     ]
    },
    {
     "name": "stdout",
     "output_type": "stream",
     "text": [
      "Average loss of the last 100 batches (batch 1800): 0.4083107154071331\n"
     ]
    },
    {
     "name": "stderr",
     "output_type": "stream",
     "text": [
      "Training:  69%|██████▉   | 1900/2738 [05:37<02:28,  5.65it/s, loss=0.367]"
     ]
    },
    {
     "name": "stdout",
     "output_type": "stream",
     "text": [
      "Average loss of the last 100 batches (batch 1900): 0.423989337682724\n"
     ]
    },
    {
     "name": "stderr",
     "output_type": "stream",
     "text": [
      "Training:  73%|███████▎  | 2000/2738 [05:55<02:10,  5.63it/s, loss=0.378]"
     ]
    },
    {
     "name": "stdout",
     "output_type": "stream",
     "text": [
      "Average loss of the last 100 batches (batch 2000): 0.4274235332012177\n"
     ]
    },
    {
     "name": "stderr",
     "output_type": "stream",
     "text": [
      "Training:  77%|███████▋  | 2100/2738 [06:12<01:53,  5.64it/s, loss=0.331]"
     ]
    },
    {
     "name": "stdout",
     "output_type": "stream",
     "text": [
      "Average loss of the last 100 batches (batch 2100): 0.4405277831852436\n"
     ]
    },
    {
     "name": "stderr",
     "output_type": "stream",
     "text": [
      "Training:  80%|████████  | 2200/2738 [06:30<01:35,  5.63it/s, loss=0.47] "
     ]
    },
    {
     "name": "stdout",
     "output_type": "stream",
     "text": [
      "Average loss of the last 100 batches (batch 2200): 0.3970172184705734\n"
     ]
    },
    {
     "name": "stderr",
     "output_type": "stream",
     "text": [
      "Training:  84%|████████▍ | 2300/2738 [06:48<01:17,  5.64it/s, loss=0.315]"
     ]
    },
    {
     "name": "stdout",
     "output_type": "stream",
     "text": [
      "Average loss of the last 100 batches (batch 2300): 0.4529651851952076\n"
     ]
    },
    {
     "name": "stderr",
     "output_type": "stream",
     "text": [
      "Training:  88%|████████▊ | 2400/2738 [07:06<01:00,  5.63it/s, loss=0.566]"
     ]
    },
    {
     "name": "stdout",
     "output_type": "stream",
     "text": [
      "Average loss of the last 100 batches (batch 2400): 0.4542316357791424\n"
     ]
    },
    {
     "name": "stderr",
     "output_type": "stream",
     "text": [
      "Training:  91%|█████████▏| 2500/2738 [07:23<00:42,  5.66it/s, loss=0.353]"
     ]
    },
    {
     "name": "stdout",
     "output_type": "stream",
     "text": [
      "Average loss of the last 100 batches (batch 2500): 0.44322420239448546\n"
     ]
    },
    {
     "name": "stderr",
     "output_type": "stream",
     "text": [
      "Training:  95%|█████████▍| 2600/2738 [07:41<00:24,  5.63it/s, loss=0.408]"
     ]
    },
    {
     "name": "stdout",
     "output_type": "stream",
     "text": [
      "Average loss of the last 100 batches (batch 2600): 0.44647241026163104\n"
     ]
    },
    {
     "name": "stderr",
     "output_type": "stream",
     "text": [
      "Training:  99%|█████████▊| 2700/2738 [07:59<00:06,  5.60it/s, loss=0.483]"
     ]
    },
    {
     "name": "stdout",
     "output_type": "stream",
     "text": [
      "Average loss of the last 100 batches (batch 2700): 0.41951008543372154\n"
     ]
    },
    {
     "name": "stderr",
     "output_type": "stream",
     "text": [
      "Training: 100%|██████████| 2738/2738 [08:06<00:00,  5.63it/s, loss=0.259]\n"
     ]
    },
    {
     "name": "stdout",
     "output_type": "stream",
     "text": [
      "Average Training Loss for Epoch 2: 0.43159852172550794\n"
     ]
    },
    {
     "name": "stderr",
     "output_type": "stream",
     "text": [
      "Validation: 100%|██████████| 331/331 [00:24<00:00, 13.31it/s]\n"
     ]
    },
    {
     "name": "stdout",
     "output_type": "stream",
     "text": [
      "Average validation Loss for Epoch 2: 1.0810882857468913\n"
     ]
    },
    {
     "name": "stderr",
     "output_type": "stream",
     "text": [
      "Training:   4%|▎         | 100/2738 [00:17<07:47,  5.65it/s, loss=0.271]"
     ]
    },
    {
     "name": "stdout",
     "output_type": "stream",
     "text": [
      "Average loss of the last 100 batches (batch 100): 0.28261320061981676\n"
     ]
    },
    {
     "name": "stderr",
     "output_type": "stream",
     "text": [
      "Training:   7%|▋         | 200/2738 [00:35<07:27,  5.67it/s, loss=0.288]"
     ]
    },
    {
     "name": "stdout",
     "output_type": "stream",
     "text": [
      "Average loss of the last 100 batches (batch 200): 0.29564214386045934\n"
     ]
    },
    {
     "name": "stderr",
     "output_type": "stream",
     "text": [
      "Training:  11%|█         | 300/2738 [00:53<07:13,  5.62it/s, loss=0.539]"
     ]
    },
    {
     "name": "stdout",
     "output_type": "stream",
     "text": [
      "Average loss of the last 100 batches (batch 300): 0.3043637930601835\n"
     ]
    },
    {
     "name": "stderr",
     "output_type": "stream",
     "text": [
      "Training:  15%|█▍        | 400/2738 [01:10<06:57,  5.59it/s, loss=0.319]"
     ]
    },
    {
     "name": "stdout",
     "output_type": "stream",
     "text": [
      "Average loss of the last 100 batches (batch 400): 0.2946875374019146\n"
     ]
    },
    {
     "name": "stderr",
     "output_type": "stream",
     "text": [
      "Training:  18%|█▊        | 500/2738 [01:28<06:37,  5.62it/s, loss=0.248]"
     ]
    },
    {
     "name": "stdout",
     "output_type": "stream",
     "text": [
      "Average loss of the last 100 batches (batch 500): 0.2886260879039764\n"
     ]
    },
    {
     "name": "stderr",
     "output_type": "stream",
     "text": [
      "Training:  22%|██▏       | 600/2738 [01:46<06:18,  5.65it/s, loss=0.307] "
     ]
    },
    {
     "name": "stdout",
     "output_type": "stream",
     "text": [
      "Average loss of the last 100 batches (batch 600): 0.2724345351010561\n"
     ]
    },
    {
     "name": "stderr",
     "output_type": "stream",
     "text": [
      "Training:  26%|██▌       | 700/2738 [02:04<06:01,  5.63it/s, loss=0.368] "
     ]
    },
    {
     "name": "stdout",
     "output_type": "stream",
     "text": [
      "Average loss of the last 100 batches (batch 700): 0.28938561253249645\n"
     ]
    },
    {
     "name": "stderr",
     "output_type": "stream",
     "text": [
      "Training:  29%|██▉       | 800/2738 [02:21<05:42,  5.66it/s, loss=0.353] "
     ]
    },
    {
     "name": "stdout",
     "output_type": "stream",
     "text": [
      "Average loss of the last 100 batches (batch 800): 0.2682596127688885\n"
     ]
    },
    {
     "name": "stderr",
     "output_type": "stream",
     "text": [
      "Training:  33%|███▎      | 900/2738 [02:39<05:26,  5.63it/s, loss=0.306] "
     ]
    },
    {
     "name": "stdout",
     "output_type": "stream",
     "text": [
      "Average loss of the last 100 batches (batch 900): 0.2903344576060772\n"
     ]
    },
    {
     "name": "stderr",
     "output_type": "stream",
     "text": [
      "Training:  37%|███▋      | 1000/2738 [02:57<05:07,  5.66it/s, loss=0.275]"
     ]
    },
    {
     "name": "stdout",
     "output_type": "stream",
     "text": [
      "Average loss of the last 100 batches (batch 1000): 0.29707550674676897\n"
     ]
    },
    {
     "name": "stderr",
     "output_type": "stream",
     "text": [
      "Training:  40%|████      | 1100/2738 [03:15<04:50,  5.64it/s, loss=0.139] "
     ]
    },
    {
     "name": "stdout",
     "output_type": "stream",
     "text": [
      "Average loss of the last 100 batches (batch 1100): 0.2798809629678726\n"
     ]
    },
    {
     "name": "stderr",
     "output_type": "stream",
     "text": [
      "Training:  44%|████▍     | 1200/2738 [03:33<04:32,  5.64it/s, loss=0.187]"
     ]
    },
    {
     "name": "stdout",
     "output_type": "stream",
     "text": [
      "Average loss of the last 100 batches (batch 1200): 0.2913319482654333\n"
     ]
    },
    {
     "name": "stderr",
     "output_type": "stream",
     "text": [
      "Training:  47%|████▋     | 1300/2738 [03:50<04:14,  5.65it/s, loss=0.343]"
     ]
    },
    {
     "name": "stdout",
     "output_type": "stream",
     "text": [
      "Average loss of the last 100 batches (batch 1300): 0.29525055445730686\n"
     ]
    },
    {
     "name": "stderr",
     "output_type": "stream",
     "text": [
      "Training:  51%|█████     | 1400/2738 [04:08<03:58,  5.62it/s, loss=0.316]"
     ]
    },
    {
     "name": "stdout",
     "output_type": "stream",
     "text": [
      "Average loss of the last 100 batches (batch 1400): 0.2766328880190849\n"
     ]
    },
    {
     "name": "stderr",
     "output_type": "stream",
     "text": [
      "Training:  55%|█████▍    | 1500/2738 [04:26<03:40,  5.61it/s, loss=0.598]"
     ]
    },
    {
     "name": "stdout",
     "output_type": "stream",
     "text": [
      "Average loss of the last 100 batches (batch 1500): 0.2805609745532274\n"
     ]
    },
    {
     "name": "stderr",
     "output_type": "stream",
     "text": [
      "Training:  58%|█████▊    | 1600/2738 [04:44<03:22,  5.63it/s, loss=0.195]"
     ]
    },
    {
     "name": "stdout",
     "output_type": "stream",
     "text": [
      "Average loss of the last 100 batches (batch 1600): 0.2938973419368267\n"
     ]
    },
    {
     "name": "stderr",
     "output_type": "stream",
     "text": [
      "Training:  62%|██████▏   | 1700/2738 [05:01<03:04,  5.61it/s, loss=0.388]"
     ]
    },
    {
     "name": "stdout",
     "output_type": "stream",
     "text": [
      "Average loss of the last 100 batches (batch 1700): 0.3067274210602045\n"
     ]
    },
    {
     "name": "stderr",
     "output_type": "stream",
     "text": [
      "Training:  66%|██████▌   | 1800/2738 [05:19<02:46,  5.62it/s, loss=0.25]  "
     ]
    },
    {
     "name": "stdout",
     "output_type": "stream",
     "text": [
      "Average loss of the last 100 batches (batch 1800): 0.27714520283043387\n"
     ]
    },
    {
     "name": "stderr",
     "output_type": "stream",
     "text": [
      "Training:  69%|██████▉   | 1900/2738 [05:37<02:29,  5.62it/s, loss=0.205] "
     ]
    },
    {
     "name": "stdout",
     "output_type": "stream",
     "text": [
      "Average loss of the last 100 batches (batch 1900): 0.2854195995628834\n"
     ]
    },
    {
     "name": "stderr",
     "output_type": "stream",
     "text": [
      "Training:  73%|███████▎  | 2000/2738 [05:55<02:11,  5.61it/s, loss=0.284] "
     ]
    },
    {
     "name": "stdout",
     "output_type": "stream",
     "text": [
      "Average loss of the last 100 batches (batch 2000): 0.2771904042363167\n"
     ]
    },
    {
     "name": "stderr",
     "output_type": "stream",
     "text": [
      "Training:  77%|███████▋  | 2100/2738 [06:12<01:52,  5.66it/s, loss=0.278]"
     ]
    },
    {
     "name": "stdout",
     "output_type": "stream",
     "text": [
      "Average loss of the last 100 batches (batch 2100): 0.3015096965432167\n"
     ]
    },
    {
     "name": "stderr",
     "output_type": "stream",
     "text": [
      "Training:  80%|████████  | 2200/2738 [06:30<01:35,  5.63it/s, loss=0.263] "
     ]
    },
    {
     "name": "stdout",
     "output_type": "stream",
     "text": [
      "Average loss of the last 100 batches (batch 2200): 0.26939683929085734\n"
     ]
    },
    {
     "name": "stderr",
     "output_type": "stream",
     "text": [
      "Training:  84%|████████▍ | 2300/2738 [06:48<01:17,  5.62it/s, loss=0.231] "
     ]
    },
    {
     "name": "stdout",
     "output_type": "stream",
     "text": [
      "Average loss of the last 100 batches (batch 2300): 0.2869211138039827\n"
     ]
    },
    {
     "name": "stderr",
     "output_type": "stream",
     "text": [
      "Training:  88%|████████▊ | 2400/2738 [07:06<00:59,  5.65it/s, loss=0.183] "
     ]
    },
    {
     "name": "stdout",
     "output_type": "stream",
     "text": [
      "Average loss of the last 100 batches (batch 2400): 0.29031938686966896\n"
     ]
    },
    {
     "name": "stderr",
     "output_type": "stream",
     "text": [
      "Training:  91%|█████████▏| 2500/2738 [07:24<00:42,  5.65it/s, loss=0.127] "
     ]
    },
    {
     "name": "stdout",
     "output_type": "stream",
     "text": [
      "Average loss of the last 100 batches (batch 2500): 0.296635095179081\n"
     ]
    },
    {
     "name": "stderr",
     "output_type": "stream",
     "text": [
      "Training:  95%|█████████▍| 2600/2738 [07:42<00:24,  5.60it/s, loss=0.189] "
     ]
    },
    {
     "name": "stdout",
     "output_type": "stream",
     "text": [
      "Average loss of the last 100 batches (batch 2600): 0.3149970731139183\n"
     ]
    },
    {
     "name": "stderr",
     "output_type": "stream",
     "text": [
      "Training:  99%|█████████▊| 2700/2738 [07:59<00:06,  5.62it/s, loss=0.219]"
     ]
    },
    {
     "name": "stdout",
     "output_type": "stream",
     "text": [
      "Average loss of the last 100 batches (batch 2700): 0.2911440251767635\n"
     ]
    },
    {
     "name": "stderr",
     "output_type": "stream",
     "text": [
      "Training: 100%|██████████| 2738/2738 [08:06<00:00,  5.63it/s, loss=0.25]  \n"
     ]
    },
    {
     "name": "stdout",
     "output_type": "stream",
     "text": [
      "Average Training Loss for Epoch 3: 0.2889414794030113\n"
     ]
    },
    {
     "name": "stderr",
     "output_type": "stream",
     "text": [
      "Validation: 100%|██████████| 331/331 [00:24<00:00, 13.31it/s]"
     ]
    },
    {
     "name": "stdout",
     "output_type": "stream",
     "text": [
      "Average validation Loss for Epoch 3: 1.2183502224186755\n"
     ]
    },
    {
     "name": "stderr",
     "output_type": "stream",
     "text": [
      "\n"
     ]
    }
   ],
   "source": [
    "train(model, train_loader, val_loader)"
   ]
  },
  {
   "cell_type": "markdown",
   "id": "00293f64-6716-44d3-bb4e-a920bc5294e5",
   "metadata": {},
   "source": [
    "# Save Model, Tokenizer etc."
   ]
  },
  {
   "cell_type": "code",
   "execution_count": 18,
   "id": "25865314-3fde-4013-8aea-1d10c49b387f",
   "metadata": {},
   "outputs": [
    {
     "data": {
      "text/plain": [
       "('squad-bert-trained/saved_model/tokenizer_config.json',\n",
       " 'squad-bert-trained/saved_model/special_tokens_map.json',\n",
       " 'squad-bert-trained/saved_model/vocab.txt',\n",
       " 'squad-bert-trained/saved_model/added_tokens.json',\n",
       " 'squad-bert-trained/saved_model/tokenizer.json')"
      ]
     },
     "execution_count": 18,
     "metadata": {},
     "output_type": "execute_result"
    }
   ],
   "source": [
    "# Define the directory where you want to save the model\n",
    "model_save_path = 'squad-bert-trained/saved_model'\n",
    "\n",
    "# Create the directory if it doesn't exist\n",
    "if not os.path.exists(model_save_path):\n",
    "    os.makedirs(model_save_path)\n",
    "\n",
    "\n",
    "# Save the trained model and tokenizer\n",
    "model.save_pretrained(model_save_path)\n",
    "tokenizer.save_pretrained(model_save_path)"
   ]
  },
  {
   "cell_type": "markdown",
   "id": "2de1bac7-c010-4431-a1a0-fd6cd2ce74fa",
   "metadata": {},
   "source": [
    "# Load the saved model and tokenizer for Validation"
   ]
  },
  {
   "cell_type": "code",
   "execution_count": 19,
   "id": "a7b1ff7f-6764-4756-80bf-2c1a8869a1ea",
   "metadata": {},
   "outputs": [
    {
     "name": "stdout",
     "output_type": "stream",
     "text": [
      "Moving the model to cuda\n",
      "\n",
      "\n"
     ]
    },
    {
     "data": {
      "text/plain": [
       "BertForQuestionAnswering(\n",
       "  (bert): BertModel(\n",
       "    (embeddings): BertEmbeddings(\n",
       "      (word_embeddings): Embedding(30522, 768, padding_idx=0)\n",
       "      (position_embeddings): Embedding(512, 768)\n",
       "      (token_type_embeddings): Embedding(2, 768)\n",
       "      (LayerNorm): LayerNorm((768,), eps=1e-12, elementwise_affine=True)\n",
       "      (dropout): Dropout(p=0.1, inplace=False)\n",
       "    )\n",
       "    (encoder): BertEncoder(\n",
       "      (layer): ModuleList(\n",
       "        (0-11): 12 x BertLayer(\n",
       "          (attention): BertAttention(\n",
       "            (self): BertSdpaSelfAttention(\n",
       "              (query): Linear(in_features=768, out_features=768, bias=True)\n",
       "              (key): Linear(in_features=768, out_features=768, bias=True)\n",
       "              (value): Linear(in_features=768, out_features=768, bias=True)\n",
       "              (dropout): Dropout(p=0.1, inplace=False)\n",
       "            )\n",
       "            (output): BertSelfOutput(\n",
       "              (dense): Linear(in_features=768, out_features=768, bias=True)\n",
       "              (LayerNorm): LayerNorm((768,), eps=1e-12, elementwise_affine=True)\n",
       "              (dropout): Dropout(p=0.1, inplace=False)\n",
       "            )\n",
       "          )\n",
       "          (intermediate): BertIntermediate(\n",
       "            (dense): Linear(in_features=768, out_features=3072, bias=True)\n",
       "            (intermediate_act_fn): GELUActivation()\n",
       "          )\n",
       "          (output): BertOutput(\n",
       "            (dense): Linear(in_features=3072, out_features=768, bias=True)\n",
       "            (LayerNorm): LayerNorm((768,), eps=1e-12, elementwise_affine=True)\n",
       "            (dropout): Dropout(p=0.1, inplace=False)\n",
       "          )\n",
       "        )\n",
       "      )\n",
       "    )\n",
       "  )\n",
       "  (qa_outputs): Linear(in_features=768, out_features=2, bias=True)\n",
       ")"
      ]
     },
     "execution_count": 19,
     "metadata": {},
     "output_type": "execute_result"
    }
   ],
   "source": [
    "# Load the saved model and tokenizer\n",
    "model_save_path = 'squad-bert-trained/saved_model'\n",
    "model = BertForQuestionAnswering.from_pretrained(model_save_path)\n",
    "tokenizer = BertTokenizerFast.from_pretrained(model_save_path)\n",
    "\n",
    "print(f\"Moving the model to {device}\\n\\n\")\n",
    "model.to(device)\n",
    "\n",
    "# Set the model to evaluation mode\n",
    "model.eval()"
   ]
  },
  {
   "cell_type": "markdown",
   "id": "3c8ab8f6-0b67-4b3d-bc4c-b58e8bae2190",
   "metadata": {},
   "source": [
    "# Define the core logic for validation\n",
    "\n",
    "## Description of how the Answer Generation Function works\n",
    "\n",
    "1. **Function Objective**: The aim of this function is to determine a response to a particular question using the given information. It breaks down the context into smaller segments to ensure efficient management.\n",
    "\n",
    "2. **Description of Parameters**: The function requires two inputs: the question posed and the context with pertinent information.\n",
    "\n",
    "3. **Restriction on Context Size**: A limit is placed on the size of the context to prevent it from surpassing the model's input processing capacity.\n",
    "\n",
    "4. **Context Chunking**: The context is segmented into smaller segments (or chunks) that have a maximum specified size. This enables effective processing without burdening the model.\n",
    "\n",
    "5. **Collection of Answers**: A blank list is created in order to save possible answers taken from each section of the context.\n",
    "\n",
    "6. **Loop for Chunk Processing**: Perform actions for every chunk of context.\n",
    "\n",
    "The model requires the chunk and question to be converted to a suitable format. This involves transforming them into a numerical format while making sure they stay within the maximum context size.\n",
    "\n",
    "7. **Generating Predictions**: The model analyzes the tokenized input to produce predictions on the location of the answer's start and end in the context.\n",
    "\n",
    "- The forecasts for the start and conclusion of the answer span are acquired.\n",
    "\n",
    "8. **Locating Answer Tokens**: The function searches for the tokens that have the highest predicted scores for the start and end positions of the answer.\n",
    "\n",
    "9. **Information Retrieval**: The tokens that have been recognized are transformed into a legible string format in order to create the answer. This includes gathering the tokens predicted to start and end, then combining them to form a coherent response.\n",
    "\n",
    "10. **Merging Responses**: Once all chunks have been processed, the answers obtained from each chunk are merged together to form a unified response.\n",
    "\n",
    "11. **Last Step of Formatting**: We eliminate any extra markers, such as a classification token."
   ]
  },
  {
   "cell_type": "code",
   "execution_count": 27,
   "id": "1fbb1ceb-13a9-48e6-82f7-94d10c403b40",
   "metadata": {},
   "outputs": [],
   "source": [
    "def answer_question(question, context):\n",
    "    max_context_size = 512\n",
    "    chunk_size = max_context_size\n",
    "\n",
    "    chunks = [context[i:i+chunk_size] for i in range(0, len(context), chunk_size)]\n",
    "\n",
    "    answers = []\n",
    "    for chunk in chunks:\n",
    "        # Tokenize the chunk\n",
    "        inputs = tokenizer(chunk, question, return_tensors='pt', truncation=True, max_length=max_context_size).to(device)\n",
    "\n",
    "        # Generate the output\n",
    "        with torch.no_grad():\n",
    "            outputs = model(**inputs)\n",
    "\n",
    "            # Get most likely beginning and end of the answer span\n",
    "            answer_start_scores = outputs.start_logits\n",
    "            answer_end_scores = outputs.end_logits\n",
    "    \n",
    "            # Find the tokens with the highest `start` and `end` scores\n",
    "            answer_start = torch.argmax(answer_start_scores)\n",
    "            answer_end = torch.argmax(answer_end_scores) + 1\n",
    "    \n",
    "            # Convert the tokens to text\n",
    "            answer = tokenizer.convert_tokens_to_string(tokenizer.convert_ids_to_tokens(inputs['input_ids'][0][answer_start:answer_end]))\n",
    "    \n",
    "            answers.append(answer)\n",
    "    \n",
    "    # Combine the answers from each chunk\n",
    "    answer = ' '.join(answers)\n",
    "    answer = answer.replace('[CLS]', '')\n",
    "    return answer.strip()"
   ]
  },
  {
   "cell_type": "markdown",
   "id": "d8a5cae9-f1c4-4f1b-8755-62e1e96ad3f5",
   "metadata": {},
   "source": [
    "## Validate one context from the validation dataset"
   ]
  },
  {
   "cell_type": "code",
   "execution_count": 28,
   "id": "0e161be3-c244-493c-8a41-c3829315e3c9",
   "metadata": {},
   "outputs": [
    {
     "name": "stdout",
     "output_type": "stream",
     "text": [
      "Question: Who won Super Bowl 50?\n",
      "Answer: denver broncos\n"
     ]
    }
   ],
   "source": [
    "context = \"\"\"Super Bowl 50 was an American football game to determine the champion of the National Football League (NFL) for the 2015 season.\n",
    "The American Football Conference (AFC) champion Denver Broncos defeated the National Football Conference (NFC) champion Carolina Panthers 24–10\n",
    "to earn their third Super Bowl title. The game was played on February 7, 2016, at Levi's Stadium in the San Francisco Bay Area at Santa Clara, California.\"\"\"\n",
    "\n",
    "question = \"Who won Super Bowl 50?\"\n",
    "\n",
    "# Call the answer_question method to get the answer\n",
    "answer = answer_question(question, context)\n",
    "print(f\"Question: {question}\")\n",
    "print(f\"Answer: {answer}\")"
   ]
  },
  {
   "cell_type": "markdown",
   "id": "3ec20a6b-ab6c-4298-9f9b-ca2eb68f88ec",
   "metadata": {},
   "source": [
    "## Testing new contexts from internet"
   ]
  },
  {
   "cell_type": "markdown",
   "id": "ebcb5fc8-4df4-471f-b483-8be9ee2a4752",
   "metadata": {},
   "source": [
    "### Testing Context-1 from Internet"
   ]
  },
  {
   "cell_type": "code",
   "execution_count": 29,
   "id": "78061dfc-9243-4009-b5b8-7e268228712b",
   "metadata": {},
   "outputs": [
    {
     "name": "stdout",
     "output_type": "stream",
     "text": [
      "Question: What are the milestones of ISRO?\n",
      "Answer: launching satellites for communication, navigation, and weather forecasting scientific research and exploration\n"
     ]
    }
   ],
   "source": [
    "context = \"\"\"\n",
    "The Indian Space Research Organisation (ISRO) is the primary space agency of the Government of India. \n",
    "Established in 1969, ISRO is responsible for the country's space program, which includes satellite development, \n",
    "launch vehicles, space exploration, and human spaceflight. ISRO has achieved numerous milestones, \n",
    "including launching satellites for communication, navigation, and weather forecasting, \n",
    "as well as sending spacecraft to the Moon and Mars. ISRO's mission is to harness space technology for national development, \n",
    "while also pursuing scientific research and exploration.\n",
    "\"\"\"\n",
    "\n",
    "question = \"What are the milestones of ISRO?\"\n",
    "\n",
    "# Get the answer from the model\n",
    "answer = answer_question(question, context)\n",
    "print(f\"Question: {question}\")\n",
    "print(f\"Answer: {answer}\")"
   ]
  },
  {
   "cell_type": "markdown",
   "id": "6a73db11-e196-48e4-a4a9-c32897d6c414",
   "metadata": {},
   "source": [
    "### Testing Context-2 from Internet"
   ]
  },
  {
   "cell_type": "code",
   "execution_count": 30,
   "id": "48c1af9e-e745-487e-9930-f3e1c971ea18",
   "metadata": {},
   "outputs": [
    {
     "name": "stdout",
     "output_type": "stream",
     "text": [
      "Question: What is the difference between Music and Harmony?\n",
      "Answer: heal, and entertain\n"
     ]
    }
   ],
   "source": [
    "# Test with a new question and context\n",
    "context = \"\"\"\n",
    "Music is an art form whose medium is sound and silence. It is a universal language that \n",
    "can evoke emotions, convey messages, and bring people together. Music has been an \n",
    "integral part of human culture for centuries, with various genres and styles emerging \n",
    "across the world. From classical to contemporary, music has the power to inspire, heal, \n",
    "and entertain.\n",
    "\"\"\"\n",
    "question = \"What is the difference between Music and Harmony?\"\n",
    "\n",
    "# Get the answer from the model\n",
    "answer = answer_question(question, context)\n",
    "print(f\"Question: {question}\")\n",
    "print(f\"Answer: {answer}\")"
   ]
  },
  {
   "cell_type": "markdown",
   "id": "2a6a7fbf-ecb7-463e-ad06-90a705b64f5f",
   "metadata": {},
   "source": [
    "### Testing Context-3 from Internet"
   ]
  },
  {
   "cell_type": "code",
   "execution_count": 33,
   "id": "cabcad62-2a27-4b34-aad1-93355a0e5b59",
   "metadata": {},
   "outputs": [
    {
     "name": "stdout",
     "output_type": "stream",
     "text": [
      "Question: What are the applications of Space Robotics?\n",
      "Answer: space exploration, satellite maintenance, and planetary surface operations gather data about the planet ' s geology and climate\n"
     ]
    }
   ],
   "source": [
    "context = \"\"\"\n",
    "Space robotics is a field of robotics that focuses on the design, development, and operation of robots that can \n",
    "survive and function in the harsh environment of space. These robots are designed to perform a variety of tasks, \n",
    "such as space exploration, satellite maintenance, and planetary surface operations. \n",
    "Space robots can be autonomous or remotely controlled, and they often require specialized \n",
    "systems to withstand the extreme temperatures, radiation, and vacuum of space.\n",
    "\n",
    "Space robotics has many applications, including:\n",
    "\n",
    "Planetary exploration: Robots like NASA's Curiosity Rover and Perseverance Rover \n",
    "have been used to explore the surface of Mars and gather data about the planet's geology and climate.\n",
    "Satellite maintenance: Robots like the Canadarm2 robotic arm on the \n",
    "International Space Station have been used to perform maintenance tasks and repairs on satellites in orbit.\n",
    "Asteroid mining: Robots are being developed to explore and mine asteroids \n",
    "for valuable resources like water and precious metals.\n",
    "\"\"\"\n",
    "\n",
    "question = \"What are the applications of Space Robotics?\"\n",
    "\n",
    "# Get the answer from the model\n",
    "answer = answer_question(question, context)\n",
    "print(f\"Question: {question}\")\n",
    "print(f\"Answer: {answer}\")"
   ]
  },
  {
   "cell_type": "markdown",
   "id": "5665d932-e57d-4915-8d78-04cc360073ff",
   "metadata": {},
   "source": [
    "# Calculation of Performance Metrics"
   ]
  },
  {
   "cell_type": "markdown",
   "id": "f36d149e-1950-4755-882b-723b07c927c2",
   "metadata": {},
   "source": [
    "We have calculated the following Performance Metrics as part of this project\n",
    "\n",
    "- **ROUGE score:** This measures the overlap between the predicted answer and the ground truth answer, but it's more focused on the longest common subsequence.\n",
    "- **BLEU score:** This measures the similarity between the predicted answer and the ground truth answer, but it's more focused on the fluency and coherence of the answer.\n",
    "\n",
    "## Evaluation Metrics for Natural Language Processing Tasks\n",
    "\n",
    "### Overview of Common Metrics\n",
    "\n",
    "Note that these are commonly used metrics to evaluate the performance of NLP models:\n",
    "\n",
    "* **ROUGE score**: This requires a library like `rouge-score`.\n",
    "\n",
    "* **BLEU score**: This requires a library like `nltk`."
   ]
  },
  {
   "cell_type": "code",
   "execution_count": 37,
   "id": "2a6939f7-cff2-4c4b-b37e-f710ffb1956f",
   "metadata": {},
   "outputs": [
    {
     "name": "stdout",
     "output_type": "stream",
     "text": [
      "ROUGE-1: 0.6158480145518543\n",
      "ROUGE-2: 0.3714845707944188\n",
      "ROUGE-L: 0.6141959355809109\n",
      "BLEU: 0.47322026612191537\n"
     ]
    }
   ],
   "source": [
    "import warnings\n",
    "warnings.filterwarnings(\"ignore\")\n",
    "\n",
    "# Initialize the metrics\n",
    "rouge1 = 0\n",
    "rouge2 = 0\n",
    "rougel = 0\n",
    "bleu = 0\n",
    "\n",
    "# Initialize lists to store answers and predicted answers\n",
    "answers = []\n",
    "predicted_answers = []\n",
    "\n",
    "# Iterate over the predictions\n",
    "for question_id in range(val_df.shape[0]):\n",
    "    # Get the predicted answer\n",
    "    predicted_answer = answer_question(val_df.iloc[question_id]['question'], val_df.iloc[question_id]['context']).lower().strip()\n",
    "    answer = (val_df.iloc[question_id]['answer']).lower().strip()\n",
    "\n",
    "    # Store the answers and predicted answers\n",
    "    answers.append(answer)\n",
    "    predicted_answers.append(predicted_answer)\n",
    "\n",
    "    # Calculate the metrics\n",
    "    scorer = rouge_scorer.RougeScorer(['rouge1', 'rouge2', 'rougeL'])\n",
    "    rouge_scores = scorer.score(answer, predicted_answer)\n",
    "    rouge1 += rouge_scores['rouge1'].fmeasure\n",
    "    rouge2 += rouge_scores['rouge2'].fmeasure\n",
    "    rougel += rouge_scores['rougeL'].fmeasure\n",
    "    bleu += sentence_bleu([answer.split()], predicted_answer.split(), weights=(1.0, 0.0, 0.0, 0.0))\n",
    "\n",
    "# Calculate the average metrics\n",
    "em /= len(val_df)\n",
    "f1 /= len(val_df)\n",
    "rouge1 /= len(val_df)\n",
    "rouge2 /= len(val_df)\n",
    "rougel /= len(val_df)\n",
    "bleu /= len(val_df)\n",
    "\n",
    "# Print the metrics\n",
    "print('ROUGE-1:', rouge1)\n",
    "print('ROUGE-2:', rouge2)\n",
    "print('ROUGE-L:', rougel)\n",
    "print('BLEU:', bleu)"
   ]
  },
  {
   "cell_type": "markdown",
   "id": "70a7f050-4553-41ec-a984-b9028b4dd032",
   "metadata": {},
   "source": [
    "# Data Visualization of this approach"
   ]
  },
  {
   "cell_type": "markdown",
   "id": "5107c234-9dca-4438-9223-339d9ab59c1f",
   "metadata": {},
   "source": [
    "## Plot-1: Answers vs Predicted Answers\n",
    "\n",
    "This plot depicts that all the 10570 answers from the validation dataset are predicted."
   ]
  },
  {
   "cell_type": "code",
   "execution_count": 44,
   "id": "8ee3b585-46ae-4981-90da-57810a1e42d7",
   "metadata": {},
   "outputs": [
    {
     "data": {
      "image/png": "[encoded data removed]",
      "text/plain": [
       "<Figure size 1000x600 with 1 Axes>"
      ]
     },
     "metadata": {},
     "output_type": "display_data"
    }
   ],
   "source": [
    "plt.figure(figsize=(10, 6))\n",
    "bar_plot = sns.barplot(\n",
    "    x=['Actual Answers', 'Predicted Answers'],\n",
    "    y=[len(answers), len(predicted_answers)],\n",
    "    palette=['pink', 'orange']\n",
    ")\n",
    "\n",
    "# Adding counts on top of each bar\n",
    "for index, value in enumerate([len(answers), len(predicted_answers)]):\n",
    "    bar_plot.text(index, value + 0.1, str(value), ha='center', va='bottom')\n",
    "\n",
    "plt.title('Answers vs Predicted Answers')\n",
    "plt.xlabel('Type of Answer')\n",
    "plt.ylabel('Count')\n",
    "plt.show()"
   ]
  },
  {
   "cell_type": "markdown",
   "id": "c939ba89-2f70-4995-9813-d6e76e233904",
   "metadata": {},
   "source": [
    "## Plot-2: Distribution of Answer lengths\n",
    "\n",
    "This plot depicts the frequency distribution of answer lengths of **Actual answers** from validation dataset as well as **Predicted answers**."
   ]
  },
  {
   "cell_type": "code",
   "execution_count": 42,
   "id": "03fcf9c9-49c7-4f7f-a39e-21567f846b0a",
   "metadata": {},
   "outputs": [
    {
     "data": {
      "image/png": "[encoded data removed]",
      "text/plain": [
       "<Figure size 1000x600 with 1 Axes>"
      ]
     },
     "metadata": {},
     "output_type": "display_data"
    }
   ],
   "source": [
    "plt.figure(figsize=(10, 6))\n",
    "sns.histplot([len(answer) for answer in answers], label='Actual Answers', alpha=0.5, color='blue', bins=50, kde=True)\n",
    "sns.histplot([len(answer) for answer in predicted_answers], label='Predicted Answers', alpha=0.5, color='green', bins=50, kde=True)\n",
    "plt.title('Distribution of Answer Lengths')\n",
    "plt.xlabel('Answer Length')\n",
    "plt.ylabel('Frequency')\n",
    "plt.legend()\n",
    "plt.xlim(0, 800)\n",
    "plt.show()"
   ]
  },
  {
   "cell_type": "markdown",
   "id": "3aa5d209-1a62-48da-837a-91a0b4221597",
   "metadata": {},
   "source": [
    "## Plot-3: Visualize the Evaluation Metrics post prediction\n",
    "\n",
    "This barplot depicts the values of bleu score, rouge-1, rouge-2 and rougel scores."
   ]
  },
  {
   "cell_type": "code",
   "execution_count": 45,
   "id": "c4b1913a-9c48-4279-81f2-a5608d93fcce",
   "metadata": {},
   "outputs": [
    {
     "data": {
      "image/png": "[encoded data removed]",
      "text/plain": [
       "<Figure size 1000x600 with 1 Axes>"
      ]
     },
     "metadata": {},
     "output_type": "display_data"
    }
   ],
   "source": [
    "# Scores and labels\n",
    "scores = [bleu, rouge1, rouge2, rougel]\n",
    "labels = ['BLEU', 'ROUGE-1', 'ROUGE-2', 'ROUGE-L']\n",
    "\n",
    "# Plot 3: BLEU score, ROUGE-1, ROUGE-2 and ROUGE-L score\n",
    "plt.figure(figsize=(10, 6))\n",
    "bar_plot = sns.barplot(x=labels, y=scores, palette=['blue', 'green', 'red', 'yellow'])\n",
    "\n",
    "# Adding scores on top of each bar\n",
    "for index, value in enumerate(scores):\n",
    "    bar_plot.text(index, value + 0.01, f'{value:.2f}', ha='center', va='bottom')\n",
    "\n",
    "plt.title('Evaluation Metrics')\n",
    "plt.xlabel('Metric')\n",
    "plt.ylabel('Score')\n",
    "plt.show()"
   ]
  },
  {
   "cell_type": "markdown",
   "id": "1c878cac-18c0-4095-8e27-23026f991507",
   "metadata": {},
   "source": [
    "## Overall Observations from this approach:**"
   ]
  },
  {
   "cell_type": "markdown",
   "id": "9e1d7feb-2eb4-40df-b2d1-2e459748b7d3",
   "metadata": {},
   "source": [
    "### Strengths and Tasks performed uniquely compared with GPT2-medium approach:\n",
    "\n",
    "***Unlike GPT2-medium approach:***\n",
    "\n",
    "Yes, unlike the GPT2-medium approach, we have achieved great results when we applied BERT's bert-based-uncased model. Look at the following points on what we had followed to acheive this.\n",
    "\n",
    "- Here, we have uniquely followed by manually downloading the dataset, converting it to a dataframe and saving that file as well.\n",
    "- We haven't directly applied tokenization on the text data captured from the dataset. Instead, we performed some data cleaning before that.\n",
    "- We haven't used LoRA and PEFT techniques here. Instead, we used totally Pythonic approach to experiment how this model works by applying all the techniques using PyTorch library followed by the remaining ones.\n",
    "- As the requirement is to build the chatbot, we have to generate the text based answers for the context and question passed in. Here, we have not only considered the text generation point of view, but also we are responsible to manage the context and handle variety of topics while generating the text.\n",
    "- We made use of the `ans_start` and `ans_end` variables in the train dataset to capture the correct part of the answer.\n",
    "- This model has not ran into issues/errors while executing in MacBooks. This model is environment agnostic.\n",
    "- Though we don't have sufficient computational resources, we were able to achieve all the required results. Basically, we were able to validate all the 10570 rows of the validation dataset.\n",
    "- This model might not have great text generation capabilities compared with GPT2-medium model. But, it understands the context very well and can almost exactly predict the answers as expected, although there are some issues with the edge case rows alone (example: the answer of a row would be `[\"Newton was limited by Denver's defense\", 'Newton', 'Newton']`).\n",
    "- Validation loss was of minor but not that minor than GPT2-medium architecture. Still if we compare it in context management and variety topics handling point of view, BERT model was so good.\n",
    "\n",
    "- As I already mentioned in [this file](https://github.com/kraviteja95usd/smartchat-conversational-chatbot/blob/chatbot-by-ravi/SQuAD_using_gpt2-medium/squad_lora_gpt2_medium_validation.ipynb), please be informed that usually such type of Question-Answering datasets does not qualify for a conversational chatbot that supports multi-turn conversations.\n",
    "\n",
    "However, we had included the context-management as well as handling variety of topics. Let me explain them below.\n",
    "\n",
    "    - ***Context Management***: We trained this model in such a way that if you just set the context once and ask multiple questions one after the other, it will definitely answer your questions based on that context. If at all you wish to change the context, just change it and ask the questions accordingly.\n",
    "    - ***Handling Variety of topics***: Ofcourse we have handled this. Though we trained this using SQuAD dataset alone, even though you provide some random context from the internet and ask questions based on it, it will definitely answer your query.\n",
    "\n",
    "For evidences, please take a look at the result files.\n",
    "\n",
    "Links to the resultant files:\n",
    "\n",
    "- [Dark Themed Chatbot UI Results of SQuAD Chatbot using BERT](https://github.com/kraviteja95usd/smartchat-conversational-chatbot/blob/chatbot-by-ravi/SQuAD_using_bert-base-uncased/SQuAD_using_bert-base-uncased_chatbot_UI_Screenshots/SquAD_using_BERT_Dark_Themed_Chatbot_UI_Screenshots.pdf)\n",
    "\n",
    "- [Light Themed Chatbot UI Results of SQuAD Chatbot using BERT](https://github.com/kraviteja95usd/smartchat-conversational-chatbot/blob/chatbot-by-ravi/SQuAD_using_bert-base-uncased/SQuAD_using_bert-base-uncased_chatbot_UI_Screenshots/SquAD_using_BERT_White_Themed_Chatbot_UI_Screenshots.pdf)\n",
    "    \n",
    "- Let us take a look at the performance metrics scores of this model post predictions.\n",
    "\n",
    "    - ***BLEU Score(0.47)***: Usually, BLEU score explains the similarity between the actual and predicted texts. If a BLEU  score value is  0.47, it means that there is a moderate (47%) similarity between the actual and predicted texts. It captures certain important phrases or sequences of words, though not exact.\n",
    "    \n",
    "    - ***ROUGE-1 (0.62)***: Assesses the similarity of individual words (unigrams) in the produced text and the reference. A score of 0.62 implies that approximately 62% of the individual words in the reference text are present in the generated output.\n",
    "\n",
    "    - ***ROUGE-2 (0.37)***: Assesses the similarity of adjacent word pairs. A 0.37 score means approximately 37% of the bigrams from the reference are found in the generated output.\n",
    "\n",
    "    - ***ROUGE-L (0.61)***: Takes into account the longest common subsequence (LCS) between the produced output and the reference. The score indicates that approximately 61% of the reference's content is accounted for by the longest matching sequences.\n",
    "\n",
    "    Overall observation for ROUGE score is: the ROUGE scores indicate a moderate level of similarity between the generated responses and the reference answers, with better matching at the unigram level than at the bigram level.\n",
    "\n",
    "    - Because, - As I already mentioned in [this file](https://github.com/kraviteja95usd/smartchat-conversational-chatbot/blob/chatbot-by-ravi/SQuAD_using_gpt2-medium/squad_lora_gpt2_medium_validation.ipynb), there are few edge case anwers in the validation dataset such as `[\"Newton was limited by Denver's defense\", 'Newton', 'Newton']`. Due to such reasons, along with using only the first 5 rows to predict, the ROUGE and BLEU scores were very low. But in general if you look at the above predicted results, this model has very well predicted the results.\n",
    "    \n",
    "    - Frequency distributions of both the actual and predicted answers' words are almost consistent from the histogram plotted above.\n",
    "\n",
    "### Pain points noticed and the tasks that were not performed:\n",
    "\n",
    "- Due to time constraints, we could not spend on handling the edge cases where multiple answers are available within the single question of the context in validation dataset (example: `[\"Newton was limited by Denver's defense\", 'Newton', 'Newton']`).\n",
    "- We might have lost the accuracy in terms of exactly matching the predicted answer with the actual answer. But still, I am very happy that the predicted answer is the correct one.\n",
    "- Due to computational resource and time constraints, we performed only the following items in minimal amount:\n",
    "    1. I could train only 3 epochs with sleepless nights with a very low level GPU that's embedded within my MacBook.\n",
    "    2. We are unable to achieve multi-turn conversations feature because.\n",
    "\n",
    "Overall, when we compare this approach with GPT2-medium approach, this has outperformed from its predictions, context management, handling variety of topics point of view.\n",
    "\n",
    "**IMPORTANT NOTE:**\n",
    "\n",
    "- Here, wherever I mention about ***not matching the predicted answer with actual answer*** means:\n",
    "    - It could be appending additional response either to the prefix or suffix area of the predicted answer.\n",
    "    - It could be because of predicted answer being displayed as `denver` and actual answer could be `Denver`.\n",
    "    - It could be because of predicted answer being displayed as `denver` and actual answer could be `['Denver', 'Denver', 'Denver']`.\n",
    "\n",
    "  But not from the obtained answer point of view.😊\n",
    "\n",
    "### Future Improvement Suggestions:\n",
    "\n",
    "- Try a hybrid mode of training. I mean - we can give a try to take 3 to 4 conversational dataset along with the current SQuAD one, train all of them to a single model, apply multi-turn conversational approaches and make it a complete chatbot. It should be similar to ChatGPT, perplexity.ai, blackbox.ai, Meta AI etc. etc.\n",
    "- Try obtaining some high computational power so that the the training and validation can be perfectly done."
   ]
  },
  {
   "cell_type": "markdown",
   "id": "3aa6345c-3c98-4efc-be6d-6dc90d8374e9",
   "metadata": {},
   "source": [
    "# Business use-cases of this Chatbot"
   ]
  },
  {
   "cell_type": "markdown",
   "id": "70e63b47-554d-4f32-956d-f7aadbf341a3",
   "metadata": {},
   "source": [
    "Chatbots can be used in real-world at many places. Few use-cases would be:\n",
    "\n",
    "- 24*7 customer support to handle customer queries and guide in resolving the issues.\n",
    "- Automation of FAQs in any field.\n",
    "- Users can check the status of their eCommerce orders and get notified about shipping updates.\n",
    "- Users can get their banking informatione easily.\n",
    "- Help students with basic educational information.\n",
    "- Book online health consultations.\n",
    "- Help astronauts and ground control by offering rapid access to mission information, schedules, and problem-solving guidelines. For example, they are able to access data on spacecraft systems or conduct simple calculations for navigation purposes.\n",
    "- Utilize in streaming platforms to suggest songs, albums, or artists by considering user preferences and listening history. Additionally, they have the ability to recommend playlists tailored to certain emotions, tasks, or music styles.\n",
    "- Communicate with robots in order to assist operators in managing or overseeing robotic systems. As an illustration, they are able to give status updates, manage motion, or carry out instructions in manufacturing industrial robots."
   ]
  }
 ],
 "metadata": {
  "kernelspec": {
   "display_name": "Python 3 (ipykernel)",
   "language": "python",
   "name": "python3"
  },
  "language_info": {
   "codemirror_mode": {
    "name": "ipython",
    "version": 3
   },
   "file_extension": ".py",
   "mimetype": "text/x-python",
   "name": "python",
   "nbconvert_exporter": "python",
   "pygments_lexer": "ipython3",
   "version": "3.10.4"
  }
 },
 "nbformat": 4,
 "nbformat_minor": 5
}
