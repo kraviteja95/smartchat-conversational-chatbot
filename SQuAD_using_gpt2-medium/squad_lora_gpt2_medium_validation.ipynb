{
 "cells": [
  {
   "cell_type": "markdown",
   "id": "877d6523-cca3-43fa-b520-5cfe9bb4d01d",
   "metadata": {},
   "source": [
    "**Authors:**\n",
    "\n",
    "- Ravi Teja Kothuru (Primary)\n",
    "- Soumi Ray\n",
    "- Anwesha Sarangi\n",
    "\n",
    "**Title of the Project:** SmartChat: A Context-Aware Conversational Agent\n",
    "\n",
    "**Description of the Project:** Develop a chatbot that can effectively adapt to context and topic shifts in a conversation, leveraging the Stanford Question Answering Dataset to provide informed and relevant responses, and thereby increasing user satisfaction and engagement.\n",
    "\n",
    "**Objectives of the Project:** Create a user-friendly web or app interface that enables users to have natural and coherent conversations with the chatbot, with high satisfaction rating.\n",
    "\n",
    "**Name of the Dataset:** Stanford Question Answering Dataset\n",
    "\n",
    "**Description of the Dataset:** The Stanford Question Answering Dataset (SQuAD) is a reading comprehension dataset consisting of questions posed by crowdworkers on a set of Wikipedia articles. The answer to every question is a segment of text, or span, from the corresponding reading passage. There are 100,000+ question-answer pairs on 500+ articles. More information can be found at: https://rajpurkar.github.io/SQuAD-explorer/\n",
    "\n",
    "**Dataset Source:**\n",
    "\n",
    "Kaggle (https://www.kaggle.com/datasets/stanfordu/stanford-question-answering-dataset)\n",
    "\n",
    "***Number of Variables in Dataset:*** There are 2 variables in this dataset\n",
    "\n",
    "- data\n",
    "- version\n",
    "\n",
    "Each of these have other variables such as:\n",
    "\n",
    "- ***context:*** A lengthy paragraph that has some information.\n",
    "- ***question:*** A question based on the context.\n",
    "- ***answer:*** An answer to the context from the context.\n",
    "- ***ans_start:*** The index value of context where the answer to the question is started.\n",
    "- ***ans_end:*** The index value of context where the answer to the question is ended.\n",
    "\n",
    "***Size of the Dataset:*** The dataset has 2 JSON files. One is for training and the other is for validation\n",
    "\n",
    "- Training Dataset's filename is train-v1.1.json and it size is 30.3 MB.\n",
    "- Validation Dataset's filename is dev-v1.1.json and it size is 4.9 MB."
   ]
  },
  {
   "cell_type": "markdown",
   "id": "81712eee-ca76-4f78-9929-de7f0d9ee560",
   "metadata": {},
   "source": [
    "# Install/Import all the necessary libraries"
   ]
  },
  {
   "cell_type": "code",
   "execution_count": 1,
   "id": "ee7b7e69-20fc-4bc5-9de7-9608e35ba9c7",
   "metadata": {},
   "outputs": [
    {
     "name": "stdout",
     "output_type": "stream",
     "text": [
      "Requirement already satisfied: datasets in /home/ravi/Documents/my_projects/chatbot-using-gpt2-medium/jupyter_env/lib/python3.12/site-packages (3.0.1)\n",
      "Requirement already satisfied: torch in /home/ravi/Documents/my_projects/chatbot-using-gpt2-medium/jupyter_env/lib/python3.12/site-packages (2.5.0)\n",
      "Requirement already satisfied: peft in /home/ravi/Documents/my_projects/chatbot-using-gpt2-medium/jupyter_env/lib/python3.12/site-packages (0.13.2)\n",
      "Requirement already satisfied: transformers in /home/ravi/Documents/my_projects/chatbot-using-gpt2-medium/jupyter_env/lib/python3.12/site-packages (4.45.2)\n",
      "Requirement already satisfied: evaluate in /home/ravi/Documents/my_projects/chatbot-using-gpt2-medium/jupyter_env/lib/python3.12/site-packages (0.4.3)\n",
      "Requirement already satisfied: safetensors in /home/ravi/Documents/my_projects/chatbot-using-gpt2-medium/jupyter_env/lib/python3.12/site-packages (0.4.5)\n",
      "Requirement already satisfied: rouge-score in /home/ravi/Documents/my_projects/chatbot-using-gpt2-medium/jupyter_env/lib/python3.12/site-packages (0.1.2)\n",
      "Requirement already satisfied: nltk in /home/ravi/Documents/my_projects/chatbot-using-gpt2-medium/jupyter_env/lib/python3.12/site-packages (3.9.1)\n",
      "Requirement already satisfied: rouge in /home/ravi/Documents/my_projects/chatbot-using-gpt2-medium/jupyter_env/lib/python3.12/site-packages (1.0.1)\n",
      "Requirement already satisfied: seaborn in /home/ravi/Documents/my_projects/chatbot-using-gpt2-medium/jupyter_env/lib/python3.12/site-packages (0.13.2)\n",
      "Requirement already satisfied: matplotlib in /home/ravi/Documents/my_projects/chatbot-using-gpt2-medium/jupyter_env/lib/python3.12/site-packages (3.9.2)\n",
      "Requirement already satisfied: filelock in /home/ravi/Documents/my_projects/chatbot-using-gpt2-medium/jupyter_env/lib/python3.12/site-packages (from datasets) (3.16.1)\n",
      "Requirement already satisfied: numpy>=1.17 in /home/ravi/Documents/my_projects/chatbot-using-gpt2-medium/jupyter_env/lib/python3.12/site-packages (from datasets) (2.1.2)\n",
      "Requirement already satisfied: pyarrow>=15.0.0 in /home/ravi/Documents/my_projects/chatbot-using-gpt2-medium/jupyter_env/lib/python3.12/site-packages (from datasets) (17.0.0)\n",
      "Requirement already satisfied: dill<0.3.9,>=0.3.0 in /home/ravi/Documents/my_projects/chatbot-using-gpt2-medium/jupyter_env/lib/python3.12/site-packages (from datasets) (0.3.8)\n",
      "Requirement already satisfied: pandas in /home/ravi/Documents/my_projects/chatbot-using-gpt2-medium/jupyter_env/lib/python3.12/site-packages (from datasets) (2.2.3)\n",
      "Requirement already satisfied: requests>=2.32.2 in /home/ravi/Documents/my_projects/chatbot-using-gpt2-medium/jupyter_env/lib/python3.12/site-packages (from datasets) (2.32.3)\n",
      "Requirement already satisfied: tqdm>=4.66.3 in /home/ravi/Documents/my_projects/chatbot-using-gpt2-medium/jupyter_env/lib/python3.12/site-packages (from datasets) (4.66.5)\n",
      "Requirement already satisfied: xxhash in /home/ravi/Documents/my_projects/chatbot-using-gpt2-medium/jupyter_env/lib/python3.12/site-packages (from datasets) (3.5.0)\n",
      "Requirement already satisfied: multiprocess in /home/ravi/Documents/my_projects/chatbot-using-gpt2-medium/jupyter_env/lib/python3.12/site-packages (from datasets) (0.70.16)\n",
      "Requirement already satisfied: fsspec<=2024.6.1,>=2023.1.0 in /home/ravi/Documents/my_projects/chatbot-using-gpt2-medium/jupyter_env/lib/python3.12/site-packages (from fsspec[http]<=2024.6.1,>=2023.1.0->datasets) (2024.6.1)\n",
      "Requirement already satisfied: aiohttp in /home/ravi/Documents/my_projects/chatbot-using-gpt2-medium/jupyter_env/lib/python3.12/site-packages (from datasets) (3.10.10)\n",
      "Requirement already satisfied: huggingface-hub>=0.22.0 in /home/ravi/Documents/my_projects/chatbot-using-gpt2-medium/jupyter_env/lib/python3.12/site-packages (from datasets) (0.26.0)\n",
      "Requirement already satisfied: packaging in /home/ravi/Documents/my_projects/chatbot-using-gpt2-medium/jupyter_env/lib/python3.12/site-packages (from datasets) (24.1)\n",
      "Requirement already satisfied: pyyaml>=5.1 in /home/ravi/Documents/my_projects/chatbot-using-gpt2-medium/jupyter_env/lib/python3.12/site-packages (from datasets) (6.0.2)\n",
      "Requirement already satisfied: typing-extensions>=4.8.0 in /home/ravi/Documents/my_projects/chatbot-using-gpt2-medium/jupyter_env/lib/python3.12/site-packages (from torch) (4.12.2)\n",
      "Requirement already satisfied: networkx in /home/ravi/Documents/my_projects/chatbot-using-gpt2-medium/jupyter_env/lib/python3.12/site-packages (from torch) (3.4.1)\n",
      "Requirement already satisfied: jinja2 in /home/ravi/Documents/my_projects/chatbot-using-gpt2-medium/jupyter_env/lib/python3.12/site-packages (from torch) (3.1.4)\n",
      "Requirement already satisfied: setuptools in /home/ravi/Documents/my_projects/chatbot-using-gpt2-medium/jupyter_env/lib/python3.12/site-packages (from torch) (75.2.0)\n",
      "Requirement already satisfied: sympy==1.13.1 in /home/ravi/Documents/my_projects/chatbot-using-gpt2-medium/jupyter_env/lib/python3.12/site-packages (from torch) (1.13.1)\n",
      "Requirement already satisfied: mpmath<1.4,>=1.1.0 in /home/ravi/Documents/my_projects/chatbot-using-gpt2-medium/jupyter_env/lib/python3.12/site-packages (from sympy==1.13.1->torch) (1.3.0)\n",
      "Requirement already satisfied: psutil in /home/ravi/Documents/my_projects/chatbot-using-gpt2-medium/jupyter_env/lib/python3.12/site-packages (from peft) (6.1.0)\n",
      "Requirement already satisfied: accelerate>=0.21.0 in /home/ravi/Documents/my_projects/chatbot-using-gpt2-medium/jupyter_env/lib/python3.12/site-packages (from peft) (1.0.1)\n",
      "Requirement already satisfied: regex!=2019.12.17 in /home/ravi/Documents/my_projects/chatbot-using-gpt2-medium/jupyter_env/lib/python3.12/site-packages (from transformers) (2024.9.11)\n",
      "Requirement already satisfied: tokenizers<0.21,>=0.20 in /home/ravi/Documents/my_projects/chatbot-using-gpt2-medium/jupyter_env/lib/python3.12/site-packages (from transformers) (0.20.1)\n",
      "Requirement already satisfied: absl-py in /home/ravi/Documents/my_projects/chatbot-using-gpt2-medium/jupyter_env/lib/python3.12/site-packages (from rouge-score) (2.1.0)\n",
      "Requirement already satisfied: six>=1.14.0 in /home/ravi/Documents/my_projects/chatbot-using-gpt2-medium/jupyter_env/lib/python3.12/site-packages (from rouge-score) (1.16.0)\n",
      "Requirement already satisfied: click in /home/ravi/Documents/my_projects/chatbot-using-gpt2-medium/jupyter_env/lib/python3.12/site-packages (from nltk) (8.1.7)\n",
      "Requirement already satisfied: joblib in /home/ravi/Documents/my_projects/chatbot-using-gpt2-medium/jupyter_env/lib/python3.12/site-packages (from nltk) (1.4.2)\n",
      "Requirement already satisfied: contourpy>=1.0.1 in /home/ravi/Documents/my_projects/chatbot-using-gpt2-medium/jupyter_env/lib/python3.12/site-packages (from matplotlib) (1.3.0)\n",
      "Requirement already satisfied: cycler>=0.10 in /home/ravi/Documents/my_projects/chatbot-using-gpt2-medium/jupyter_env/lib/python3.12/site-packages (from matplotlib) (0.12.1)\n",
      "Requirement already satisfied: fonttools>=4.22.0 in /home/ravi/Documents/my_projects/chatbot-using-gpt2-medium/jupyter_env/lib/python3.12/site-packages (from matplotlib) (4.54.1)\n",
      "Requirement already satisfied: kiwisolver>=1.3.1 in /home/ravi/Documents/my_projects/chatbot-using-gpt2-medium/jupyter_env/lib/python3.12/site-packages (from matplotlib) (1.4.7)\n",
      "Requirement already satisfied: pillow>=8 in /home/ravi/Documents/my_projects/chatbot-using-gpt2-medium/jupyter_env/lib/python3.12/site-packages (from matplotlib) (10.4.0)\n",
      "Requirement already satisfied: pyparsing>=2.3.1 in /home/ravi/Documents/my_projects/chatbot-using-gpt2-medium/jupyter_env/lib/python3.12/site-packages (from matplotlib) (3.2.0)\n",
      "Requirement already satisfied: python-dateutil>=2.7 in /home/ravi/Documents/my_projects/chatbot-using-gpt2-medium/jupyter_env/lib/python3.12/site-packages (from matplotlib) (2.9.0.post0)\n",
      "Requirement already satisfied: aiohappyeyeballs>=2.3.0 in /home/ravi/Documents/my_projects/chatbot-using-gpt2-medium/jupyter_env/lib/python3.12/site-packages (from aiohttp->datasets) (2.4.3)\n",
      "Requirement already satisfied: aiosignal>=1.1.2 in /home/ravi/Documents/my_projects/chatbot-using-gpt2-medium/jupyter_env/lib/python3.12/site-packages (from aiohttp->datasets) (1.3.1)\n",
      "Requirement already satisfied: attrs>=17.3.0 in /home/ravi/Documents/my_projects/chatbot-using-gpt2-medium/jupyter_env/lib/python3.12/site-packages (from aiohttp->datasets) (24.2.0)\n",
      "Requirement already satisfied: frozenlist>=1.1.1 in /home/ravi/Documents/my_projects/chatbot-using-gpt2-medium/jupyter_env/lib/python3.12/site-packages (from aiohttp->datasets) (1.4.1)\n",
      "Requirement already satisfied: multidict<7.0,>=4.5 in /home/ravi/Documents/my_projects/chatbot-using-gpt2-medium/jupyter_env/lib/python3.12/site-packages (from aiohttp->datasets) (6.1.0)\n",
      "Requirement already satisfied: yarl<2.0,>=1.12.0 in /home/ravi/Documents/my_projects/chatbot-using-gpt2-medium/jupyter_env/lib/python3.12/site-packages (from aiohttp->datasets) (1.15.5)\n",
      "Requirement already satisfied: pytz>=2020.1 in /home/ravi/Documents/my_projects/chatbot-using-gpt2-medium/jupyter_env/lib/python3.12/site-packages (from pandas->datasets) (2024.2)\n",
      "Requirement already satisfied: tzdata>=2022.7 in /home/ravi/Documents/my_projects/chatbot-using-gpt2-medium/jupyter_env/lib/python3.12/site-packages (from pandas->datasets) (2024.2)\n",
      "Requirement already satisfied: charset-normalizer<4,>=2 in /home/ravi/Documents/my_projects/chatbot-using-gpt2-medium/jupyter_env/lib/python3.12/site-packages (from requests>=2.32.2->datasets) (3.4.0)\n",
      "Requirement already satisfied: idna<4,>=2.5 in /home/ravi/Documents/my_projects/chatbot-using-gpt2-medium/jupyter_env/lib/python3.12/site-packages (from requests>=2.32.2->datasets) (3.10)\n",
      "Requirement already satisfied: urllib3<3,>=1.21.1 in /home/ravi/Documents/my_projects/chatbot-using-gpt2-medium/jupyter_env/lib/python3.12/site-packages (from requests>=2.32.2->datasets) (2.2.3)\n",
      "Requirement already satisfied: certifi>=2017.4.17 in /home/ravi/Documents/my_projects/chatbot-using-gpt2-medium/jupyter_env/lib/python3.12/site-packages (from requests>=2.32.2->datasets) (2024.8.30)\n",
      "Requirement already satisfied: MarkupSafe>=2.0 in /home/ravi/Documents/my_projects/chatbot-using-gpt2-medium/jupyter_env/lib/python3.12/site-packages (from jinja2->torch) (2.1.5)\n",
      "Requirement already satisfied: propcache>=0.2.0 in /home/ravi/Documents/my_projects/chatbot-using-gpt2-medium/jupyter_env/lib/python3.12/site-packages (from yarl<2.0,>=1.12.0->aiohttp->datasets) (0.2.0)\n"
     ]
    },
    {
     "name": "stderr",
     "output_type": "stream",
     "text": [
      "Error in cpuinfo: prctl(PR_SVE_GET_VL) failed\n"
     ]
    }
   ],
   "source": [
    "!pip install datasets torch peft transformers evaluate safetensors rouge-score nltk rouge seaborn matplotlib\n",
    "import torch\n",
    "import gc\n",
    "from transformers import AutoTokenizer, AutoModelForCausalLM, AutoConfig\n",
    "from safetensors.torch import load_model, save_model\n",
    "from datasets import load_dataset\n",
    "import evaluate\n",
    "from peft import PeftModel, PeftConfig\n",
    "import os\n",
    "import rouge\n",
    "from nltk.translate.bleu_score import sentence_bleu\n",
    "from nltk.tokenize import word_tokenize\n",
    "import nltk\n",
    "import matplotlib.pyplot as plt\n",
    "import seaborn as sns"
   ]
  },
  {
   "cell_type": "markdown",
   "id": "7741f26f-3c01-474f-8529-d567919cb01e",
   "metadata": {},
   "source": [
    "# Load the GPT2-Medium Tokenizer\n",
    "\n",
    "- **Set Padding Token:** The code assigns a special symbol to represent empty spaces or padding in the text. This symbol helps the model understand when there is no actual content.\n",
    "\n",
    "- **Assign Padding Token ID:** The code also sets an identifier for the padding symbol. This identifier is a number that the model uses to recognize the padding symbol in the processed text."
   ]
  },
  {
   "cell_type": "code",
   "execution_count": 2,
   "id": "0e377569-eb97-4ac2-bae8-f5cb51cf8c08",
   "metadata": {},
   "outputs": [],
   "source": [
    "# load tokenizer\n",
    "tokenizer = AutoTokenizer.from_pretrained(\n",
    "    \"openai-community/gpt2-medium\"\n",
    ")\n",
    "\n",
    "tokenizer.pad_token = tokenizer.eos_token\n",
    "tokenizer.pad_token_id = tokenizer.eos_token_id"
   ]
  },
  {
   "cell_type": "markdown",
   "id": "d261d7c4-c92c-4f95-a03b-cf5c295615a4",
   "metadata": {},
   "source": [
    "# Verify the existence of CPU/GPU and confirm what is being used"
   ]
  },
  {
   "cell_type": "code",
   "execution_count": 3,
   "id": "7cc5e239-6eff-4f71-b4e7-f920d843341e",
   "metadata": {},
   "outputs": [
    {
     "name": "stdout",
     "output_type": "stream",
     "text": [
      "Currently using the device: cpu\n"
     ]
    }
   ],
   "source": [
    "# Check if GPU is available. If yes, use it. Else, use CPU\n",
    "device = torch.device(\"cuda\" if torch.cuda.is_available() else \"cpu\")\n",
    "print(f\"Currently using the device: {device}\")"
   ]
  },
  {
   "cell_type": "markdown",
   "id": "fdd97038-5f6f-45c0-95bb-69c712d6bc88",
   "metadata": {},
   "source": [
    "# Load SQuAD dataset from HuggingFace datasets library and capture only the Validation part of it\n",
    "\n",
    "- Please be informed - this SQuAD (Stanford Question Answering) dataset is available in HuggingFace's datasets library itself. Hence, there is no need of downloading the dataset files to the local and loading them.\n",
    "\n",
    "- Since we are working on SQuAD v1.1, squad should be sufficient. The `load_dataset` function from datasets library helps in loading the required dataset.\n",
    "\n",
    "- As there are more than 10000 records we initially loaded only the first 5 records of the validation dataset."
   ]
  },
  {
   "cell_type": "code",
   "execution_count": 4,
   "id": "9fa1503f-fc2a-4492-8aef-5d3aef6a18ac",
   "metadata": {},
   "outputs": [
    {
     "data": {
      "text/plain": [
       "Dataset({\n",
       "    features: ['id', 'title', 'context', 'question', 'answers'],\n",
       "    num_rows: 5\n",
       "})"
      ]
     },
     "execution_count": 4,
     "metadata": {},
     "output_type": "execute_result"
    }
   ],
   "source": [
    "dataset = load_dataset(\"squad\")\n",
    "validation_ds = dataset['validation'].select(range(5))\n",
    "validation_ds"
   ]
  },
  {
   "cell_type": "markdown",
   "id": "c78d6bae-7ae2-42eb-a5ae-424a1c7c37f7",
   "metadata": {},
   "source": [
    "# Function to format the input prompt and tokenize it\n",
    "\n",
    "- `prompts` list contains formatted strings for each question and its corresponding context.\n",
    "- For each pair of question (`q`) and context (`c`) in `examples`, the function creates a string that starts with `\"Context: \"`, followed by the context text, then `\"Question: \"`, followed by the question text, and finally ends with `\"<|start_answer|>\"`.\n",
    "- After creating the list of formatted strings, the `tokenizer` function is called. This function converts the list of prompts into numerical representations that the model can understand.\n",
    "\n",
    "**Parameters of Tokenization**:\n",
    "   - `padding=\"max_length\"`: This ensures that all the tokenized prompts are padded to the maximum length specified by `max_length`.\n",
    "   - `truncation=True`: This allows any prompts that exceed the `max_length` to be shortened.\n",
    "   - `max_length=256`: This sets the maximum length for each tokenized prompt to 256 tokens.\n",
    "   - `return_tensors='pt'`: This specifies that the output should be returned as PyTorch tensors, which can be used for model input.\n",
    "\n",
    "- Finally, the function returns the tokenized prompts, which are now in a format suitable for input into a model.\n",
    "\n",
    "Look at the following code for the same."
   ]
  },
  {
   "cell_type": "code",
   "execution_count": 5,
   "id": "dd80fcdd-bae4-45c0-b89f-bfb7caa55fdd",
   "metadata": {},
   "outputs": [],
   "source": [
    "# define format prompt function\n",
    "def format_prompts(examples):\n",
    "    prompts = [f\"Context: {c}\\nQuestion: {q}\\n <|start_answer|> Answer:\" for q, c in zip(examples['question'], examples['context'])]\n",
    "    return tokenizer(prompts, padding=\"max_length\", truncation=True, max_length=1000, return_tensors='pt')"
   ]
  },
  {
   "cell_type": "markdown",
   "id": "7fa6a162-3831-4979-9309-7a2b56f98f35",
   "metadata": {},
   "source": [
    "- The function named `extract_answer`, which takes one parameter called `generated_text`. This parameter is expected to be a string containing some text.\n",
    "- `start_token` is defined with the value `\"<|start_answer|>\"`. This token is used to identify where the actual answer starts in the generated text.\n",
    "- The function searches for the `start_token` in the `generated_text` and finds its position using the `find` method. \n",
    "- It then adds the length of `start_token` to this position to determine the starting index (`start_idx`) of the actual answer text.\n",
    "- The code checks if `start_idx` is not equal to -1, which means the `start_token` was found in the text. \n",
    "- If the token is found, it extracts the answer text starting from `start_idx` and removes any leading or trailing whitespace using the `strip` method.\n",
    "\n",
    "**Purpose**:\n",
    "- The main purpose of this function is to isolate and return the answer portion of the `generated_text`, which is located after a specific start token."
   ]
  },
  {
   "cell_type": "code",
   "execution_count": 10,
   "id": "c6841df9-694d-4268-ba4a-1854ed7ca911",
   "metadata": {},
   "outputs": [],
   "source": [
    "def extract_answer(generated_text):\n",
    "    start_token = \"<|start_answer|>\"\n",
    "    \n",
    "    # Extract the text between the special tokens\n",
    "    start_idx = generated_text.find(start_token) + len(start_token)\n",
    "    \n",
    "    if start_idx != -1:\n",
    "        generated_text = generated_text[start_idx:].strip()\n",
    "    \n",
    "    question_index = generated_text.find(\"Question:\")\n",
    "\n",
    "    if question_index != -1:\n",
    "        generated_text = generated_text[0:question_index].strip()\n",
    "    \n",
    "    return generated_text"
   ]
  },
  {
   "cell_type": "markdown",
   "id": "cf2f8e0c-43f6-4523-8eb5-45f346c82e63",
   "metadata": {},
   "source": [
    "## Load the fine-tuned and trained gpt2-medium-lora model"
   ]
  },
  {
   "cell_type": "markdown",
   "id": "3fd48b06-1675-4c6e-8ba2-c14c84ec80a1",
   "metadata": {},
   "source": [
    "- As there are more than 10000 records in the validation dataset, the Jupyter notebook cannot handle printing all those records.\n",
    "- Hence, I have printed only 5 records of the validation dataset to make you better understand.\n",
    "- Detailed prediction will be demonstrated using the Chatbot UI."
   ]
  },
  {
   "cell_type": "code",
   "execution_count": 11,
   "id": "ab2ca242-544a-47e6-b8eb-235b96a2a3ed",
   "metadata": {},
   "outputs": [
    {
     "name": "stderr",
     "output_type": "stream",
     "text": [
      "Setting `pad_token_id` to `eos_token_id`:None for open-end generation.\n",
      "A decoder-only architecture is being used, but right-padding was detected! For correct generation results, please set `padding_side='left'` when initializing the tokenizer.\n"
     ]
    },
    {
     "name": "stdout",
     "output_type": "stream",
     "text": [
      "\n",
      "-------compare--------\n",
      "\n",
      "input:\n",
      "Context: Super Bowl 50 was an American football game to determine the champion of the National Football League (NFL) for the 2015 season. The American Football Conference (AFC) champion Denver Broncos defeated the National Football Conference (NFC) champion Carolina Panthers 24–10 to earn their third Super Bowl title. The game was played on February 7, 2016, at Levi's Stadium in the San Francisco Bay Area at Santa Clara, California. As this was the 50th Super Bowl, the league emphasized the \"golden anniversary\" with various gold-themed initiatives, as well as temporarily suspending the tradition of naming each Super Bowl game with Roman numerals (under which the game would have been known as \"Super Bowl L\"), so that the logo could prominently feature the Arabic numerals 50.\n",
      "Question: Which NFL team represented the AFC at Super Bowl 50?\n",
      " <|start_answer|> Answer:\n",
      "\n",
      "answer:\n",
      "Answer:The Denver Broncos\n",
      "\n",
      "-------compare--------\n",
      "\n",
      "input:\n",
      "Context: Super Bowl 50 was an American football game to determine the champion of the National Football League (NFL) for the 2015 season. The American Football Conference (AFC) champion Denver Broncos defeated the National Football Conference (NFC) champion Carolina Panthers 24–10 to earn their third Super Bowl title. The game was played on February 7, 2016, at Levi's Stadium in the San Francisco Bay Area at Santa Clara, California. As this was the 50th Super Bowl, the league emphasized the \"golden anniversary\" with various gold-themed initiatives, as well as temporarily suspending the tradition of naming each Super Bowl game with Roman numerals (under which the game would have been known as \"Super Bowl L\"), so that the logo could prominently feature the Arabic numerals 50.\n",
      "Question: Which NFL team represented the NFC at Super Bowl 50?\n",
      " <|start_answer|> Answer:\n",
      "\n",
      "answer:\n",
      "Answer:The New England Patriots (NFC)\n",
      "\n",
      "-------compare--------\n",
      "\n",
      "input:\n",
      "Context: Super Bowl 50 was an American football game to determine the champion of the National Football League (NFL) for the 2015 season. The American Football Conference (AFC) champion Denver Broncos defeated the National Football Conference (NFC) champion Carolina Panthers 24–10 to earn their third Super Bowl title. The game was played on February 7, 2016, at Levi's Stadium in the San Francisco Bay Area at Santa Clara, California. As this was the 50th Super Bowl, the league emphasized the \"golden anniversary\" with various gold-themed initiatives, as well as temporarily suspending the tradition of naming each Super Bowl game with Roman numerals (under which the game would have been known as \"Super Bowl L\"), so that the logo could prominently feature the Arabic numerals 50.\n",
      "Question: Where did Super Bowl 50 take place?\n",
      " <|start_answer|> Answer:\n",
      "\n",
      "answer:\n",
      "Answer:The game was played at Levi's Stadium in the San Francisco Bay Area at Santa Clara, California.\n",
      "\n",
      "-------compare--------\n",
      "\n",
      "input:\n",
      "Context: Super Bowl 50 was an American football game to determine the champion of the National Football League (NFL) for the 2015 season. The American Football Conference (AFC) champion Denver Broncos defeated the National Football Conference (NFC) champion Carolina Panthers 24–10 to earn their third Super Bowl title. The game was played on February 7, 2016, at Levi's Stadium in the San Francisco Bay Area at Santa Clara, California. As this was the 50th Super Bowl, the league emphasized the \"golden anniversary\" with various gold-themed initiatives, as well as temporarily suspending the tradition of naming each Super Bowl game with Roman numerals (under which the game would have been known as \"Super Bowl L\"), so that the logo could prominently feature the Arabic numerals 50.\n",
      "Question: Which NFL team won Super Bowl 50?\n",
      " <|start_answer|> Answer:\n",
      "\n",
      "answer:\n",
      "Answer:The Denver Broncos (4-0) won the Super Bowl 50 championship game over the Carolina Panthers (2-2) in the NFC Championship Game. The Broncos\n",
      "\n",
      "-------compare--------\n",
      "\n",
      "input:\n",
      "Context: Super Bowl 50 was an American football game to determine the champion of the National Football League (NFL) for the 2015 season. The American Football Conference (AFC) champion Denver Broncos defeated the National Football Conference (NFC) champion Carolina Panthers 24–10 to earn their third Super Bowl title. The game was played on February 7, 2016, at Levi's Stadium in the San Francisco Bay Area at Santa Clara, California. As this was the 50th Super Bowl, the league emphasized the \"golden anniversary\" with various gold-themed initiatives, as well as temporarily suspending the tradition of naming each Super Bowl game with Roman numerals (under which the game would have been known as \"Super Bowl L\"), so that the logo could prominently feature the Arabic numerals 50.\n",
      "Question: What color was used to emphasize the 50th anniversary of the Super Bowl?\n",
      " <|start_answer|> Answer:\n",
      "\n",
      "answer:\n",
      "Answer:The color of the gold-colored helmet was gold. The color of the gold-colored helmet was gold.\n"
     ]
    }
   ],
   "source": [
    "# load fine-tuning model\n",
    "from peft import AutoPeftModelForCausalLM\n",
    "ft_model = AutoPeftModelForCausalLM.from_pretrained(\"gpt2-medium-lora\")\n",
    "# ft_model.to(device)\n",
    "\n",
    "inputs = format_prompts(validation_ds)\n",
    "outputs = ft_model.generate(**inputs, do_sample=False, max_new_tokens=32, top_k=60, top_p=0.95, temperature=0.5, num_return_sequences=1)\n",
    "# generate anwsers\n",
    "generated_answers = [extract_answer(tokenizer.decode(output, skip_special_tokens=True)) for output in outputs]\n",
    "\n",
    "# display result\n",
    "for input, output, ans in zip(inputs['input_ids'], outputs, generated_answers):\n",
    "    print(\"\\n-------compare--------\")\n",
    "    print(f\"\\ninput:\\n{tokenizer.decode(input, skip_special_tokens=True)}\")\n",
    "    print(f\"\\nanswer:\\n{ans}\")"
   ]
  },
  {
   "cell_type": "markdown",
   "id": "16f3b387-72ce-4eaf-9528-e00e2b2af0d7",
   "metadata": {},
   "source": [
    "# Evaluation Metrics for Natural Language Processing Tasks"
   ]
  },
  {
   "cell_type": "markdown",
   "id": "d6a4a96e-baa0-4644-a76e-e0ecbc955150",
   "metadata": {},
   "source": [
    "## Overview of Common Metrics"
   ]
  },
  {
   "cell_type": "markdown",
   "id": "6a68bc04-3eb7-48ee-a5b6-122a383a0178",
   "metadata": {},
   "source": [
    "Note that these are commonly used metrics to evaluate the performance of NLP models:\n",
    "\n",
    "- **ROUGE score:** This requires a library like rouge-score.\n",
    "\n",
    "- **BLEU score:** This requires a library like nltk.\n",
    "\n",
    "**Important Note:** I have predicted the answers of the validation dataset only for the first 5 rows considering computational resource constraints. I have demonstrated the predictions via chatbot UI in detail."
   ]
  },
  {
   "cell_type": "code",
   "execution_count": 12,
   "id": "9b8e54b4-3b2d-4650-951f-bccd5906cd26",
   "metadata": {},
   "outputs": [
    {
     "name": "stderr",
     "output_type": "stream",
     "text": [
      "[nltk_data] Downloading package punkt_tab to /home/ravi/nltk_data...\n"
     ]
    },
    {
     "name": "stdout",
     "output_type": "stream",
     "text": [
      "\n",
      "Average scores for all answers:\n",
      "ROUGE-1: 0.29952152891804407\n",
      "ROUGE-2: 0.19516908067530164\n",
      "ROUGE-L: 0.29952152891804407\n",
      "BLEU: 0.02162601067591834\n"
     ]
    },
    {
     "name": "stderr",
     "output_type": "stream",
     "text": [
      "[nltk_data]   Package punkt_tab is already up-to-date!\n",
      "/home/ravi/Documents/my_projects/chatbot-using-gpt2-medium/jupyter_env/lib/python3.12/site-packages/nltk/translate/bleu_score.py:577: UserWarning: \n",
      "The hypothesis contains 0 counts of 3-gram overlaps.\n",
      "Therefore the BLEU score evaluates to 0, independently of\n",
      "how many N-gram overlaps of lower order it contains.\n",
      "Consider using lower n-gram order or use SmoothingFunction()\n",
      "  warnings.warn(_msg)\n",
      "/home/ravi/Documents/my_projects/chatbot-using-gpt2-medium/jupyter_env/lib/python3.12/site-packages/nltk/translate/bleu_score.py:577: UserWarning: \n",
      "The hypothesis contains 0 counts of 4-gram overlaps.\n",
      "Therefore the BLEU score evaluates to 0, independently of\n",
      "how many N-gram overlaps of lower order it contains.\n",
      "Consider using lower n-gram order or use SmoothingFunction()\n",
      "  warnings.warn(_msg)\n",
      "/home/ravi/Documents/my_projects/chatbot-using-gpt2-medium/jupyter_env/lib/python3.12/site-packages/nltk/translate/bleu_score.py:577: UserWarning: \n",
      "The hypothesis contains 0 counts of 2-gram overlaps.\n",
      "Therefore the BLEU score evaluates to 0, independently of\n",
      "how many N-gram overlaps of lower order it contains.\n",
      "Consider using lower n-gram order or use SmoothingFunction()\n",
      "  warnings.warn(_msg)\n"
     ]
    }
   ],
   "source": [
    "nltk.download('punkt_tab')\n",
    "\n",
    "rouge_1_scores = []\n",
    "rouge_2_scores = []\n",
    "rouge_l_scores = []\n",
    "bleu_scores = []\n",
    "\n",
    "# display result\n",
    "# for input, output, ans, reference in zip(inputs['input_ids'], outputs, generated_answers, validation_ds['answers']['text']):\n",
    "for input, output, ans, reference in zip(inputs['input_ids'], outputs, generated_answers, [answer['text'] for answer in validation_ds['answers']]):\n",
    "\n",
    "    reference = reference[0]\n",
    "    \n",
    "    # Calculate ROUGE score\n",
    "    rouge_scores = rouge.Rouge()\n",
    "    scores = rouge_scores.get_scores(ans, reference)\n",
    "    rouge_1_scores.append(scores[0]['rouge-1']['f'])\n",
    "    rouge_2_scores.append(scores[0]['rouge-2']['f'])\n",
    "    rouge_l_scores.append(scores[0]['rouge-l']['f'])\n",
    "\n",
    "    # Calculate BLEU score\n",
    "    reference_tokens = word_tokenize(reference)\n",
    "    answer_tokens = word_tokenize(ans)\n",
    "    bleu_score = sentence_bleu([reference_tokens], answer_tokens)\n",
    "    bleu_scores.append(bleu_score)\n",
    "\n",
    "# Calculate average scores\n",
    "avg_rouge_1 = sum(rouge_1_scores) / len(rouge_1_scores)\n",
    "avg_rouge_2 = sum(rouge_2_scores) / len(rouge_2_scores)\n",
    "avg_rouge_l = sum(rouge_l_scores) / len(rouge_l_scores)\n",
    "avg_bleu = sum(bleu_scores) / len(bleu_scores)\n",
    "\n",
    "print(\"\\nAverage scores for all answers:\")\n",
    "print(f\"ROUGE-1: {avg_rouge_1}\")\n",
    "print(f\"ROUGE-2: {avg_rouge_2}\")\n",
    "print(f\"ROUGE-L: {avg_rouge_l}\")\n",
    "print(f\"BLEU: {avg_bleu}\")"
   ]
  },
  {
   "cell_type": "markdown",
   "id": "e56a6cd6-6ee9-40d0-9a58-4c0dcbfa421d",
   "metadata": {},
   "source": [
    "# Data Visulaizations for this approach"
   ]
  },
  {
   "cell_type": "markdown",
   "id": "2bd12bb2-f206-484d-b636-14c3e011b9c6",
   "metadata": {},
   "source": [
    "## Actual Answers"
   ]
  },
  {
   "cell_type": "markdown",
   "id": "1e582ca1-bb86-4698-90af-a508b61f02f7",
   "metadata": {},
   "source": [
    "### This is just the display of how the actual answers are in the validation dataset"
   ]
  },
  {
   "cell_type": "code",
   "execution_count": 26,
   "id": "450be2f9-8067-4fe5-972f-4e627bbd3fb9",
   "metadata": {},
   "outputs": [
    {
     "data": {
      "text/plain": [
       "[['Denver Broncos', 'Denver Broncos', 'Denver Broncos'],\n",
       " ['Carolina Panthers', 'Carolina Panthers', 'Carolina Panthers'],\n",
       " ['Santa Clara, California',\n",
       "  \"Levi's Stadium\",\n",
       "  \"Levi's Stadium in the San Francisco Bay Area at Santa Clara, California.\"],\n",
       " ['Denver Broncos', 'Denver Broncos', 'Denver Broncos'],\n",
       " ['gold', 'gold', 'gold']]"
      ]
     },
     "execution_count": 26,
     "metadata": {},
     "output_type": "execute_result"
    }
   ],
   "source": [
    "original_answers = [answer['text'] for answer in validation_ds['answers']]\n",
    "original_answers"
   ]
  },
  {
   "cell_type": "markdown",
   "id": "e1882c86-0ba8-4757-aecc-6e6345bd1cff",
   "metadata": {},
   "source": [
    "## Predicted Answers"
   ]
  },
  {
   "cell_type": "code",
   "execution_count": null,
   "id": "9ec53732-f264-44b5-a771-1f57a862db20",
   "metadata": {},
   "outputs": [],
   "source": []
  },
  {
   "cell_type": "markdown",
   "id": "4909f801-fc90-49fa-af23-b541071406d0",
   "metadata": {},
   "source": [
    "### This is just the display of how the answers are predicted"
   ]
  },
  {
   "cell_type": "code",
   "execution_count": 25,
   "id": "167a0759-689a-42e7-b169-a7da2d6eeff6",
   "metadata": {},
   "outputs": [
    {
     "data": {
      "text/plain": [
       "['Answer:The Denver Broncos',\n",
       " 'Answer:The New England Patriots (NFC)',\n",
       " \"Answer:The game was played at Levi's Stadium in the San Francisco Bay Area at Santa Clara, California.\",\n",
       " 'Answer:The Denver Broncos (4-0) won the Super Bowl 50 championship game over the Carolina Panthers (2-2) in the NFC Championship Game. The Broncos',\n",
       " 'Answer:The color of the gold-colored helmet was gold. The color of the gold-colored helmet was gold.']"
      ]
     },
     "execution_count": 25,
     "metadata": {},
     "output_type": "execute_result"
    }
   ],
   "source": [
    "generated_answers"
   ]
  },
  {
   "cell_type": "markdown",
   "id": "2ecbc33e-875c-4439-b6c9-d83e00365e63",
   "metadata": {},
   "source": [
    "## Plot-1: Visualize the Evaluation Metrics post prediction"
   ]
  },
  {
   "cell_type": "markdown",
   "id": "e4be29eb-bb40-4a76-9ada-f785d9839bf0",
   "metadata": {},
   "source": [
    "This barplot depicts the values of bleu score, rouge-1, rouge-2 and rougel scores."
   ]
  },
  {
   "cell_type": "code",
   "execution_count": 14,
   "id": "5ebad6db-8d1f-4a5f-87d3-62f96a11631c",
   "metadata": {},
   "outputs": [
    {
     "name": "stderr",
     "output_type": "stream",
     "text": [
      "/tmp/ipykernel_5528/3721876537.py:7: FutureWarning: \n",
      "\n",
      "Passing `palette` without assigning `hue` is deprecated and will be removed in v0.14.0. Assign the `x` variable to `hue` and set `legend=False` for the same effect.\n",
      "\n",
      "  bar_plot = sns.barplot(x=labels, y=scores, palette=['blue', 'green', 'red', 'yellow'])\n"
     ]
    },
    {
     "data": {
      "image/png": "[encoded data removed]",
      "text/plain": [
       "<Figure size 1000x1600 with 1 Axes>"
      ]
     },
     "metadata": {},
     "output_type": "display_data"
    }
   ],
   "source": [
    "# Scores and labels\n",
    "scores = [avg_bleu, avg_rouge_1, avg_rouge_2, avg_rouge_l]\n",
    "labels = ['BLEU', 'ROUGE-1', 'ROUGE-2', 'ROUGE-L']\n",
    "\n",
    "# Plot for BLEU score, ROUGE-1, ROUGE-2 and ROUGE-L score\n",
    "plt.figure(figsize=(10, 16))\n",
    "bar_plot = sns.barplot(x=labels, y=scores, palette=['blue', 'green', 'red', 'yellow'])\n",
    "\n",
    "# Adding scores on top of each bar\n",
    "for index, value in enumerate(scores):\n",
    "    bar_plot.text(index, value + 0.01, f'{value:.2f}', ha='center', va='bottom')\n",
    "\n",
    "plt.title('Evaluation Metrics')\n",
    "plt.xlabel('Metric')\n",
    "plt.ylabel('Score')\n",
    "plt.show()"
   ]
  },
  {
   "cell_type": "markdown",
   "id": "56857eed-8635-4f9d-93f9-4bd893a6ff88",
   "metadata": {},
   "source": [
    "## Plot-2: Answers vs Predicted Answers"
   ]
  },
  {
   "cell_type": "markdown",
   "id": "8583e220-a18e-4fb5-9669-77874a3259f8",
   "metadata": {},
   "source": [
    "This plot depicts that all the 10570 answers from the validation dataset are predicted."
   ]
  },
  {
   "cell_type": "code",
   "execution_count": 20,
   "id": "0e81d01b-2f61-4141-abb2-a37061d56cf7",
   "metadata": {},
   "outputs": [
    {
     "data": {
      "image/png": "[encoded data removed]",
      "text/plain": [
       "<Figure size 400x400 with 1 Axes>"
      ]
     },
     "metadata": {},
     "output_type": "display_data"
    }
   ],
   "source": [
    "# Calculate the number of actual answers and predicted answers\n",
    "actual_ans = [answer['text'][0] for answer in validation_ds['answers']]\n",
    "actual_answers = len(actual_ans)\n",
    "predicted_answers = len(generated_answers)\n",
    "\n",
    "# Create a pie chart for the number of actual answers vs predicted answers\n",
    "plt.figure(figsize=(4, 4))\n",
    "plt.pie([actual_answers, predicted_answers], labels=['Actual Answers', 'Predicted Answers'], autopct='%1.1f%%')\n",
    "plt.title('Number of Actual Answers vs Predicted Answers')\n",
    "plt.show()"
   ]
  },
  {
   "cell_type": "markdown",
   "id": "a4870ed5-5cd1-459e-81cc-eea104c9b71d",
   "metadata": {},
   "source": [
    "## Plot-3: Distribution of Answer lengths"
   ]
  },
  {
   "cell_type": "markdown",
   "id": "3cd1068c-a1f1-4e7a-9108-82fe6aa433b7",
   "metadata": {},
   "source": [
    "This plot depicts the frequency distribution of answer lengths of Actual answers from validation dataset as well as Predicted answers."
   ]
  },
  {
   "cell_type": "code",
   "execution_count": 24,
   "id": "ee42b68b-e9f8-4f78-9d3c-43a17cdbbf31",
   "metadata": {},
   "outputs": [
    {
     "data": {
      "image/png": "[encoded data removed]",
      "text/plain": [
       "<Figure size 1000x600 with 1 Axes>"
      ]
     },
     "metadata": {},
     "output_type": "display_data"
    }
   ],
   "source": [
    "# Calculate the lengths of actual answers and predicted answers\n",
    "actual_answer_lengths = [len(answer.split()) for answer in actual_ans]\n",
    "predicted_answer_lengths = [len(answer.split()) for answer in generated_answers]\n",
    "\n",
    "# Create a distribution plot for the lengths of actual answers and predicted answers\n",
    "plt.figure(figsize=(10, 6))\n",
    "sns.histplot(actual_answer_lengths, bins=50, kde=True, color='blue', label='Actual Answers')\n",
    "sns.histplot(predicted_answer_lengths, bins=50, kde=True, color='green', label='Predicted Answers')\n",
    "plt.title('Distribution of Answer Lengths')\n",
    "plt.xlabel('Answer Length')\n",
    "plt.ylabel('Frequency')\n",
    "plt.legend()\n",
    "plt.show()"
   ]
  },
  {
   "cell_type": "markdown",
   "id": "99bc1486-d158-4b43-978f-996af25572d4",
   "metadata": {},
   "source": [
    "# Final Interpretations"
   ]
  },
  {
   "cell_type": "markdown",
   "id": "1f251726-491a-4351-84cd-0df30d2db416",
   "metadata": {},
   "source": [
    "## Overall Observations from this approach:**\n",
    "\n",
    "### Strengths:\n",
    "\n",
    "- As the requirement is to build the chatbot, we have to generate the text based answers for the context and question passed in. Considering the text generation point of view, ofcourse GPT stands out compared with BERT.\n",
    "- Based on the strength of the text generation, we considered GPT2-Medium which has 355M parameters, a transformer-based language model. This is a pretrained model in English language using a causal language modeling (CLM) objective.\n",
    "- We have directly applied tokenization to the text data.\n",
    "- We used LoRA technique because it adapts pre-trained models by introducing Low Rank Matrices and allow for efficient model tuning.\n",
    "This way, the number of params can also be reduced. Basically, it helps in improving performance with few resources.\n",
    "- And at the same time, we used PEFT because this framework helps in fine-tuning models with minimal params and computational resources can also be reduced.\n",
    "- Though we don't have sufficient computational resources, we were somehow able to achieve atleast these results because of using LoRA and PEFT techniques.\n",
    "- This model is running into issues/errors while executing in MacBooks. Hence, as a workaround, I trained and predicted this in an Ubuntu machine. We installed it as a virtual machine within the MacBook.\n",
    "- If you think in general text generation point of view, I have observed that this model has generated good amount of text by learning the context properly etc. etc.\n",
    "- Please be informed that usually such type of Question-Answering datasets does not qualify for a conversational chatbot that supports multi-turn conversations. But still, we had included the context-management as well as handling variety of topics. Let me explain them below.\n",
    "    - ***Context Management***: We trained this model in such a way that if you just set the context once and ask multiple questions one after the other, it will definitely answer your questions based on that context. If at all you wish to change the context, just change it and ask the questions accordingly.\n",
    "    - ***Handling Variety of topics***: Ofcourse we have handled this. Though we trained this using SQuAD dataset alone, even though you provide some random context from the internet and ask questions based on it, it will definitely answer your query.\n",
    "- We have splitted the train data alone into train and test for training. We made use of only the first 5 rows of the validation dataset to validate the trained model.\n",
    "- The trained GPT2-Medium model actually predicted more information than the required information. For example: let's says there is a question Where does the Sun rise?. The usual answer is **`East`**. But it predicted as **`The Sun rises in the East`**.\n",
    "- Let us take a look at the performance metrics scores of this model post predictions.\n",
    "    - ***ROUGE-1 (0.2995)***: Assesses the similarity of individual words (unigrams) in the produced text and the reference. A score of 0.2995 implies that approximately 29.95% of the individual words in the reference text are present in the generated output.\n",
    "\n",
    "    - ***ROUGE-2 (0.1952)***: Assesses the similarity of adjacent word pairs. A 0.1952 score means approximately 19.52% of the bigrams from the reference are found in the generated output.\n",
    "\n",
    "    - ***ROUGE-L (0.2995)***: Takes into account the longest common subsequence (LCS) between the produced output and the reference. The score indicates that approximately 29.95% of the reference's content is accounted for by the longest matching sequences.\n",
    "\n",
    "    Overall observation for ROUGE score is: the ROUGE scores indicate a moderate level of similarity between the generated responses and the reference answers, with better matching at the unigram level than at the bigram level.\n",
    "\n",
    "    - BLEU evaluates the accuracy of n-gram matching between the produced text and the reference. An overlap rate of 0.0216 (equivalent to around 2.16%) signifies a minimal similarity, indicating a substantial deviation in the generated responses compared to the reference answers in terms of exact n-gram matches.\n",
    "\n",
    "    - Because, if you see, for example: the actual answers in validation dataset have `['Denver Broncos', 'Denver Broncos', 'Denver Broncos']` where as the predicted answer looks like `The Denver Broncos`. This example might seem so small. But there are few rows in the validation dataset where the answers are bit lengthy and each index of the answer list have different words. Due to such reasons, along with using only the first 5 rows to predict, the ROUGE and BLEU scores were very low.\n",
    "\n",
    "### Pain points noticed and the tasks that were not performed:\n",
    "\n",
    "- The SQuAD dataset whatever we trained using the base GPT2-Medium model ***works very well in Linux/Ubuntu and Windows*** machines. But unfortunately, it does not work in ***MacBooks***. Due to time constraints, we could not spend on figuring out the issue behind not working in MacBook alone.\n",
    "- Due to the single directional context understanding, GPT2-medium model does not have good understanding of the the text patterns from SQuAD dataset, even though it is trained with millions of parameters.\n",
    "- We lost the accuracy and the answers that were being predicted, are not as expected as mentioned in the validation dataset.\n",
    "- We usually have `ans_start` and `ans_end` variables in the train set. We trained data on GPT2-Medium model without passing. This could also be one of the reasons, but it is not the main reason. And due to the text generation nature of GPT2-Medium model, we are unable to achieve as expected because the pattern provided in the validation dataset was completely unique and it has very very small amount of tokens in its `answer` column.\n",
    "- Due to computational resource and time constraints, we performed only the following items in minimal amount:\n",
    "    1. I could train only 3 epochs with sleepless nights with a low level GPU.\n",
    "    2. We validated the trained model using only the first 5 rows because, the trained model is not working in my MacBook. Hence, I installed an Ubuntu machine using virtual box in my Mac and that resource has so very minimum configuration. It consumed half of my MacBook configurations. One question took a minimum of 2 minutes to print its prediction.\n",
    "    3. As we validated only for the first 5 rows of the validation dataset, we had plotted the above visualizations for those 5 rows alone.\n",
    "    4. We achieved very less ROUGE and BLEU scores for validating only on the first rows, especially because of the computational constraints. Total reason is explained in the last point of the above section.\n",
    "    5. We are unable to provide more tweaking and training to the GPT2-Medium model.\n",
    "    6. We are unable to achieve multi-turn conversations feature because.\n",
    "\n",
    "### Future Improvement Suggestions:\n",
    "\n",
    "- The dataset used here is SQuAD, which is nothing but the Question-Answering datasets. In general point of view such datasets qualify for Q&A chatbots but not for conversational chatbots. I definitely wish to research on the multi-turn conversational part as well.\n",
    "- Try to train the model by passing `ans_start` and `ans_end` variables as well into the training module using GPT2-Medium model as well.\n",
    "- Investigate ***why this model is not working in MacBook and why only on Linux/Ubuntu and Windows machines?***.\n",
    "- Try obtaining some high computational power so that the validation can be perfectly done."
   ]
  },
  {
   "cell_type": "markdown",
   "id": "467af65f-0896-498e-9778-9f58db09707f",
   "metadata": {},
   "source": [
    "# Business Use-cases of this chatbot"
   ]
  },
  {
   "cell_type": "markdown",
   "id": "58452b2d-35ba-4fff-80fe-91439b9cb17e",
   "metadata": {},
   "source": [
    "Chatbots can be used in real-world at many places. Few use-cases would be:\n",
    "\n",
    "- 24*7 customer support to handle customer queries and guide in resolving the issues.\n",
    "- Automation of FAQs in any field.\n",
    "- Users can check the status of their eCommerce orders and get notified about shipping updates.\n",
    "- Users can get their banking informatione easily.\n",
    "- Help students with basic educational information.\n",
    "- Book online health consultations.\n",
    "- Chatbots can help astronauts and ground control by offering rapid access to mission information, schedules, and problem-solving guidelines. For example, they are able to access data on spacecraft systems or conduct simple calculations for navigation purposes.\n",
    "- Chatbots are utilized in streaming platforms to suggest songs, albums, or artists by considering user preferences and listening history. Additionally, they have the ability to recommend playlists tailored to certain emotions, tasks, or music styles.\n",
    "- Chatbots have the ability to communicate with robots in order to assist operators in managing or overseeing robotic systems. As an illustration, they are able to give status updates, manage motion, or carry out instructions in manufacturing industrial robots."
   ]
  }
 ],
 "metadata": {
  "kernelspec": {
   "display_name": "Python 3 (ipykernel)",
   "language": "python",
   "name": "python3"
  },
  "language_info": {
   "codemirror_mode": {
    "name": "ipython",
    "version": 3
   },
   "file_extension": ".py",
   "mimetype": "text/x-python",
   "name": "python",
   "nbconvert_exporter": "python",
   "pygments_lexer": "ipython3",
   "version": "3.10.4"
  }
 },
 "nbformat": 4,
 "nbformat_minor": 5
}
