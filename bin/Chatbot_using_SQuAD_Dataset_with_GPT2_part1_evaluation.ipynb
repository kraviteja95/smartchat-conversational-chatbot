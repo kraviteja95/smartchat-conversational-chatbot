{
 "cells": [
  {
   "cell_type": "markdown",
   "id": "eaa1e179",
   "metadata": {},
   "source": [
    "# Import necessary libraries"
   ]
  },
  {
   "cell_type": "code",
   "execution_count": 3,
   "id": "cd663254",
   "metadata": {},
   "outputs": [],
   "source": [
    "import torch\n",
    "import pandas as pd\n",
    "from datasets import load_dataset\n",
    "from sklearn.model_selection import train_test_split\n",
    "from transformers import GPT2LMHeadModel, GPT2Tokenizer\n",
    "from tqdm import tqdm"
   ]
  },
  {
   "cell_type": "markdown",
   "id": "a080ea00",
   "metadata": {},
   "source": [
    "# Call empty_cache to clear the unused memory allocated by PyTorch"
   ]
  },
  {
   "cell_type": "code",
   "execution_count": 37,
   "id": "3a02faf4",
   "metadata": {},
   "outputs": [
    {
     "name": "stdout",
     "output_type": "stream",
     "text": [
      "Deleted unuesed memory from Macbook MPS (GPU)\n"
     ]
    }
   ],
   "source": [
    "torch.mps.empty_cache()\n",
    "print(\"Deleted unuesed memory from Macbook MPS (GPU)\")"
   ]
  },
  {
   "cell_type": "markdown",
   "id": "65d97ba5",
   "metadata": {},
   "source": [
    "# Load pre-trained tokenizer"
   ]
  },
  {
   "cell_type": "code",
   "execution_count": 38,
   "id": "f35f0f57",
   "metadata": {},
   "outputs": [
    {
     "name": "stderr",
     "output_type": "stream",
     "text": [
      "/Library/Frameworks/Python.framework/Versions/3.10/lib/python3.10/site-packages/transformers/tokenization_utils_base.py:1617: FutureWarning: `clean_up_tokenization_spaces` was not set. It will be set to `True` by default. This behavior will be deprecated in transformers v4.45, and will be then set to `False` by default. For more details check this issue: https://github.com/huggingface/transformers/issues/31884\n",
      "  warnings.warn(\n"
     ]
    }
   ],
   "source": [
    "model_name = 'gpt2'\n",
    "tokenizer = GPT2Tokenizer.from_pretrained(model_name')"
   ]
  },
  {
   "cell_type": "markdown",
   "id": "1a46d2d8",
   "metadata": {},
   "source": [
    "# Find out the device (CPU or GPU) to evaluate the dataset"
   ]
  },
  {
   "cell_type": "code",
   "execution_count": 39,
   "id": "200461cf",
   "metadata": {},
   "outputs": [],
   "source": [
    "# device = torch.device(\"mps\" if torch.backends.mps.is_available() else \"cpu\")\n",
    "# print(f\"Using device '{device}' to train the model.\")"
   ]
  },
  {
   "cell_type": "markdown",
   "id": "8a6697a7",
   "metadata": {},
   "source": [
    "# Model Evaluation using Validation Dataset"
   ]
  },
  {
   "cell_type": "markdown",
   "id": "ba039e97",
   "metadata": {},
   "source": [
    "## Explore the structure of Validation Dataset before evaluation"
   ]
  },
  {
   "cell_type": "code",
   "execution_count": 40,
   "id": "5996f4c5",
   "metadata": {},
   "outputs": [],
   "source": [
    "# Fetch the validation dataset CSV file path\n",
    "dataset_common_path = \"/Users/ravkothu/Documents/Personal_items_at_Oracle/Master_Degree/University_of_San_Diego/Online_Masters/MS_in_Applied_AI/Subjects_and_Resources/AAI-520-A2_NLP/AAI-520-A2_Final_Team_Project/NLP_Datasets\"\n",
    "validation_df_path = f\"{dataset_common_path}/squad_extracted_validation.csv\"\n",
    "\n",
    "# Read validation dataset CSV file into a dataframe\n",
    "validation_df = pd.read_csv(validation_df_path)"
   ]
  },
  {
   "cell_type": "code",
   "execution_count": 41,
   "id": "e55444d6",
   "metadata": {},
   "outputs": [
    {
     "data": {
      "text/plain": [
       "(10570, 4)"
      ]
     },
     "execution_count": 41,
     "metadata": {},
     "output_type": "execute_result"
    }
   ],
   "source": [
    "# Shape of Valiation dataframe\n",
    "validation_df.shape"
   ]
  },
  {
   "cell_type": "code",
   "execution_count": 42,
   "id": "eaac2c99",
   "metadata": {},
   "outputs": [
    {
     "name": "stdout",
     "output_type": "stream",
     "text": [
      "<class 'pandas.core.frame.DataFrame'>\n",
      "RangeIndex: 10570 entries, 0 to 10569\n",
      "Data columns (total 4 columns):\n",
      " #   Column       Non-Null Count  Dtype \n",
      "---  ------       --------------  ----- \n",
      " 0   id           10570 non-null  object\n",
      " 1   title        10570 non-null  object\n",
      " 2   input_text   10570 non-null  object\n",
      " 3   target_text  10570 non-null  object\n",
      "dtypes: object(4)\n",
      "memory usage: 330.4+ KB\n"
     ]
    }
   ],
   "source": [
    "# Information about Valiation dataframe\n",
    "validation_df.info()"
   ]
  },
  {
   "cell_type": "code",
   "execution_count": 43,
   "id": "f1cd3906",
   "metadata": {},
   "outputs": [
    {
     "data": {
      "text/html": [
       "<div>\n",
       "<style scoped>\n",
       "    .dataframe tbody tr th:only-of-type {\n",
       "        vertical-align: middle;\n",
       "    }\n",
       "\n",
       "    .dataframe tbody tr th {\n",
       "        vertical-align: top;\n",
       "    }\n",
       "\n",
       "    .dataframe thead th {\n",
       "        text-align: right;\n",
       "    }\n",
       "</style>\n",
       "<table border=\"1\" class=\"dataframe\">\n",
       "  <thead>\n",
       "    <tr style=\"text-align: right;\">\n",
       "      <th></th>\n",
       "      <th>count</th>\n",
       "      <th>unique</th>\n",
       "      <th>top</th>\n",
       "      <th>freq</th>\n",
       "    </tr>\n",
       "  </thead>\n",
       "  <tbody>\n",
       "    <tr>\n",
       "      <th>id</th>\n",
       "      <td>10570</td>\n",
       "      <td>10570</td>\n",
       "      <td>56be4db0acb8001400a502ec</td>\n",
       "      <td>1</td>\n",
       "    </tr>\n",
       "    <tr>\n",
       "      <th>title</th>\n",
       "      <td>10570</td>\n",
       "      <td>48</td>\n",
       "      <td>Super_Bowl_50</td>\n",
       "      <td>810</td>\n",
       "    </tr>\n",
       "    <tr>\n",
       "      <th>input_text</th>\n",
       "      <td>10570</td>\n",
       "      <td>10541</td>\n",
       "      <td>['Question: Where did Maududi\\'s books place I...</td>\n",
       "      <td>2</td>\n",
       "    </tr>\n",
       "    <tr>\n",
       "      <th>target_text</th>\n",
       "      <td>10570</td>\n",
       "      <td>9543</td>\n",
       "      <td>['two', 'two', 'two']</td>\n",
       "      <td>22</td>\n",
       "    </tr>\n",
       "  </tbody>\n",
       "</table>\n",
       "</div>"
      ],
      "text/plain": [
       "             count unique                                                top  \\\n",
       "id           10570  10570                           56be4db0acb8001400a502ec   \n",
       "title        10570     48                                      Super_Bowl_50   \n",
       "input_text   10570  10541  ['Question: Where did Maududi\\'s books place I...   \n",
       "target_text  10570   9543                              ['two', 'two', 'two']   \n",
       "\n",
       "            freq  \n",
       "id             1  \n",
       "title        810  \n",
       "input_text     2  \n",
       "target_text   22  "
      ]
     },
     "execution_count": 43,
     "metadata": {},
     "output_type": "execute_result"
    }
   ],
   "source": [
    "# Description Valiation dataframe\n",
    "validation_df.describe().T"
   ]
  },
  {
   "cell_type": "code",
   "execution_count": 44,
   "id": "ae841adb",
   "metadata": {},
   "outputs": [
    {
     "data": {
      "text/html": [
       "<div>\n",
       "<style scoped>\n",
       "    .dataframe tbody tr th:only-of-type {\n",
       "        vertical-align: middle;\n",
       "    }\n",
       "\n",
       "    .dataframe tbody tr th {\n",
       "        vertical-align: top;\n",
       "    }\n",
       "\n",
       "    .dataframe thead th {\n",
       "        text-align: right;\n",
       "    }\n",
       "</style>\n",
       "<table border=\"1\" class=\"dataframe\">\n",
       "  <thead>\n",
       "    <tr style=\"text-align: right;\">\n",
       "      <th></th>\n",
       "      <th>id</th>\n",
       "      <th>title</th>\n",
       "      <th>input_text</th>\n",
       "      <th>target_text</th>\n",
       "    </tr>\n",
       "  </thead>\n",
       "  <tbody>\n",
       "    <tr>\n",
       "      <th>0</th>\n",
       "      <td>56be4db0acb8001400a502ec</td>\n",
       "      <td>Super_Bowl_50</td>\n",
       "      <td>['Question: Which NFL team represented the AFC...</td>\n",
       "      <td>['Denver Broncos', 'Denver Broncos', 'Denver B...</td>\n",
       "    </tr>\n",
       "    <tr>\n",
       "      <th>1</th>\n",
       "      <td>56be4db0acb8001400a502ed</td>\n",
       "      <td>Super_Bowl_50</td>\n",
       "      <td>['Question: Which NFL team represented the NFC...</td>\n",
       "      <td>['Carolina Panthers', 'Carolina Panthers', 'Ca...</td>\n",
       "    </tr>\n",
       "    <tr>\n",
       "      <th>2</th>\n",
       "      <td>56be4db0acb8001400a502ee</td>\n",
       "      <td>Super_Bowl_50</td>\n",
       "      <td>['Question: Where did Super Bowl 50 take place...</td>\n",
       "      <td>['Santa Clara, California', \"Levi's Stadium\", ...</td>\n",
       "    </tr>\n",
       "    <tr>\n",
       "      <th>3</th>\n",
       "      <td>56be4db0acb8001400a502ef</td>\n",
       "      <td>Super_Bowl_50</td>\n",
       "      <td>['Question: Which NFL team won Super Bowl 50? ...</td>\n",
       "      <td>['Denver Broncos', 'Denver Broncos', 'Denver B...</td>\n",
       "    </tr>\n",
       "    <tr>\n",
       "      <th>4</th>\n",
       "      <td>56be4db0acb8001400a502f0</td>\n",
       "      <td>Super_Bowl_50</td>\n",
       "      <td>['Question: What color was used to emphasize t...</td>\n",
       "      <td>['gold', 'gold', 'gold']</td>\n",
       "    </tr>\n",
       "  </tbody>\n",
       "</table>\n",
       "</div>"
      ],
      "text/plain": [
       "                         id          title  \\\n",
       "0  56be4db0acb8001400a502ec  Super_Bowl_50   \n",
       "1  56be4db0acb8001400a502ed  Super_Bowl_50   \n",
       "2  56be4db0acb8001400a502ee  Super_Bowl_50   \n",
       "3  56be4db0acb8001400a502ef  Super_Bowl_50   \n",
       "4  56be4db0acb8001400a502f0  Super_Bowl_50   \n",
       "\n",
       "                                          input_text  \\\n",
       "0  ['Question: Which NFL team represented the AFC...   \n",
       "1  ['Question: Which NFL team represented the NFC...   \n",
       "2  ['Question: Where did Super Bowl 50 take place...   \n",
       "3  ['Question: Which NFL team won Super Bowl 50? ...   \n",
       "4  ['Question: What color was used to emphasize t...   \n",
       "\n",
       "                                         target_text  \n",
       "0  ['Denver Broncos', 'Denver Broncos', 'Denver B...  \n",
       "1  ['Carolina Panthers', 'Carolina Panthers', 'Ca...  \n",
       "2  ['Santa Clara, California', \"Levi's Stadium\", ...  \n",
       "3  ['Denver Broncos', 'Denver Broncos', 'Denver B...  \n",
       "4                           ['gold', 'gold', 'gold']  "
      ]
     },
     "execution_count": 44,
     "metadata": {},
     "output_type": "execute_result"
    }
   ],
   "source": [
    "# First 5 rows of Valiation dataframe\n",
    "validation_df.head()"
   ]
  },
  {
   "cell_type": "code",
   "execution_count": 45,
   "id": "69413a48",
   "metadata": {},
   "outputs": [
    {
     "data": {
      "text/html": [
       "<div>\n",
       "<style scoped>\n",
       "    .dataframe tbody tr th:only-of-type {\n",
       "        vertical-align: middle;\n",
       "    }\n",
       "\n",
       "    .dataframe tbody tr th {\n",
       "        vertical-align: top;\n",
       "    }\n",
       "\n",
       "    .dataframe thead th {\n",
       "        text-align: right;\n",
       "    }\n",
       "</style>\n",
       "<table border=\"1\" class=\"dataframe\">\n",
       "  <thead>\n",
       "    <tr style=\"text-align: right;\">\n",
       "      <th></th>\n",
       "      <th>id</th>\n",
       "      <th>title</th>\n",
       "      <th>input_text</th>\n",
       "      <th>target_text</th>\n",
       "    </tr>\n",
       "  </thead>\n",
       "  <tbody>\n",
       "    <tr>\n",
       "      <th>10565</th>\n",
       "      <td>5737aafd1c456719005744fb</td>\n",
       "      <td>Force</td>\n",
       "      <td>['Question: What is the metric term less used ...</td>\n",
       "      <td>['kilogram-force', 'pound-force', 'kilogram-fo...</td>\n",
       "    </tr>\n",
       "    <tr>\n",
       "      <th>10566</th>\n",
       "      <td>5737aafd1c456719005744fc</td>\n",
       "      <td>Force</td>\n",
       "      <td>['Question: What is the kilogram-force sometim...</td>\n",
       "      <td>['kilopond', 'kilopond', 'kilopond', 'kilopond...</td>\n",
       "    </tr>\n",
       "    <tr>\n",
       "      <th>10567</th>\n",
       "      <td>5737aafd1c456719005744fd</td>\n",
       "      <td>Force</td>\n",
       "      <td>['Question: What is a very seldom used unit of...</td>\n",
       "      <td>['slug', 'metric slug', 'metric slug', 'metric...</td>\n",
       "    </tr>\n",
       "    <tr>\n",
       "      <th>10568</th>\n",
       "      <td>5737aafd1c456719005744fe</td>\n",
       "      <td>Force</td>\n",
       "      <td>['Question: What seldom used term of a unit of...</td>\n",
       "      <td>['kip', 'kip', 'kip', 'kip', 'kip']</td>\n",
       "    </tr>\n",
       "    <tr>\n",
       "      <th>10569</th>\n",
       "      <td>5737aafd1c456719005744ff</td>\n",
       "      <td>Force</td>\n",
       "      <td>['Question: What is the seldom used force unit...</td>\n",
       "      <td>['sthène', 'sthène', 'sthène', 'sthène', 'sthè...</td>\n",
       "    </tr>\n",
       "  </tbody>\n",
       "</table>\n",
       "</div>"
      ],
      "text/plain": [
       "                             id  title  \\\n",
       "10565  5737aafd1c456719005744fb  Force   \n",
       "10566  5737aafd1c456719005744fc  Force   \n",
       "10567  5737aafd1c456719005744fd  Force   \n",
       "10568  5737aafd1c456719005744fe  Force   \n",
       "10569  5737aafd1c456719005744ff  Force   \n",
       "\n",
       "                                              input_text  \\\n",
       "10565  ['Question: What is the metric term less used ...   \n",
       "10566  ['Question: What is the kilogram-force sometim...   \n",
       "10567  ['Question: What is a very seldom used unit of...   \n",
       "10568  ['Question: What seldom used term of a unit of...   \n",
       "10569  ['Question: What is the seldom used force unit...   \n",
       "\n",
       "                                             target_text  \n",
       "10565  ['kilogram-force', 'pound-force', 'kilogram-fo...  \n",
       "10566  ['kilopond', 'kilopond', 'kilopond', 'kilopond...  \n",
       "10567  ['slug', 'metric slug', 'metric slug', 'metric...  \n",
       "10568                ['kip', 'kip', 'kip', 'kip', 'kip']  \n",
       "10569  ['sthène', 'sthène', 'sthène', 'sthène', 'sthè...  "
      ]
     },
     "execution_count": 45,
     "metadata": {},
     "output_type": "execute_result"
    }
   ],
   "source": [
    "# Last 5 rows of Valiation dataframe\n",
    "validation_df.tail()"
   ]
  },
  {
   "cell_type": "code",
   "execution_count": 46,
   "id": "368b053e",
   "metadata": {},
   "outputs": [
    {
     "data": {
      "text/plain": [
       "id             0\n",
       "title          0\n",
       "input_text     0\n",
       "target_text    0\n",
       "dtype: int64"
      ]
     },
     "execution_count": 46,
     "metadata": {},
     "output_type": "execute_result"
    }
   ],
   "source": [
    "# Missing values in columns of Valiation dataframe\n",
    "validation_df_missing_values = validation_df.isnull().sum()\n",
    "validation_df_missing_values"
   ]
  },
  {
   "cell_type": "code",
   "execution_count": 47,
   "id": "b06a27ba",
   "metadata": {},
   "outputs": [
    {
     "name": "stdout",
     "output_type": "stream",
     "text": [
      "ID: 56be4db0acb8001400a502ec\n",
      "\n",
      "Title: Super_Bowl_50\n",
      "\n",
      "Input Text: ['Question: Which NFL team represented the AFC at Super Bowl 50? Context: Super Bowl 50 was an American football game to determine the champion of the National Football League (NFL) for the 2015 season. The American Football Conference (AFC) champion Denver Broncos defeated the National Football Conference (NFC) champion Carolina Panthers 24–10 to earn their third Super Bowl title. The game was played on February 7, 2016, at Levi\\'s Stadium in the San Francisco Bay Area at Santa Clara, California. As this was the 50th Super Bowl, the league emphasized the \"golden anniversary\" with various gold-themed initiatives, as well as temporarily suspending the tradition of naming each Super Bowl game with Roman numerals (under which the game would have been known as \"Super Bowl L\"), so that the logo could prominently feature the Arabic numerals 50.']\n",
      "\n",
      "Target Text: ['Denver Broncos', 'Denver Broncos', 'Denver Broncos']\n"
     ]
    }
   ],
   "source": [
    "# Access the first row of Valiation dataframe\n",
    "validation_df_first_row = validation_df.iloc[0]\n",
    "\n",
    "# Print each value separately\n",
    "print(f\"ID: {validation_df_first_row['id']}\\n\")\n",
    "print(f\"Title: {validation_df_first_row['title']}\\n\")\n",
    "print(f\"Input Text: {validation_df_first_row['input_text']}\\n\")\n",
    "print(f\"Target Text: {validation_df_first_row['target_text']}\")"
   ]
  },
  {
   "cell_type": "markdown",
   "id": "c3730a34",
   "metadata": {},
   "source": [
    "## Model Evaluation"
   ]
  },
  {
   "cell_type": "markdown",
   "id": "68aeef4d",
   "metadata": {},
   "source": [
    "### Load the saved model and its weights"
   ]
  },
  {
   "cell_type": "code",
   "execution_count": 48,
   "id": "d4fd8872",
   "metadata": {},
   "outputs": [
    {
     "name": "stderr",
     "output_type": "stream",
     "text": [
      "/var/folders/29/wr5r29rs1ndfm8mgdlwjclmh0000gn/T/ipykernel_7204/2905813262.py:5: FutureWarning: You are using `torch.load` with `weights_only=False` (the current default value), which uses the default pickle module implicitly. It is possible to construct malicious pickle data which will execute arbitrary code during unpickling (See https://github.com/pytorch/pytorch/blob/main/SECURITY.md#untrusted-models for more details). In a future release, the default value for `weights_only` will be flipped to `True`. This limits the functions that could be executed during unpickling. Arbitrary objects will no longer be allowed to be loaded via this mode unless they are explicitly allowlisted by the user via `torch.serialization.add_safe_globals`. We recommend you start setting `weights_only=True` for any use case where you don't have full control of the loaded file. Please open an issue on GitHub for any issues related to this experimental feature.\n",
      "  checkpoint = torch.load(model_path, map_location=device)\n"
     ]
    },
    {
     "name": "stdout",
     "output_type": "stream",
     "text": [
      "Trained model is loaded successfully\n"
     ]
    }
   ],
   "source": [
    "# Set device to CPU\n",
    "device = torch.device('cpu')\n",
    "\n",
    "model_path = \"/Users/ravkothu/Documents/Personal_items_at_Oracle/Master_Degree/University_of_San_Diego/Online_Masters/MS_in_Applied_AI/Subjects_and_Resources/AAI-520-A2_NLP/AAI-520-A2_Final_Team_Project/Chatbot_Code/model_checkpoints/final_model.pt\"\n",
    "checkpoint = torch.load(model_path, map_location=device)\n",
    "model = GPT2LMHeadModel.from_pretrained(model_name).to(device)\n",
    "model.load_state_dict(checkpoint['model_state_dict'])\n",
    "print(\"Trained model is loaded successfully\")"
   ]
  },
  {
   "cell_type": "markdown",
   "id": "9e1c0a14",
   "metadata": {},
   "source": [
    "### Put model in evaluation mode, tokenize the inputs, generate responses, calculate accuracy and print the results"
   ]
  },
  {
   "cell_type": "code",
   "execution_count": 55,
   "id": "e1907149",
   "metadata": {},
   "outputs": [
    {
     "name": "stderr",
     "output_type": "stream",
     "text": [
      "/Library/Frameworks/Python.framework/Versions/3.10/lib/python3.10/site-packages/transformers/tokenization_utils_base.py:1617: FutureWarning: `clean_up_tokenization_spaces` was not set. It will be set to `True` by default. This behavior will be deprecated in transformers v4.45, and will be then set to `False` by default. For more details check this issue: https://github.com/huggingface/transformers/issues/31884\n",
      "  warnings.warn(\n",
      "Evaluating:   0%|                                                                                    | 0/1 [00:00<?, ?it/s]"
     ]
    },
    {
     "name": "stdout",
     "output_type": "stream",
     "text": [
      "encodings:\n",
      "-------------------------\n",
      "{'input_ids': tensor([[50256, 50256, 50256,  ...,  2026,  2637,    60],\n",
      "        [50256, 50256, 50256,  ...,  2026,  2637,    60],\n",
      "        [50256, 50256, 50256,  ...,  2026,  2637,    60],\n",
      "        ...,\n",
      "        [50256, 50256, 50256,  ...,  2026,  2637,    60],\n",
      "        [50256, 50256, 50256,  ...,  2026,  2637,    60],\n",
      "        [50256, 50256, 50256,  ...,  2026,  2637,    60]]), 'attention_mask': tensor([[0, 0, 0,  ..., 1, 1, 1],\n",
      "        [0, 0, 0,  ..., 1, 1, 1],\n",
      "        [0, 0, 0,  ..., 1, 1, 1],\n",
      "        ...,\n",
      "        [0, 0, 0,  ..., 1, 1, 1],\n",
      "        [0, 0, 0,  ..., 1, 1, 1],\n",
      "        [0, 0, 0,  ..., 1, 1, 1]])}\n",
      "\n",
      "\n",
      "\n",
      "\n",
      "\n",
      "\n"
     ]
    },
    {
     "name": "stderr",
     "output_type": "stream",
     "text": [
      "Evaluating: 100%|████████████████████████████████████████████████████████████████████████████| 1/1 [00:14<00:00, 14.91s/it]"
     ]
    },
    {
     "name": "stdout",
     "output_type": "stream",
     "text": [
      "Outputs:\n",
      "-------------------------\n",
      "tensor([[50256, 50256, 50256,  ...,  2637,    60, 50256],\n",
      "        [50256, 50256, 50256,  ...,  2637,    60, 50256],\n",
      "        [50256, 50256, 50256,  ...,  2637,    60, 50256],\n",
      "        ...,\n",
      "        [50256, 50256, 50256,  ...,  2637,    60, 50256],\n",
      "        [50256, 50256, 50256,  ...,  2637,    60, 50256],\n",
      "        [50256, 50256, 50256,  ...,  2637,    60, 50256]])\n",
      "\n",
      "\n",
      "\n",
      "\n",
      "\n",
      "\n",
      "generated_texts:\n",
      "-----------------------------------\n",
      "['[\\'Question: Which NFL team represented the AFC at Super Bowl 50? Context: Super Bowl 50 was an American football game to determine the champion of the National Football League (NFL) for the 2015 season. The American Football Conference (AFC) champion Denver Broncos defeated the National Football Conference (NFC) champion Carolina Panthers 24–10 to earn their third Super Bowl title. The game was played on February 7, 2016, at Levi\\\\\\'s Stadium in the San Francisco Bay Area at Santa Clara, California. As this was the 50th Super Bowl, the league emphasized the \"golden anniversary\" with various gold-themed initiatives, as well as temporarily suspending the tradition of naming each Super Bowl game with Roman numerals (under which the game would have been known as \"Super Bowl L\"), so that the logo could prominently feature the Arabic numerals 50.\\']', '[\\'Question: Which NFL team represented the NFC at Super Bowl 50? Context: Super Bowl 50 was an American football game to determine the champion of the National Football League (NFL) for the 2015 season. The American Football Conference (AFC) champion Denver Broncos defeated the National Football Conference (NFC) champion Carolina Panthers 24–10 to earn their third Super Bowl title. The game was played on February 7, 2016, at Levi\\\\\\'s Stadium in the San Francisco Bay Area at Santa Clara, California. As this was the 50th Super Bowl, the league emphasized the \"golden anniversary\" with various gold-themed initiatives, as well as temporarily suspending the tradition of naming each Super Bowl game with Roman numerals (under which the game would have been known as \"Super Bowl L\"), so that the logo could prominently feature the Arabic numerals 50.\\']', '[\\'Question: Where did Super Bowl 50 take place? Context: Super Bowl 50 was an American football game to determine the champion of the National Football League (NFL) for the 2015 season. The American Football Conference (AFC) champion Denver Broncos defeated the National Football Conference (NFC) champion Carolina Panthers 24–10 to earn their third Super Bowl title. The game was played on February 7, 2016, at Levi\\\\\\'s Stadium in the San Francisco Bay Area at Santa Clara, California. As this was the 50th Super Bowl, the league emphasized the \"golden anniversary\" with various gold-themed initiatives, as well as temporarily suspending the tradition of naming each Super Bowl game with Roman numerals (under which the game would have been known as \"Super Bowl L\"), so that the logo could prominently feature the Arabic numerals 50.\\']', '[\\'Question: Which NFL team won Super Bowl 50? Context: Super Bowl 50 was an American football game to determine the champion of the National Football League (NFL) for the 2015 season. The American Football Conference (AFC) champion Denver Broncos defeated the National Football Conference (NFC) champion Carolina Panthers 24–10 to earn their third Super Bowl title. The game was played on February 7, 2016, at Levi\\\\\\'s Stadium in the San Francisco Bay Area at Santa Clara, California. As this was the 50th Super Bowl, the league emphasized the \"golden anniversary\" with various gold-themed initiatives, as well as temporarily suspending the tradition of naming each Super Bowl game with Roman numerals (under which the game would have been known as \"Super Bowl L\"), so that the logo could prominently feature the Arabic numerals 50.\\']', '[\\'Question: What color was used to emphasize the 50th anniversary of the Super Bowl? Context: Super Bowl 50 was an American football game to determine the champion of the National Football League (NFL) for the 2015 season. The American Football Conference (AFC) champion Denver Broncos defeated the National Football Conference (NFC) champion Carolina Panthers 24–10 to earn their third Super Bowl title. The game was played on February 7, 2016, at Levi\\\\\\'s Stadium in the San Francisco Bay Area at Santa Clara, California. As this was the 50th Super Bowl, the league emphasized the \"golden anniversary\" with various gold-themed initiatives, as well as temporarily suspending the tradition of naming each Super Bowl game with Roman numerals (under which the game would have been known as \"Super Bowl L\"), so that the logo could prominently feature the Arabic numerals 50.\\']', '[\\'Question: What was the theme of Super Bowl 50? Context: Super Bowl 50 was an American football game to determine the champion of the National Football League (NFL) for the 2015 season. The American Football Conference (AFC) champion Denver Broncos defeated the National Football Conference (NFC) champion Carolina Panthers 24–10 to earn their third Super Bowl title. The game was played on February 7, 2016, at Levi\\\\\\'s Stadium in the San Francisco Bay Area at Santa Clara, California. As this was the 50th Super Bowl, the league emphasized the \"golden anniversary\" with various gold-themed initiatives, as well as temporarily suspending the tradition of naming each Super Bowl game with Roman numerals (under which the game would have been known as \"Super Bowl L\"), so that the logo could prominently feature the Arabic numerals 50.\\']', '[\\'Question: What day was the game played on? Context: Super Bowl 50 was an American football game to determine the champion of the National Football League (NFL) for the 2015 season. The American Football Conference (AFC) champion Denver Broncos defeated the National Football Conference (NFC) champion Carolina Panthers 24–10 to earn their third Super Bowl title. The game was played on February 7, 2016, at Levi\\\\\\'s Stadium in the San Francisco Bay Area at Santa Clara, California. As this was the 50th Super Bowl, the league emphasized the \"golden anniversary\" with various gold-themed initiatives, as well as temporarily suspending the tradition of naming each Super Bowl game with Roman numerals (under which the game would have been known as \"Super Bowl L\"), so that the logo could prominently feature the Arabic numerals 50.\\']', '[\\'Question: What is the AFC short for? Context: Super Bowl 50 was an American football game to determine the champion of the National Football League (NFL) for the 2015 season. The American Football Conference (AFC) champion Denver Broncos defeated the National Football Conference (NFC) champion Carolina Panthers 24–10 to earn their third Super Bowl title. The game was played on February 7, 2016, at Levi\\\\\\'s Stadium in the San Francisco Bay Area at Santa Clara, California. As this was the 50th Super Bowl, the league emphasized the \"golden anniversary\" with various gold-themed initiatives, as well as temporarily suspending the tradition of naming each Super Bowl game with Roman numerals (under which the game would have been known as \"Super Bowl L\"), so that the logo could prominently feature the Arabic numerals 50.\\']']\n"
     ]
    },
    {
     "name": "stderr",
     "output_type": "stream",
     "text": [
      "\n"
     ]
    }
   ],
   "source": [
    "import ast\n",
    "\n",
    "# Put the loaded model in evaluation mode\n",
    "model.eval()\n",
    "\n",
    "# Load the tokenizer\n",
    "tokenizer = GPT2Tokenizer.from_pretrained(model_name)\n",
    "# Set padding to left\n",
    "tokenizer.padding_side = \"left\" \n",
    "# Set the padding token\n",
    "tokenizer.pad_token = tokenizer.eos_token\n",
    "\n",
    "# Function to generate responses in batches\n",
    "def generate_responses(input_texts, max_new_tokens=75, num_beams=5, no_repeat_ngram_size=0, early_stopping=True):\n",
    "    # Tokenize the input texts\n",
    "    encodings = tokenizer(\n",
    "        input_texts,\n",
    "        truncation=True,\n",
    "        padding='max_length',\n",
    "        return_tensors='pt',\n",
    "        max_length=512\n",
    "    ).to(device)\n",
    "    \n",
    "    print(\"encodings:\")\n",
    "    print(\"-\" * 25)\n",
    "    print(encodings)\n",
    "    print(\"\\n\\n\\n\\n\\n\")\n",
    "    \n",
    "    input_ids = encodings['input_ids']\n",
    "\n",
    "    # Generate outputs using beam search\n",
    "    outputs = model.generate(\n",
    "        input_ids,\n",
    "        max_new_tokens=max_new_tokens,\n",
    "        num_beams=num_beams,\n",
    "        no_repeat_ngram_size=no_repeat_ngram_size,\n",
    "        early_stopping=early_stopping,\n",
    "        pad_token_id=tokenizer.eos_token_id\n",
    "    )\n",
    "    \n",
    "    print(\"Outputs:\")\n",
    "    print(\"-\" * 25)\n",
    "    print(outputs)\n",
    "    print(\"\\n\\n\\n\\n\\n\")\n",
    "\n",
    "    # Decode the outputs to text\n",
    "    generated_texts = [tokenizer.decode(output, skip_special_tokens=True) for output in outputs]\n",
    "    print(\"generated_texts:\")\n",
    "    print(\"-\" * 35)\n",
    "    print(generated_texts)\n",
    "    \n",
    "    return generated_texts\n",
    "\n",
    "\n",
    "# Evaluate on the validation dataset in batches\n",
    "batch_size = 8\n",
    "validation_results = []\n",
    "\n",
    "for start_idx in tqdm(range(0, min(5, len(validation_df)), batch_size), desc=\"Evaluating\"):\n",
    "    end_idx = start_idx + batch_size\n",
    "    batch = validation_df.iloc[start_idx:end_idx]\n",
    "\n",
    "    input_texts = batch['input_text'].tolist()\n",
    "    \n",
    "    # Modify this line to handle list conversion correctly\n",
    "    target_texts = batch['target_text'].apply(lambda x: ast.literal_eval(x)[0] if isinstance(x, str) else x[0]).tolist()\n",
    "\n",
    "    # Generate responses for the batch\n",
    "    predicted_texts = generate_responses(input_texts)\n",
    "\n",
    "    for idx in range(len(batch)):\n",
    "        validation_results.append({\n",
    "            \"id\": batch.iloc[idx][\"id\"],\n",
    "            \"input_text\": input_texts[idx],\n",
    "            \"target_text\": target_texts[idx],\n",
    "            \"predicted_text\": predicted_texts[idx]\n",
    "        })"
   ]
  },
  {
   "cell_type": "code",
   "execution_count": 52,
   "id": "ddf15f5d",
   "metadata": {},
   "outputs": [
    {
     "name": "stdout",
     "output_type": "stream",
     "text": [
      "Validation Accuracy: 0.00%\n",
      "ID: 56be4db0acb8001400a502ec\n",
      "\n",
      "Input Text: ['Question: Which NFL team represented the AFC at Super Bowl 50? Context: Super Bowl 50 was an American football game to determine the champion of the National Football League (NFL) for the 2015 season. The American Football Conference (AFC) champion Denver Broncos defeated the National Football Conference (NFC) champion Carolina Panthers 24–10 to earn their third Super Bowl title. The game was played on February 7, 2016, at Levi\\'s Stadium in the San Francisco Bay Area at Santa Clara, California. As this was the 50th Super Bowl, the league emphasized the \"golden anniversary\" with various gold-themed initiatives, as well as temporarily suspending the tradition of naming each Super Bowl game with Roman numerals (under which the game would have been known as \"Super Bowl L\"), so that the logo could prominently feature the Arabic numerals 50.']\n",
      "\n",
      "Target Text: Denver Broncos\n",
      "\n",
      "Predicted Text: ['Question: Which NFL team represented the AFC at Super Bowl 50? Context: Super Bowl 50 was an American football game to determine the champion of the National Football League (NFL) for the 2015 season. The American Football Conference (AFC) champion Denver Broncos defeated the National Football Conference (NFC) champion Carolina Panthers 24–10 to earn their third Super Bowl title. The game was played on February 7, 2016, at Levi\\'s Stadium in the San Francisco Bay Area at Santa Clara, California. As this was the 50th Super Bowl, the league emphasized the \"golden anniversary\" with various gold-themed initiatives, as well as temporarily suspending the tradition of naming each Super Bowl game with Roman numerals (under which the game would have been known as \"Super Bowl L\"), so that the logo could prominently feature the Arabic numerals 50.']\n",
      "--------------------------------------------------\n"
     ]
    }
   ],
   "source": [
    "# Calculate Accuracy\n",
    "correct_predictions = sum(res['predicted_text'] == res['target_text'] for res in validation_results)\n",
    "accuracy = correct_predictions / len(validation_results)\n",
    "print(f\"Validation Accuracy: {accuracy * 100:.2f}%\")\n",
    "\n",
    "# # Display some results for qualitative evaluation\n",
    "for result in validation_results[0:1]:\n",
    "    print(f\"ID: {result['id']}\\n\")\n",
    "    print(f\"Input Text: {result['input_text']}\\n\")\n",
    "    print(f\"Target Text: {result['target_text']}\\n\")\n",
    "    print(f\"Predicted Text: {result['predicted_text']}\")\n",
    "    print(\"-\" * 50)"
   ]
  },
  {
   "cell_type": "code",
   "execution_count": null,
   "id": "69b8788b",
   "metadata": {},
   "outputs": [],
   "source": []
  }
 ],
 "metadata": {
  "kernelspec": {
   "display_name": "Python 3 (ipykernel)",
   "language": "python",
   "name": "python3"
  },
  "language_info": {
   "codemirror_mode": {
    "name": "ipython",
    "version": 3
   },
   "file_extension": ".py",
   "mimetype": "text/x-python",
   "name": "python",
   "nbconvert_exporter": "python",
   "pygments_lexer": "ipython3",
   "version": "3.10.4"
  }
 },
 "nbformat": 4,
 "nbformat_minor": 5
}
